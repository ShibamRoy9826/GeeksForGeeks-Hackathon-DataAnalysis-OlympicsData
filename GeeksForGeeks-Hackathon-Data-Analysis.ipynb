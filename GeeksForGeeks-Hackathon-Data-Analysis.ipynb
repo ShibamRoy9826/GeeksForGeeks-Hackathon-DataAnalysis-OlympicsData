{
 "cells": [
  {
   "cell_type": "markdown",
   "id": "72098a37",
   "metadata": {},
   "source": [
    "# GeeksForGeeks Data Analysis "
   ]
  },
  {
   "cell_type": "markdown",
   "id": "f19e4336",
   "metadata": {},
   "source": [
    "## All Imports"
   ]
  },
  {
   "cell_type": "code",
   "execution_count": 1,
   "id": "5cbbef73",
   "metadata": {},
   "outputs": [],
   "source": [
    "import pandas\n",
    "import numpy as np\n",
    "import seaborn as sns\n",
    "import requests\n",
    "from bs4 import BeautifulSoup"
   ]
  },
  {
   "cell_type": "markdown",
   "id": "cc962ca7",
   "metadata": {},
   "source": [
    "### -Importing Dataset"
   ]
  },
  {
   "cell_type": "code",
   "execution_count": 2,
   "id": "ed25cb81",
   "metadata": {},
   "outputs": [],
   "source": [
    "df=pandas.read_csv(\"medals.csv\")"
   ]
  },
  {
   "cell_type": "markdown",
   "id": "ad109f0d",
   "metadata": {},
   "source": [
    "## Exploring The Data"
   ]
  },
  {
   "cell_type": "code",
   "execution_count": 3,
   "id": "2d75b042",
   "metadata": {},
   "outputs": [
    {
     "data": {
      "text/plain": [
       "Index(['discipline_title', 'slug_game', 'event_title', 'event_gender',\n",
       "       'medal_type', 'participant_type', 'participant_title', 'athlete_url',\n",
       "       'athlete_full_name', 'country_name', 'country_code',\n",
       "       'country_3_letter_code'],\n",
       "      dtype='object')"
      ]
     },
     "execution_count": 3,
     "metadata": {},
     "output_type": "execute_result"
    }
   ],
   "source": [
    "df.columns"
   ]
  },
  {
   "cell_type": "code",
   "execution_count": 4,
   "id": "c0eba54e",
   "metadata": {},
   "outputs": [
    {
     "data": {
      "text/html": [
       "<div>\n",
       "<style scoped>\n",
       "    .dataframe tbody tr th:only-of-type {\n",
       "        vertical-align: middle;\n",
       "    }\n",
       "\n",
       "    .dataframe tbody tr th {\n",
       "        vertical-align: top;\n",
       "    }\n",
       "\n",
       "    .dataframe thead th {\n",
       "        text-align: right;\n",
       "    }\n",
       "</style>\n",
       "<table border=\"1\" class=\"dataframe\">\n",
       "  <thead>\n",
       "    <tr style=\"text-align: right;\">\n",
       "      <th></th>\n",
       "      <th>discipline_title</th>\n",
       "      <th>slug_game</th>\n",
       "      <th>event_title</th>\n",
       "      <th>event_gender</th>\n",
       "      <th>medal_type</th>\n",
       "      <th>participant_type</th>\n",
       "      <th>participant_title</th>\n",
       "      <th>athlete_url</th>\n",
       "      <th>athlete_full_name</th>\n",
       "      <th>country_name</th>\n",
       "      <th>country_code</th>\n",
       "      <th>country_3_letter_code</th>\n",
       "    </tr>\n",
       "  </thead>\n",
       "  <tbody>\n",
       "    <tr>\n",
       "      <th>0</th>\n",
       "      <td>Curling</td>\n",
       "      <td>beijing-2022</td>\n",
       "      <td>Mixed Doubles</td>\n",
       "      <td>Mixed</td>\n",
       "      <td>GOLD</td>\n",
       "      <td>GameTeam</td>\n",
       "      <td>Italy</td>\n",
       "      <td>https://olympics.com/en/athletes/stefania-cons...</td>\n",
       "      <td>Stefania CONSTANTINI</td>\n",
       "      <td>Italy</td>\n",
       "      <td>IT</td>\n",
       "      <td>ITA</td>\n",
       "    </tr>\n",
       "    <tr>\n",
       "      <th>1</th>\n",
       "      <td>Curling</td>\n",
       "      <td>beijing-2022</td>\n",
       "      <td>Mixed Doubles</td>\n",
       "      <td>Mixed</td>\n",
       "      <td>GOLD</td>\n",
       "      <td>GameTeam</td>\n",
       "      <td>Italy</td>\n",
       "      <td>https://olympics.com/en/athletes/amos-mosaner</td>\n",
       "      <td>Amos MOSANER</td>\n",
       "      <td>Italy</td>\n",
       "      <td>IT</td>\n",
       "      <td>ITA</td>\n",
       "    </tr>\n",
       "    <tr>\n",
       "      <th>2</th>\n",
       "      <td>Curling</td>\n",
       "      <td>beijing-2022</td>\n",
       "      <td>Mixed Doubles</td>\n",
       "      <td>Mixed</td>\n",
       "      <td>SILVER</td>\n",
       "      <td>GameTeam</td>\n",
       "      <td>Norway</td>\n",
       "      <td>https://olympics.com/en/athletes/kristin-skaslien</td>\n",
       "      <td>Kristin SKASLIEN</td>\n",
       "      <td>Norway</td>\n",
       "      <td>NO</td>\n",
       "      <td>NOR</td>\n",
       "    </tr>\n",
       "    <tr>\n",
       "      <th>3</th>\n",
       "      <td>Curling</td>\n",
       "      <td>beijing-2022</td>\n",
       "      <td>Mixed Doubles</td>\n",
       "      <td>Mixed</td>\n",
       "      <td>SILVER</td>\n",
       "      <td>GameTeam</td>\n",
       "      <td>Norway</td>\n",
       "      <td>https://olympics.com/en/athletes/magnus-nedreg...</td>\n",
       "      <td>Magnus NEDREGOTTEN</td>\n",
       "      <td>Norway</td>\n",
       "      <td>NO</td>\n",
       "      <td>NOR</td>\n",
       "    </tr>\n",
       "    <tr>\n",
       "      <th>4</th>\n",
       "      <td>Curling</td>\n",
       "      <td>beijing-2022</td>\n",
       "      <td>Mixed Doubles</td>\n",
       "      <td>Mixed</td>\n",
       "      <td>BRONZE</td>\n",
       "      <td>GameTeam</td>\n",
       "      <td>Sweden</td>\n",
       "      <td>https://olympics.com/en/athletes/almida-de-val</td>\n",
       "      <td>Almida DE VAL</td>\n",
       "      <td>Sweden</td>\n",
       "      <td>SE</td>\n",
       "      <td>SWE</td>\n",
       "    </tr>\n",
       "  </tbody>\n",
       "</table>\n",
       "</div>"
      ],
      "text/plain": [
       "  discipline_title     slug_game    event_title event_gender medal_type  \\\n",
       "0          Curling  beijing-2022  Mixed Doubles        Mixed       GOLD   \n",
       "1          Curling  beijing-2022  Mixed Doubles        Mixed       GOLD   \n",
       "2          Curling  beijing-2022  Mixed Doubles        Mixed     SILVER   \n",
       "3          Curling  beijing-2022  Mixed Doubles        Mixed     SILVER   \n",
       "4          Curling  beijing-2022  Mixed Doubles        Mixed     BRONZE   \n",
       "\n",
       "  participant_type participant_title  \\\n",
       "0         GameTeam             Italy   \n",
       "1         GameTeam             Italy   \n",
       "2         GameTeam            Norway   \n",
       "3         GameTeam            Norway   \n",
       "4         GameTeam            Sweden   \n",
       "\n",
       "                                         athlete_url     athlete_full_name  \\\n",
       "0  https://olympics.com/en/athletes/stefania-cons...  Stefania CONSTANTINI   \n",
       "1      https://olympics.com/en/athletes/amos-mosaner          Amos MOSANER   \n",
       "2  https://olympics.com/en/athletes/kristin-skaslien      Kristin SKASLIEN   \n",
       "3  https://olympics.com/en/athletes/magnus-nedreg...    Magnus NEDREGOTTEN   \n",
       "4     https://olympics.com/en/athletes/almida-de-val         Almida DE VAL   \n",
       "\n",
       "  country_name country_code country_3_letter_code  \n",
       "0        Italy           IT                   ITA  \n",
       "1        Italy           IT                   ITA  \n",
       "2       Norway           NO                   NOR  \n",
       "3       Norway           NO                   NOR  \n",
       "4       Sweden           SE                   SWE  "
      ]
     },
     "execution_count": 4,
     "metadata": {},
     "output_type": "execute_result"
    }
   ],
   "source": [
    "df.head()"
   ]
  },
  {
   "cell_type": "code",
   "execution_count": 5,
   "id": "644dfe29",
   "metadata": {},
   "outputs": [
    {
     "data": {
      "text/html": [
       "<div>\n",
       "<style scoped>\n",
       "    .dataframe tbody tr th:only-of-type {\n",
       "        vertical-align: middle;\n",
       "    }\n",
       "\n",
       "    .dataframe tbody tr th {\n",
       "        vertical-align: top;\n",
       "    }\n",
       "\n",
       "    .dataframe thead th {\n",
       "        text-align: right;\n",
       "    }\n",
       "</style>\n",
       "<table border=\"1\" class=\"dataframe\">\n",
       "  <thead>\n",
       "    <tr style=\"text-align: right;\">\n",
       "      <th></th>\n",
       "      <th>discipline_title</th>\n",
       "      <th>slug_game</th>\n",
       "      <th>event_title</th>\n",
       "      <th>event_gender</th>\n",
       "      <th>medal_type</th>\n",
       "      <th>participant_type</th>\n",
       "      <th>participant_title</th>\n",
       "      <th>athlete_url</th>\n",
       "      <th>athlete_full_name</th>\n",
       "      <th>country_name</th>\n",
       "      <th>country_code</th>\n",
       "      <th>country_3_letter_code</th>\n",
       "    </tr>\n",
       "  </thead>\n",
       "  <tbody>\n",
       "    <tr>\n",
       "      <th>count</th>\n",
       "      <td>21697</td>\n",
       "      <td>21697</td>\n",
       "      <td>21697</td>\n",
       "      <td>21697</td>\n",
       "      <td>21697</td>\n",
       "      <td>21697</td>\n",
       "      <td>6584</td>\n",
       "      <td>17027</td>\n",
       "      <td>18073</td>\n",
       "      <td>21697</td>\n",
       "      <td>20195</td>\n",
       "      <td>21697</td>\n",
       "    </tr>\n",
       "    <tr>\n",
       "      <th>unique</th>\n",
       "      <td>86</td>\n",
       "      <td>53</td>\n",
       "      <td>1436</td>\n",
       "      <td>4</td>\n",
       "      <td>3</td>\n",
       "      <td>2</td>\n",
       "      <td>493</td>\n",
       "      <td>12116</td>\n",
       "      <td>12895</td>\n",
       "      <td>154</td>\n",
       "      <td>143</td>\n",
       "      <td>154</td>\n",
       "    </tr>\n",
       "    <tr>\n",
       "      <th>top</th>\n",
       "      <td>Athletics</td>\n",
       "      <td>tokyo-2020</td>\n",
       "      <td>Individual men</td>\n",
       "      <td>Men</td>\n",
       "      <td>BRONZE</td>\n",
       "      <td>Athlete</td>\n",
       "      <td>United States team</td>\n",
       "      <td>https://olympics.com/en/athletes/michael-phelp...</td>\n",
       "      <td>Michael PHELPS</td>\n",
       "      <td>United States of America</td>\n",
       "      <td>US</td>\n",
       "      <td>USA</td>\n",
       "    </tr>\n",
       "    <tr>\n",
       "      <th>freq</th>\n",
       "      <td>3080</td>\n",
       "      <td>1188</td>\n",
       "      <td>215</td>\n",
       "      <td>13932</td>\n",
       "      <td>7529</td>\n",
       "      <td>15113</td>\n",
       "      <td>523</td>\n",
       "      <td>16</td>\n",
       "      <td>16</td>\n",
       "      <td>3094</td>\n",
       "      <td>3094</td>\n",
       "      <td>3094</td>\n",
       "    </tr>\n",
       "  </tbody>\n",
       "</table>\n",
       "</div>"
      ],
      "text/plain": [
       "       discipline_title   slug_game     event_title event_gender medal_type  \\\n",
       "count             21697       21697           21697        21697      21697   \n",
       "unique               86          53            1436            4          3   \n",
       "top           Athletics  tokyo-2020  Individual men          Men     BRONZE   \n",
       "freq               3080        1188             215        13932       7529   \n",
       "\n",
       "       participant_type   participant_title  \\\n",
       "count             21697                6584   \n",
       "unique                2                 493   \n",
       "top             Athlete  United States team   \n",
       "freq              15113                 523   \n",
       "\n",
       "                                              athlete_url athlete_full_name  \\\n",
       "count                                               17027             18073   \n",
       "unique                                              12116             12895   \n",
       "top     https://olympics.com/en/athletes/michael-phelp...    Michael PHELPS   \n",
       "freq                                                   16                16   \n",
       "\n",
       "                    country_name country_code country_3_letter_code  \n",
       "count                      21697        20195                 21697  \n",
       "unique                       154          143                   154  \n",
       "top     United States of America           US                   USA  \n",
       "freq                        3094         3094                  3094  "
      ]
     },
     "execution_count": 5,
     "metadata": {},
     "output_type": "execute_result"
    }
   ],
   "source": [
    "df.describe()"
   ]
  },
  {
   "cell_type": "markdown",
   "id": "71757df4",
   "metadata": {},
   "source": [
    "### -Checking For Possible Values Of Some Columns"
   ]
  },
  {
   "cell_type": "code",
   "execution_count": 6,
   "id": "ba0ccf23",
   "metadata": {},
   "outputs": [
    {
     "data": {
      "text/plain": [
       "{'Athlete', 'GameTeam'}"
      ]
     },
     "execution_count": 6,
     "metadata": {},
     "output_type": "execute_result"
    }
   ],
   "source": [
    "# possible values of participant_type\n",
    "set(df.participant_type)"
   ]
  },
  {
   "cell_type": "code",
   "execution_count": 7,
   "id": "08b42295",
   "metadata": {},
   "outputs": [
    {
     "data": {
      "text/plain": [
       "{'Men', 'Mixed', 'Open', 'Women'}"
      ]
     },
     "execution_count": 7,
     "metadata": {},
     "output_type": "execute_result"
    }
   ],
   "source": [
    "# possible values of event_gender\n",
    "set(df.event_gender)"
   ]
  },
  {
   "cell_type": "code",
   "execution_count": 8,
   "id": "f792447e",
   "metadata": {},
   "outputs": [
    {
     "data": {
      "text/plain": [
       "{'BRONZE', 'GOLD', 'SILVER'}"
      ]
     },
     "execution_count": 8,
     "metadata": {},
     "output_type": "execute_result"
    }
   ],
   "source": [
    "# possible values of medal_type\n",
    "set(df.medal_type)"
   ]
  },
  {
   "cell_type": "markdown",
   "id": "226c26d2",
   "metadata": {},
   "source": [
    "## Preprocessing The Data"
   ]
  },
  {
   "cell_type": "markdown",
   "id": "2eb26a51",
   "metadata": {},
   "source": [
    "### -Cleaning The Data"
   ]
  },
  {
   "cell_type": "code",
   "execution_count": 9,
   "id": "188ae926",
   "metadata": {},
   "outputs": [
    {
     "name": "stdout",
     "output_type": "stream",
     "text": [
      "participant_title\n",
      "athlete_url\n",
      "athlete_full_name\n",
      "country_code\n"
     ]
    }
   ],
   "source": [
    "# Checking for null values\n",
    "for i in df.columns:\n",
    "    if df[i].isnull().any():\n",
    "        print(i)"
   ]
  },
  {
   "cell_type": "code",
   "execution_count": 10,
   "id": "677badd9",
   "metadata": {},
   "outputs": [
    {
     "data": {
      "text/plain": [
       "15113"
      ]
     },
     "execution_count": 10,
     "metadata": {},
     "output_type": "execute_result"
    }
   ],
   "source": [
    "df['participant_title'].isnull().sum()"
   ]
  },
  {
   "cell_type": "code",
   "execution_count": 11,
   "id": "0adbc82f",
   "metadata": {},
   "outputs": [
    {
     "data": {
      "text/plain": [
       "21697"
      ]
     },
     "execution_count": 11,
     "metadata": {},
     "output_type": "execute_result"
    }
   ],
   "source": [
    "df['participant_title'].size"
   ]
  },
  {
   "cell_type": "code",
   "execution_count": 12,
   "id": "4da5a176",
   "metadata": {},
   "outputs": [
    {
     "data": {
      "text/plain": [
       "<Axes: >"
      ]
     },
     "execution_count": 12,
     "metadata": {},
     "output_type": "execute_result"
    },
    {
     "data": {
      "image/png": "[encoded data removed]",
      "text/plain": [
       "<Figure size 640x480 with 2 Axes>"
      ]
     },
     "metadata": {},
     "output_type": "display_data"
    }
   ],
   "source": [
    "# Checking all null values more clearly\n",
    "sns.heatmap(df.isnull())\n",
    "# We can fill up country codes later on as we have 3 letter code, so for now, we will ignore that and fix the others"
   ]
  },
  {
   "cell_type": "code",
   "execution_count": 13,
   "id": "38f7f6e2",
   "metadata": {},
   "outputs": [],
   "source": [
    "# common nulls between participant title and athlete full name and athlete url\n",
    "p_af_url=0\n",
    "# common nulls between participant title and athlete full name\n",
    "p_af=0\n",
    "# common nulls between participant title and athlete url\n",
    "p_url=0\n",
    "for i in df.index:\n",
    "    if str(df['participant_title'][i])==\"nan\" and str(df['athlete_full_name'][i])==\"nan\" and str(df['athlete_url'][i])==\"nan\":\n",
    "        p_af_url+=1\n",
    "    elif str(df['participant_title'][i])==\"nan\" and str(df['athlete_full_name'][i])==\"nan\":\n",
    "        p_af+=1\n",
    "    elif str(df['participant_title'][i])==\"nan\" and str(df['athlete_url'][i])==\"nan\":\n",
    "        p_url+=1  "
   ]
  },
  {
   "cell_type": "code",
   "execution_count": 14,
   "id": "68f0655b",
   "metadata": {},
   "outputs": [
    {
     "name": "stdout",
     "output_type": "stream",
     "text": [
      "0\n",
      "888\n",
      "0\n"
     ]
    }
   ],
   "source": [
    "print(p_af_url)\n",
    "print(p_url)\n",
    "print(p_af)"
   ]
  },
  {
   "cell_type": "markdown",
   "id": "7de1db29",
   "metadata": {},
   "source": [
    "### Filling up blank athlete_full_names with athlete_url"
   ]
  },
  {
   "cell_type": "code",
   "execution_count": 15,
   "id": "0d356fae",
   "metadata": {},
   "outputs": [],
   "source": [
    "def to_camel_case(text):\n",
    "    newString=\"\"\n",
    "    for ind,i in enumerate(text):\n",
    "        if ind==0:\n",
    "            newString+=i.upper()\n",
    "        else:\n",
    "            newString+=i\n",
    "    return newString\n",
    "\n",
    "# Athlete names\n",
    "for i in df.index:\n",
    "    athleteUrl=df['athlete_url'][i]\n",
    "    \n",
    "#     A reason is given below in the markdown for this\n",
    "    if type(athleteUrl)!=float and type(df['athlete_full_name'][i])==float:\n",
    "        \n",
    "#         Removing unnecessary parts\n",
    "        athleteUrl=athleteUrl.replace(\"https://olympics.com/en/athletes/\",\"\")\n",
    "        athleteUrl=athleteUrl.replace(\"-\",\" \")\n",
    "        athleteName=\"\"\n",
    "#         Working with string cases\n",
    "        athleteUrl=athleteUrl.split(\" \")\n",
    "#     Camel case\n",
    "        if len(athleteUrl)==1:\n",
    "            athleteName=to_camel_case(athleteUrl[0])\n",
    "        else:\n",
    "            \n",
    "            for ind,name in enumerate(athleteUrl):\n",
    "                if ind==0:\n",
    "                    athleteName+=to_camel_case(athleteUrl[0])+\" \"\n",
    "                else:\n",
    "#                     Capital case\n",
    "\n",
    "                    if ind!=len(athleteUrl)-1:\n",
    "                        athleteName+=name.upper()+\" \"\n",
    "                    else:\n",
    "                        athleteName+=name.upper()\n",
    "            \n",
    "#         print(athleteName)\n",
    "        df['athlete_full_name'][i]=athleteName        \n"
   ]
  },
  {
   "cell_type": "markdown",
   "id": "8955bd38",
   "metadata": {},
   "source": [
    "In the above code, we have mentioned a condition like \n",
    "#### if type(athleteUrl)!=float and type(df['athlete_full_name'][i])==float\n",
    "This suggests that we only want to fill up the athlete names which are not prefilled, and we also want to ignore the NULL urls"
   ]
  },
  {
   "cell_type": "code",
   "execution_count": 16,
   "id": "6afa9f32",
   "metadata": {},
   "outputs": [],
   "source": [
    "# Checking for any single word names (names without title)\n",
    "for i in df.index:\n",
    "    if type((df.athlete_full_name[i]))!=float:\n",
    "        if len(df.athlete_full_name[i].split(\" \"))==1:\n",
    "            print(i)\n",
    "# There are no such values"
   ]
  },
  {
   "cell_type": "markdown",
   "id": "14cbf431",
   "metadata": {},
   "source": [
    "### Filling up blank participant_titles with athlete_full_name"
   ]
  },
  {
   "cell_type": "code",
   "execution_count": 26,
   "id": "c8072843",
   "metadata": {},
   "outputs": [
    {
     "name": "stdout",
     "output_type": "stream",
     "text": [
      "0   Italy team\n",
      "1   Italy team\n",
      "2   Norway team\n",
      "3   Norway team\n",
      "4   Sweden team\n",
      "5   Sweden team\n",
      "6   Great Britain team\n",
      "7   Japan team\n",
      "8   Sweden team\n",
      "9   Sweden team\n",
      "10   Great Britain team\n",
      "11   Canada team\n",
      "12   Canada team\n",
      "13   Sweden team\n",
      "14   Japan team\n",
      "15   New Zealand team\n",
      "16   United States of America team\n",
      "17   United States of America team\n",
      "18   Sweden team\n",
      "19   Norway team\n",
      "20   United States of America team\n",
      "21   ROC team\n",
      "22   Switzerland team\n",
      "23   Switzerland team\n",
      "24   Switzerland team\n",
      "25   People's Republic of China team\n",
      "26   France team\n",
      "27   United States of America team\n",
      "28   Australia team\n",
      "29   ROC team\n",
      "30   United States team\n",
      "31   China team\n",
      "32   Canada team\n",
      "33   Canada team\n",
      "34   Sweden team\n",
      "35   Germany team\n",
      "36   ROC team\n",
      "37   People's Republic of China team\n",
      "38   Ukraine team\n",
      "39   Belarus team\n",
      "40   People's Republic of China team\n",
      "41   United States of America team\n",
      "42   Canada team\n",
      "43   People's Republic of China team\n",
      "44   Canada team\n",
      "45   People's Republic of China team\n",
      "46   Switzerland team\n",
      "47   Estonia team\n",
      "48   United States of America team\n",
      "49   Sweden team\n",
      "50   United States of America team\n",
      "51   Netherlands team\n",
      "52   Canada team\n",
      "53   Italy team\n",
      "54   Canada team\n",
      "55   Hungary team\n",
      "56   ROC team\n",
      "57   Canada team\n",
      "58   Republic of Korea team\n",
      "59   Italy team\n",
      "60   People's Republic of China team\n",
      "61   Italy team\n",
      "62   Hungary team\n",
      "63   ROC team\n",
      "64   Republic of Korea team\n",
      "65   Canada team\n",
      "66   People's Republic of China team\n",
      "67   People's Republic of China team\n",
      "68   Hungary team\n",
      "69   Netherlands team\n",
      "70   Republic of Korea team\n",
      "71   People's Republic of China team\n",
      "72   Netherlands team\n",
      "73   Republic of Korea team\n",
      "74   Belgium team\n",
      "75   Republic of Korea team\n",
      "76   Netherlands team\n",
      "77   Italy team\n",
      "78   Spain team\n",
      "79   Japan team\n",
      "80   United States of America team\n",
      "81   United States of America 1 team\n",
      "82   United States of America 1 team\n",
      "83   Italy 1 team\n",
      "84   Italy 1 team\n",
      "85   Canada 1 team\n",
      "86   Canada 1 team\n",
      "87   Canada team\n",
      "88   France team\n",
      "89   United States of America team\n",
      "90   Slovenia team\n",
      "91   Austria team\n",
      "92   ROC team\n",
      "93   Japan team\n",
      "94   New Zealand team\n",
      "95   Austria team\n",
      "96   Italy team\n",
      "97   Canada team\n",
      "98   Austria team\n",
      "99   Canada team\n",
      "100   People's Republic of China team\n",
      "101   Canada team\n",
      "102   Switzerland team\n",
      "103   Japan team\n",
      "104   Australia team\n",
      "105   Australia team\n",
      "106   United States of America team\n",
      "107   New Zealand team\n",
      "108   Austria team\n",
      "109   Czech Republic team\n",
      "110   Slovenia team\n",
      "111   Norway team\n",
      "112   People's Republic of China team\n",
      "113   Canada team\n",
      "114   Austria team\n",
      "115   Slovenia team\n",
      "116   Germany team\n",
      "117   Norway team\n",
      "118   Japan team\n",
      "119   Germany team\n",
      "120   Slovenia team\n",
      "121   ROC team\n",
      "122   Canada team\n",
      "123   Germany team\n",
      "124   Slovenia team\n",
      "125   Slovenia team\n",
      "126   Poland team\n",
      "127   Austria team\n",
      "128   Japan team\n",
      "129   ROC team\n",
      "130   ROC team\n",
      "131   United States of America team\n",
      "132   Japan team\n",
      "133   SUI Wenjing / HAN Cong\n",
      "134   SUI Wenjing / HAN Cong\n",
      "135   TARASOVA Evgenia / MOROZOV Vladimir\n",
      "136   TARASOVA Evgenia / MOROZOV Vladimir\n",
      "137   MISHINA Anastasia / GALLIAMOV Aleksandr\n",
      "138   MISHINA Anastasia / GALLIAMOV Aleksandr\n",
      "139   PAPADAKIS Gabriella / CIZERON Guillaume\n",
      "140   PAPADAKIS Gabriella / CIZERON Guillaume\n",
      "141   SINITSINA Victoria / KATSALAPOV Nikita\n",
      "142   SINITSINA Victoria / KATSALAPOV Nikita\n",
      "143   HUBBELL Madison / DONOHUE Zachary\n",
      "144   HUBBELL Madison / DONOHUE Zachary\n",
      "145   ROC team\n",
      "146   ROC team\n",
      "147   Japan team\n",
      "148   Japan team\n",
      "149   United States of America team\n",
      "150   Japan team\n",
      "151   Germany team\n",
      "152   Austria team\n",
      "153   Latvia team\n",
      "154   WENDL Tobias / ARLT Tobias\n",
      "155   WENDL Tobias / ARLT Tobias\n",
      "156   EGGERT Toni / BENECKEN Sascha\n",
      "157   EGGERT Toni / BENECKEN Sascha\n",
      "158   STEU Thomas / KOLLER Lorenz\n",
      "159   STEU Thomas / KOLLER Lorenz\n",
      "160   Austria team\n",
      "161   Germany team\n",
      "162   Italy team\n",
      "163   Germany team\n",
      "164   ROC team\n",
      "165   Germany team\n",
      "166   Finland team\n",
      "167   ROC team\n",
      "168   Slovakia team\n",
      "169   Canada team\n",
      "170   United States team\n",
      "171   Finland team\n",
      "172   France team\n",
      "173   Norway team\n",
      "174   ROC team\n",
      "175   Norway team\n",
      "176   France team\n",
      "177   ROC team\n",
      "178   Norway team\n",
      "179   France team\n",
      "180   Norway team\n",
      "181   Sweden team\n",
      "182   Norway team\n",
      "183   Norway team\n",
      "184   France team\n",
      "185   Norway team\n",
      "186   Norway team\n",
      "187   Sweden team\n",
      "188   Norway team\n",
      "189   Italy team\n",
      "190   Sweden team\n",
      "191   ROC team\n",
      "192   Germany team\n",
      "193   Sweden team\n",
      "194   Norway team\n",
      "195   Norway team\n",
      "196   Norway team\n",
      "197   Belarus team\n",
      "198   France team\n",
      "199   Norway team\n",
      "200   France team\n",
      "201   ROC team\n",
      "202   Germany team\n",
      "203   France team\n",
      "204   Norway team\n",
      "205   France team\n",
      "206   Austria team\n",
      "207   Norway team\n",
      "208   Switzerland team\n",
      "209   France team\n",
      "210   Austria team\n",
      "211   Austria team\n",
      "212   Switzerland team\n",
      "213   Switzerland team\n",
      "214   Austria team\n",
      "215   Norway team\n",
      "216   United States of America team\n",
      "217   Switzerland team\n",
      "218   Italy team\n",
      "219   Italy team\n",
      "220   Austria team\n",
      "221   Germany team\n",
      "222   Norway team\n",
      "223   Canada team\n",
      "224   Austria team\n",
      "225   Norway team\n",
      "226   France team\n",
      "227   Slovenia team\n",
      "228   Switzerland team\n",
      "229   Italy team\n",
      "230   Switzerland team\n",
      "231   Sweden team\n",
      "232   Italy team\n",
      "233   Switzerland team\n",
      "234   Switzerland team\n",
      "235   Slovakia team\n",
      "236   Switzerland team\n",
      "237   Austria team\n",
      "238   Australia team\n",
      "239   Germany team\n",
      "240   Netherlands team\n",
      "241   Germany team\n",
      "242   People's Republic of China team\n",
      "243   Germany team\n",
      "244   Sweden team\n",
      "245   United States of America team\n",
      "246   Sweden team\n",
      "247   Germany team\n",
      "248   Germany team\n",
      "249   Sweden team\n"
     ]
    }
   ],
   "source": [
    "count=0\n",
    "for i in df.index:\n",
    "    a=df.participant_title[i]\n",
    "    if type(a)!=float:\n",
    "        print(i,\" \",a)\n",
    "        count+=1\n",
    "    if count==250:\n",
    "        break\n",
    "        \n",
    "# We can see , we need to substitude the null values of participant_titles with country name + \" team\"\n",
    "# as we dont know whether its a duo or not, or what are their names."
   ]
  },
  {
   "cell_type": "code",
   "execution_count": 18,
   "id": "ebc58c01",
   "metadata": {},
   "outputs": [],
   "source": [
    "for i in df.index:\n",
    "    countryN=df.country_name[i]\n",
    "    if type(countryN)!=float and type(df.participant_title[i])==float:\n",
    "        df.participant_title[i]=countryN+\" team\"\n",
    "\n",
    "#     Also filling the rows which have country names but not the word \"team\"\n",
    "    if type(countryN)!=float:\n",
    "        if df.participant_title[i]!=float and \"/\" not in df.participant_title[i] and \"team\" not in df.participant_title[i]:\n",
    "            df.participant_title[i]+=\" team\"\n",
    "        "
   ]
  },
  {
   "cell_type": "code",
   "execution_count": 23,
   "id": "91c3c73f",
   "metadata": {},
   "outputs": [
    {
     "data": {
      "text/html": [
       "<div>\n",
       "<style scoped>\n",
       "    .dataframe tbody tr th:only-of-type {\n",
       "        vertical-align: middle;\n",
       "    }\n",
       "\n",
       "    .dataframe tbody tr th {\n",
       "        vertical-align: top;\n",
       "    }\n",
       "\n",
       "    .dataframe thead th {\n",
       "        text-align: right;\n",
       "    }\n",
       "</style>\n",
       "<table border=\"1\" class=\"dataframe\">\n",
       "  <thead>\n",
       "    <tr style=\"text-align: right;\">\n",
       "      <th></th>\n",
       "      <th>discipline_title</th>\n",
       "      <th>slug_game</th>\n",
       "      <th>event_title</th>\n",
       "      <th>event_gender</th>\n",
       "      <th>medal_type</th>\n",
       "      <th>participant_type</th>\n",
       "      <th>participant_title</th>\n",
       "      <th>athlete_url</th>\n",
       "      <th>athlete_full_name</th>\n",
       "      <th>country_name</th>\n",
       "      <th>country_code</th>\n",
       "      <th>country_3_letter_code</th>\n",
       "    </tr>\n",
       "  </thead>\n",
       "  <tbody>\n",
       "    <tr>\n",
       "      <th>0</th>\n",
       "      <td>Curling</td>\n",
       "      <td>beijing-2022</td>\n",
       "      <td>Mixed Doubles</td>\n",
       "      <td>Mixed</td>\n",
       "      <td>GOLD</td>\n",
       "      <td>GameTeam</td>\n",
       "      <td>Italy team</td>\n",
       "      <td>https://olympics.com/en/athletes/stefania-cons...</td>\n",
       "      <td>Stefania CONSTANTINI</td>\n",
       "      <td>Italy</td>\n",
       "      <td>IT</td>\n",
       "      <td>ITA</td>\n",
       "    </tr>\n",
       "    <tr>\n",
       "      <th>1</th>\n",
       "      <td>Curling</td>\n",
       "      <td>beijing-2022</td>\n",
       "      <td>Mixed Doubles</td>\n",
       "      <td>Mixed</td>\n",
       "      <td>GOLD</td>\n",
       "      <td>GameTeam</td>\n",
       "      <td>Italy team</td>\n",
       "      <td>https://olympics.com/en/athletes/amos-mosaner</td>\n",
       "      <td>Amos MOSANER</td>\n",
       "      <td>Italy</td>\n",
       "      <td>IT</td>\n",
       "      <td>ITA</td>\n",
       "    </tr>\n",
       "    <tr>\n",
       "      <th>2</th>\n",
       "      <td>Curling</td>\n",
       "      <td>beijing-2022</td>\n",
       "      <td>Mixed Doubles</td>\n",
       "      <td>Mixed</td>\n",
       "      <td>SILVER</td>\n",
       "      <td>GameTeam</td>\n",
       "      <td>Norway team</td>\n",
       "      <td>https://olympics.com/en/athletes/kristin-skaslien</td>\n",
       "      <td>Kristin SKASLIEN</td>\n",
       "      <td>Norway</td>\n",
       "      <td>NO</td>\n",
       "      <td>NOR</td>\n",
       "    </tr>\n",
       "    <tr>\n",
       "      <th>3</th>\n",
       "      <td>Curling</td>\n",
       "      <td>beijing-2022</td>\n",
       "      <td>Mixed Doubles</td>\n",
       "      <td>Mixed</td>\n",
       "      <td>SILVER</td>\n",
       "      <td>GameTeam</td>\n",
       "      <td>Norway team</td>\n",
       "      <td>https://olympics.com/en/athletes/magnus-nedreg...</td>\n",
       "      <td>Magnus NEDREGOTTEN</td>\n",
       "      <td>Norway</td>\n",
       "      <td>NO</td>\n",
       "      <td>NOR</td>\n",
       "    </tr>\n",
       "    <tr>\n",
       "      <th>4</th>\n",
       "      <td>Curling</td>\n",
       "      <td>beijing-2022</td>\n",
       "      <td>Mixed Doubles</td>\n",
       "      <td>Mixed</td>\n",
       "      <td>BRONZE</td>\n",
       "      <td>GameTeam</td>\n",
       "      <td>Sweden team</td>\n",
       "      <td>https://olympics.com/en/athletes/almida-de-val</td>\n",
       "      <td>Almida DE VAL</td>\n",
       "      <td>Sweden</td>\n",
       "      <td>SE</td>\n",
       "      <td>SWE</td>\n",
       "    </tr>\n",
       "  </tbody>\n",
       "</table>\n",
       "</div>"
      ],
      "text/plain": [
       "  discipline_title     slug_game    event_title event_gender medal_type  \\\n",
       "0          Curling  beijing-2022  Mixed Doubles        Mixed       GOLD   \n",
       "1          Curling  beijing-2022  Mixed Doubles        Mixed       GOLD   \n",
       "2          Curling  beijing-2022  Mixed Doubles        Mixed     SILVER   \n",
       "3          Curling  beijing-2022  Mixed Doubles        Mixed     SILVER   \n",
       "4          Curling  beijing-2022  Mixed Doubles        Mixed     BRONZE   \n",
       "\n",
       "  participant_type participant_title  \\\n",
       "0         GameTeam        Italy team   \n",
       "1         GameTeam        Italy team   \n",
       "2         GameTeam       Norway team   \n",
       "3         GameTeam       Norway team   \n",
       "4         GameTeam       Sweden team   \n",
       "\n",
       "                                         athlete_url     athlete_full_name  \\\n",
       "0  https://olympics.com/en/athletes/stefania-cons...  Stefania CONSTANTINI   \n",
       "1      https://olympics.com/en/athletes/amos-mosaner          Amos MOSANER   \n",
       "2  https://olympics.com/en/athletes/kristin-skaslien      Kristin SKASLIEN   \n",
       "3  https://olympics.com/en/athletes/magnus-nedreg...    Magnus NEDREGOTTEN   \n",
       "4     https://olympics.com/en/athletes/almida-de-val         Almida DE VAL   \n",
       "\n",
       "  country_name country_code country_3_letter_code  \n",
       "0        Italy           IT                   ITA  \n",
       "1        Italy           IT                   ITA  \n",
       "2       Norway           NO                   NOR  \n",
       "3       Norway           NO                   NOR  \n",
       "4       Sweden           SE                   SWE  "
      ]
     },
     "execution_count": 23,
     "metadata": {},
     "output_type": "execute_result"
    }
   ],
   "source": [
    "df.head()"
   ]
  },
  {
   "cell_type": "code",
   "execution_count": 20,
   "id": "ffd00679",
   "metadata": {},
   "outputs": [
    {
     "data": {
      "text/plain": [
       "3624"
      ]
     },
     "execution_count": 20,
     "metadata": {},
     "output_type": "execute_result"
    }
   ],
   "source": [
    "df['athlete_full_name'].isnull().sum()"
   ]
  },
  {
   "cell_type": "code",
   "execution_count": 22,
   "id": "012630ee",
   "metadata": {},
   "outputs": [
    {
     "data": {
      "text/plain": [
       "<Axes: >"
      ]
     },
     "execution_count": 22,
     "metadata": {},
     "output_type": "execute_result"
    },
    {
     "data": {
      "image/png": "[encoded data removed]",
      "text/plain": [
       "<Figure size 640x480 with 2 Axes>"
      ]
     },
     "metadata": {},
     "output_type": "display_data"
    }
   ],
   "source": [
    "# Using heatmap again to check the progress\n",
    "sns.heatmap(df.isnull())"
   ]
  },
  {
   "cell_type": "code",
   "execution_count": null,
   "id": "2bda0c72",
   "metadata": {},
   "outputs": [],
   "source": []
  },
  {
   "cell_type": "code",
   "execution_count": null,
   "id": "d6ad08bc",
   "metadata": {},
   "outputs": [],
   "source": []
  },
  {
   "cell_type": "code",
   "execution_count": null,
   "id": "784b26b8",
   "metadata": {},
   "outputs": [],
   "source": []
  },
  {
   "cell_type": "code",
   "execution_count": null,
   "id": "c9d593fa",
   "metadata": {},
   "outputs": [],
   "source": []
  },
  {
   "cell_type": "markdown",
   "id": "edea0188",
   "metadata": {},
   "source": [
    "## Team members:\n",
    "\n",
    "#### Shibam Roy \n",
    "role: Data Analyst\n",
    "#### Ankush Roy\n",
    "role: Data Analyst\n",
    "#### Debdutta Barman \n",
    "role: Frontend developer"
   ]
  }
 ],
 "metadata": {
  "kernelspec": {
   "display_name": "Python 3 (ipykernel)",
   "language": "python",
   "name": "python3"
  },
  "language_info": {
   "codemirror_mode": {
    "name": "ipython",
    "version": 3
   },
   "file_extension": ".py",
   "mimetype": "text/x-python",
   "name": "python",
   "nbconvert_exporter": "python",
   "pygments_lexer": "ipython3",
   "version": "3.9.13"
  }
 },
 "nbformat": 4,
 "nbformat_minor": 5
}
