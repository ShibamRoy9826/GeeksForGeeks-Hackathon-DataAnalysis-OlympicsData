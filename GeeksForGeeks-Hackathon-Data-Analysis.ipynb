{
 "cells": [
  {
   "cell_type": "markdown",
   "id": "72098a37",
   "metadata": {},
   "source": [
    "# GeeksForGeeks Data Analysis "
   ]
  },
  {
   "cell_type": "markdown",
   "id": "f19e4336",
   "metadata": {},
   "source": [
    "## All Imports"
   ]
  },
  {
   "cell_type": "code",
   "execution_count": 1,
   "id": "5cbbef73",
   "metadata": {},
   "outputs": [],
   "source": [
    "import pandas\n",
    "import numpy as np\n",
    "import seaborn as sns\n",
    "import requests\n",
    "from bs4 import BeautifulSoup\n",
    "import matplotlib.pyplot as plt"
   ]
  },
  {
   "cell_type": "markdown",
   "id": "cc962ca7",
   "metadata": {},
   "source": [
    "### -Importing Dataset"
   ]
  },
  {
   "cell_type": "code",
   "execution_count": 2,
   "id": "ed25cb81",
   "metadata": {},
   "outputs": [],
   "source": [
    "df=pandas.read_csv(\"medals.csv\")"
   ]
  },
  {
   "cell_type": "markdown",
   "id": "ad109f0d",
   "metadata": {},
   "source": [
    "## Exploring The Data"
   ]
  },
  {
   "cell_type": "code",
   "execution_count": 3,
   "id": "2d75b042",
   "metadata": {},
   "outputs": [
    {
     "data": {
      "text/plain": [
       "Index(['discipline_title', 'slug_game', 'event_title', 'event_gender',\n",
       "       'medal_type', 'participant_type', 'participant_title', 'athlete_url',\n",
       "       'athlete_full_name', 'country_name', 'country_code',\n",
       "       'country_3_letter_code'],\n",
       "      dtype='object')"
      ]
     },
     "execution_count": 3,
     "metadata": {},
     "output_type": "execute_result"
    }
   ],
   "source": [
    "df.columns"
   ]
  },
  {
   "cell_type": "code",
   "execution_count": 4,
   "id": "c0eba54e",
   "metadata": {},
   "outputs": [
    {
     "data": {
      "text/html": [
       "<div>\n",
       "<style scoped>\n",
       "    .dataframe tbody tr th:only-of-type {\n",
       "        vertical-align: middle;\n",
       "    }\n",
       "\n",
       "    .dataframe tbody tr th {\n",
       "        vertical-align: top;\n",
       "    }\n",
       "\n",
       "    .dataframe thead th {\n",
       "        text-align: right;\n",
       "    }\n",
       "</style>\n",
       "<table border=\"1\" class=\"dataframe\">\n",
       "  <thead>\n",
       "    <tr style=\"text-align: right;\">\n",
       "      <th></th>\n",
       "      <th>discipline_title</th>\n",
       "      <th>slug_game</th>\n",
       "      <th>event_title</th>\n",
       "      <th>event_gender</th>\n",
       "      <th>medal_type</th>\n",
       "      <th>participant_type</th>\n",
       "      <th>participant_title</th>\n",
       "      <th>athlete_url</th>\n",
       "      <th>athlete_full_name</th>\n",
       "      <th>country_name</th>\n",
       "      <th>country_code</th>\n",
       "      <th>country_3_letter_code</th>\n",
       "    </tr>\n",
       "  </thead>\n",
       "  <tbody>\n",
       "    <tr>\n",
       "      <th>0</th>\n",
       "      <td>Curling</td>\n",
       "      <td>beijing-2022</td>\n",
       "      <td>Mixed Doubles</td>\n",
       "      <td>Mixed</td>\n",
       "      <td>GOLD</td>\n",
       "      <td>GameTeam</td>\n",
       "      <td>Italy</td>\n",
       "      <td>https://olympics.com/en/athletes/stefania-cons...</td>\n",
       "      <td>Stefania CONSTANTINI</td>\n",
       "      <td>Italy</td>\n",
       "      <td>IT</td>\n",
       "      <td>ITA</td>\n",
       "    </tr>\n",
       "    <tr>\n",
       "      <th>1</th>\n",
       "      <td>Curling</td>\n",
       "      <td>beijing-2022</td>\n",
       "      <td>Mixed Doubles</td>\n",
       "      <td>Mixed</td>\n",
       "      <td>GOLD</td>\n",
       "      <td>GameTeam</td>\n",
       "      <td>Italy</td>\n",
       "      <td>https://olympics.com/en/athletes/amos-mosaner</td>\n",
       "      <td>Amos MOSANER</td>\n",
       "      <td>Italy</td>\n",
       "      <td>IT</td>\n",
       "      <td>ITA</td>\n",
       "    </tr>\n",
       "    <tr>\n",
       "      <th>2</th>\n",
       "      <td>Curling</td>\n",
       "      <td>beijing-2022</td>\n",
       "      <td>Mixed Doubles</td>\n",
       "      <td>Mixed</td>\n",
       "      <td>SILVER</td>\n",
       "      <td>GameTeam</td>\n",
       "      <td>Norway</td>\n",
       "      <td>https://olympics.com/en/athletes/kristin-skaslien</td>\n",
       "      <td>Kristin SKASLIEN</td>\n",
       "      <td>Norway</td>\n",
       "      <td>NO</td>\n",
       "      <td>NOR</td>\n",
       "    </tr>\n",
       "    <tr>\n",
       "      <th>3</th>\n",
       "      <td>Curling</td>\n",
       "      <td>beijing-2022</td>\n",
       "      <td>Mixed Doubles</td>\n",
       "      <td>Mixed</td>\n",
       "      <td>SILVER</td>\n",
       "      <td>GameTeam</td>\n",
       "      <td>Norway</td>\n",
       "      <td>https://olympics.com/en/athletes/magnus-nedreg...</td>\n",
       "      <td>Magnus NEDREGOTTEN</td>\n",
       "      <td>Norway</td>\n",
       "      <td>NO</td>\n",
       "      <td>NOR</td>\n",
       "    </tr>\n",
       "    <tr>\n",
       "      <th>4</th>\n",
       "      <td>Curling</td>\n",
       "      <td>beijing-2022</td>\n",
       "      <td>Mixed Doubles</td>\n",
       "      <td>Mixed</td>\n",
       "      <td>BRONZE</td>\n",
       "      <td>GameTeam</td>\n",
       "      <td>Sweden</td>\n",
       "      <td>https://olympics.com/en/athletes/almida-de-val</td>\n",
       "      <td>Almida DE VAL</td>\n",
       "      <td>Sweden</td>\n",
       "      <td>SE</td>\n",
       "      <td>SWE</td>\n",
       "    </tr>\n",
       "  </tbody>\n",
       "</table>\n",
       "</div>"
      ],
      "text/plain": [
       "  discipline_title     slug_game    event_title event_gender medal_type  \\\n",
       "0          Curling  beijing-2022  Mixed Doubles        Mixed       GOLD   \n",
       "1          Curling  beijing-2022  Mixed Doubles        Mixed       GOLD   \n",
       "2          Curling  beijing-2022  Mixed Doubles        Mixed     SILVER   \n",
       "3          Curling  beijing-2022  Mixed Doubles        Mixed     SILVER   \n",
       "4          Curling  beijing-2022  Mixed Doubles        Mixed     BRONZE   \n",
       "\n",
       "  participant_type participant_title  \\\n",
       "0         GameTeam             Italy   \n",
       "1         GameTeam             Italy   \n",
       "2         GameTeam            Norway   \n",
       "3         GameTeam            Norway   \n",
       "4         GameTeam            Sweden   \n",
       "\n",
       "                                         athlete_url     athlete_full_name  \\\n",
       "0  https://olympics.com/en/athletes/stefania-cons...  Stefania CONSTANTINI   \n",
       "1      https://olympics.com/en/athletes/amos-mosaner          Amos MOSANER   \n",
       "2  https://olympics.com/en/athletes/kristin-skaslien      Kristin SKASLIEN   \n",
       "3  https://olympics.com/en/athletes/magnus-nedreg...    Magnus NEDREGOTTEN   \n",
       "4     https://olympics.com/en/athletes/almida-de-val         Almida DE VAL   \n",
       "\n",
       "  country_name country_code country_3_letter_code  \n",
       "0        Italy           IT                   ITA  \n",
       "1        Italy           IT                   ITA  \n",
       "2       Norway           NO                   NOR  \n",
       "3       Norway           NO                   NOR  \n",
       "4       Sweden           SE                   SWE  "
      ]
     },
     "execution_count": 4,
     "metadata": {},
     "output_type": "execute_result"
    }
   ],
   "source": [
    "df.head()"
   ]
  },
  {
   "cell_type": "code",
   "execution_count": 5,
   "id": "644dfe29",
   "metadata": {},
   "outputs": [
    {
     "data": {
      "text/html": [
       "<div>\n",
       "<style scoped>\n",
       "    .dataframe tbody tr th:only-of-type {\n",
       "        vertical-align: middle;\n",
       "    }\n",
       "\n",
       "    .dataframe tbody tr th {\n",
       "        vertical-align: top;\n",
       "    }\n",
       "\n",
       "    .dataframe thead th {\n",
       "        text-align: right;\n",
       "    }\n",
       "</style>\n",
       "<table border=\"1\" class=\"dataframe\">\n",
       "  <thead>\n",
       "    <tr style=\"text-align: right;\">\n",
       "      <th></th>\n",
       "      <th>discipline_title</th>\n",
       "      <th>slug_game</th>\n",
       "      <th>event_title</th>\n",
       "      <th>event_gender</th>\n",
       "      <th>medal_type</th>\n",
       "      <th>participant_type</th>\n",
       "      <th>participant_title</th>\n",
       "      <th>athlete_url</th>\n",
       "      <th>athlete_full_name</th>\n",
       "      <th>country_name</th>\n",
       "      <th>country_code</th>\n",
       "      <th>country_3_letter_code</th>\n",
       "    </tr>\n",
       "  </thead>\n",
       "  <tbody>\n",
       "    <tr>\n",
       "      <th>count</th>\n",
       "      <td>21697</td>\n",
       "      <td>21697</td>\n",
       "      <td>21697</td>\n",
       "      <td>21697</td>\n",
       "      <td>21697</td>\n",
       "      <td>21697</td>\n",
       "      <td>6584</td>\n",
       "      <td>17027</td>\n",
       "      <td>18073</td>\n",
       "      <td>21697</td>\n",
       "      <td>20195</td>\n",
       "      <td>21697</td>\n",
       "    </tr>\n",
       "    <tr>\n",
       "      <th>unique</th>\n",
       "      <td>86</td>\n",
       "      <td>53</td>\n",
       "      <td>1436</td>\n",
       "      <td>4</td>\n",
       "      <td>3</td>\n",
       "      <td>2</td>\n",
       "      <td>493</td>\n",
       "      <td>12116</td>\n",
       "      <td>12895</td>\n",
       "      <td>154</td>\n",
       "      <td>143</td>\n",
       "      <td>154</td>\n",
       "    </tr>\n",
       "    <tr>\n",
       "      <th>top</th>\n",
       "      <td>Athletics</td>\n",
       "      <td>tokyo-2020</td>\n",
       "      <td>Individual men</td>\n",
       "      <td>Men</td>\n",
       "      <td>BRONZE</td>\n",
       "      <td>Athlete</td>\n",
       "      <td>United States team</td>\n",
       "      <td>https://olympics.com/en/athletes/michael-phelp...</td>\n",
       "      <td>Michael PHELPS</td>\n",
       "      <td>United States of America</td>\n",
       "      <td>US</td>\n",
       "      <td>USA</td>\n",
       "    </tr>\n",
       "    <tr>\n",
       "      <th>freq</th>\n",
       "      <td>3080</td>\n",
       "      <td>1188</td>\n",
       "      <td>215</td>\n",
       "      <td>13932</td>\n",
       "      <td>7529</td>\n",
       "      <td>15113</td>\n",
       "      <td>523</td>\n",
       "      <td>16</td>\n",
       "      <td>16</td>\n",
       "      <td>3094</td>\n",
       "      <td>3094</td>\n",
       "      <td>3094</td>\n",
       "    </tr>\n",
       "  </tbody>\n",
       "</table>\n",
       "</div>"
      ],
      "text/plain": [
       "       discipline_title   slug_game     event_title event_gender medal_type  \\\n",
       "count             21697       21697           21697        21697      21697   \n",
       "unique               86          53            1436            4          3   \n",
       "top           Athletics  tokyo-2020  Individual men          Men     BRONZE   \n",
       "freq               3080        1188             215        13932       7529   \n",
       "\n",
       "       participant_type   participant_title  \\\n",
       "count             21697                6584   \n",
       "unique                2                 493   \n",
       "top             Athlete  United States team   \n",
       "freq              15113                 523   \n",
       "\n",
       "                                              athlete_url athlete_full_name  \\\n",
       "count                                               17027             18073   \n",
       "unique                                              12116             12895   \n",
       "top     https://olympics.com/en/athletes/michael-phelp...    Michael PHELPS   \n",
       "freq                                                   16                16   \n",
       "\n",
       "                    country_name country_code country_3_letter_code  \n",
       "count                      21697        20195                 21697  \n",
       "unique                       154          143                   154  \n",
       "top     United States of America           US                   USA  \n",
       "freq                        3094         3094                  3094  "
      ]
     },
     "execution_count": 5,
     "metadata": {},
     "output_type": "execute_result"
    }
   ],
   "source": [
    "df.describe()"
   ]
  },
  {
   "cell_type": "markdown",
   "id": "71757df4",
   "metadata": {},
   "source": [
    "### -Checking For Possible Values Of Some Columns"
   ]
  },
  {
   "cell_type": "code",
   "execution_count": 6,
   "id": "ba0ccf23",
   "metadata": {},
   "outputs": [
    {
     "data": {
      "text/plain": [
       "{'Athlete', 'GameTeam'}"
      ]
     },
     "execution_count": 6,
     "metadata": {},
     "output_type": "execute_result"
    }
   ],
   "source": [
    "# possible values of participant_type\n",
    "set(df.participant_type)"
   ]
  },
  {
   "cell_type": "code",
   "execution_count": 7,
   "id": "08b42295",
   "metadata": {},
   "outputs": [
    {
     "data": {
      "text/plain": [
       "{'Men', 'Mixed', 'Open', 'Women'}"
      ]
     },
     "execution_count": 7,
     "metadata": {},
     "output_type": "execute_result"
    }
   ],
   "source": [
    "# possible values of event_gender\n",
    "set(df.event_gender)"
   ]
  },
  {
   "cell_type": "code",
   "execution_count": 8,
   "id": "f792447e",
   "metadata": {},
   "outputs": [
    {
     "data": {
      "text/plain": [
       "{'BRONZE', 'GOLD', 'SILVER'}"
      ]
     },
     "execution_count": 8,
     "metadata": {},
     "output_type": "execute_result"
    }
   ],
   "source": [
    "# possible values of medal_type\n",
    "set(df.medal_type)"
   ]
  },
  {
   "cell_type": "markdown",
   "id": "226c26d2",
   "metadata": {},
   "source": [
    "## Preprocessing The Data"
   ]
  },
  {
   "cell_type": "markdown",
   "id": "2eb26a51",
   "metadata": {},
   "source": [
    "### -Cleaning The Data"
   ]
  },
  {
   "cell_type": "code",
   "execution_count": 9,
   "id": "188ae926",
   "metadata": {},
   "outputs": [
    {
     "name": "stdout",
     "output_type": "stream",
     "text": [
      "participant_title\n",
      "athlete_url\n",
      "athlete_full_name\n",
      "country_code\n"
     ]
    }
   ],
   "source": [
    "# Checking for null values\n",
    "for i in df.columns:\n",
    "    if df[i].isnull().any():\n",
    "        print(i)"
   ]
  },
  {
   "cell_type": "code",
   "execution_count": 10,
   "id": "677badd9",
   "metadata": {},
   "outputs": [
    {
     "data": {
      "text/plain": [
       "15113"
      ]
     },
     "execution_count": 10,
     "metadata": {},
     "output_type": "execute_result"
    }
   ],
   "source": [
    "df['participant_title'].isnull().sum()"
   ]
  },
  {
   "cell_type": "code",
   "execution_count": 11,
   "id": "0adbc82f",
   "metadata": {},
   "outputs": [
    {
     "data": {
      "text/plain": [
       "21697"
      ]
     },
     "execution_count": 11,
     "metadata": {},
     "output_type": "execute_result"
    }
   ],
   "source": [
    "df['participant_title'].size"
   ]
  },
  {
   "cell_type": "code",
   "execution_count": 12,
   "id": "4da5a176",
   "metadata": {},
   "outputs": [
    {
     "data": {
      "text/plain": [
       "<Axes: >"
      ]
     },
     "execution_count": 12,
     "metadata": {},
     "output_type": "execute_result"
    },
    {
     "data": {
      "image/png": "[encoded data removed]",
      "text/plain": [
       "<Figure size 640x480 with 2 Axes>"
      ]
     },
     "metadata": {},
     "output_type": "display_data"
    }
   ],
   "source": [
    "# Checking all null values more clearly\n",
    "sns.heatmap(df.isnull())\n",
    "# We can fill up country codes later on as we have 3 letter code, so for now, we will ignore that and fix the others"
   ]
  },
  {
   "cell_type": "code",
   "execution_count": 13,
   "id": "38f7f6e2",
   "metadata": {},
   "outputs": [],
   "source": [
    "# common nulls between participant title and athlete full name and athlete url\n",
    "p_af_url=0\n",
    "# common nulls between participant title and athlete full name\n",
    "p_af=0\n",
    "# common nulls between participant title and athlete url\n",
    "p_url=0\n",
    "for i in df.index:\n",
    "    if str(df['participant_title'][i])==\"nan\" and str(df['athlete_full_name'][i])==\"nan\" and str(df['athlete_url'][i])==\"nan\":\n",
    "        p_af_url+=1\n",
    "    elif str(df['participant_title'][i])==\"nan\" and str(df['athlete_full_name'][i])==\"nan\":\n",
    "        p_af+=1\n",
    "    elif str(df['participant_title'][i])==\"nan\" and str(df['athlete_url'][i])==\"nan\":\n",
    "        p_url+=1  "
   ]
  },
  {
   "cell_type": "code",
   "execution_count": 14,
   "id": "68f0655b",
   "metadata": {},
   "outputs": [
    {
     "name": "stdout",
     "output_type": "stream",
     "text": [
      "0\n",
      "888\n",
      "0\n"
     ]
    }
   ],
   "source": [
    "print(p_af_url)\n",
    "print(p_url)\n",
    "print(p_af)"
   ]
  },
  {
   "cell_type": "markdown",
   "id": "7de1db29",
   "metadata": {},
   "source": [
    "### Filling up blank athlete_full_names with athlete_url"
   ]
  },
  {
   "cell_type": "code",
   "execution_count": 15,
   "id": "0d356fae",
   "metadata": {},
   "outputs": [],
   "source": [
    "def to_camel_case(text):\n",
    "    newString=\"\"\n",
    "    for ind,i in enumerate(text):\n",
    "        if ind==0:\n",
    "            newString+=i.upper()\n",
    "        else:\n",
    "            newString+=i\n",
    "    return newString\n",
    "\n",
    "# Athlete names\n",
    "for i in df.index:\n",
    "    athleteUrl=df['athlete_url'][i]\n",
    "    \n",
    "#     A reason is given below in the markdown for this\n",
    "    if type(athleteUrl)!=float and type(df['athlete_full_name'][i])==float:\n",
    "        \n",
    "#         Removing unnecessary parts\n",
    "        athleteUrl=athleteUrl.replace(\"https://olympics.com/en/athletes/\",\"\")\n",
    "        athleteUrl=athleteUrl.replace(\"-\",\" \")\n",
    "        athleteName=\"\"\n",
    "#         Working with string cases\n",
    "        athleteUrl=athleteUrl.split(\" \")\n",
    "#     Camel case\n",
    "        if len(athleteUrl)==1:\n",
    "            athleteName=to_camel_case(athleteUrl[0])\n",
    "        else:\n",
    "            \n",
    "            for ind,name in enumerate(athleteUrl):\n",
    "                if ind==0:\n",
    "                    athleteName+=to_camel_case(athleteUrl[0])+\" \"\n",
    "                else:\n",
    "#                     Capital case\n",
    "\n",
    "                    if ind!=len(athleteUrl)-1:\n",
    "                        athleteName+=name.upper()+\" \"\n",
    "                    else:\n",
    "                        athleteName+=name.upper()\n",
    "            \n",
    "#         print(athleteName)\n",
    "        df['athlete_full_name'][i]=athleteName        \n"
   ]
  },
  {
   "cell_type": "markdown",
   "id": "57fb3ef9",
   "metadata": {},
   "source": [
    "In the above code, we have mentioned a condition like \n",
    "```Python\n",
    "if type(athleteUrl)!=float and type(df['athlete_full_name'][i])==float\n",
    "```\n",
    "\n",
    "This suggests that we only want to fill up the athlete names which are not prefilled, and we also want to ignore the NULL urls"
   ]
  },
  {
   "cell_type": "code",
   "execution_count": 16,
   "id": "6afa9f32",
   "metadata": {},
   "outputs": [],
   "source": [
    "# Checking for any single word names (names without title)\n",
    "for i in df.index:\n",
    "    if type((df.athlete_full_name[i]))!=float:\n",
    "        if len(df.athlete_full_name[i].split(\" \"))==1:\n",
    "            print(i)\n",
    "# There are no such values"
   ]
  },
  {
   "cell_type": "markdown",
   "id": "0f3a3bbf",
   "metadata": {},
   "source": [
    "### Filling up blank participant_titles with athlete_full_name"
   ]
  },
  {
   "cell_type": "code",
   "execution_count": 17,
   "id": "f4f5b013",
   "metadata": {},
   "outputs": [
    {
     "name": "stdout",
     "output_type": "stream",
     "text": [
      "0   Italy\n",
      "1   Italy\n",
      "2   Norway\n",
      "3   Norway\n",
      "4   Sweden\n",
      "5   Sweden\n",
      "6   Great Britain\n",
      "7   Japan\n",
      "8   Sweden\n",
      "9   Sweden\n"
     ]
    }
   ],
   "source": [
    "count=0\n",
    "for i in df.index:\n",
    "    a=df.participant_title[i]\n",
    "    if type(a)!=float:\n",
    "        print(i,\" \",a)\n",
    "        count+=1\n",
    "#     to only display 10, so that doesn't make issues while reviewing in Github\n",
    "    if count==10:\n",
    "        break\n",
    "        \n",
    "# We can see , we need to substitude the null values of participant_titles with country name + \" team\"\n",
    "# as we dont know whether its a duo or not, or what are their names."
   ]
  },
  {
   "cell_type": "code",
   "execution_count": 18,
   "id": "b04825de",
   "metadata": {},
   "outputs": [],
   "source": [
    "for i in df.index:\n",
    "    countryN=df.country_name[i]\n",
    "    if type(countryN)!=float and type(df.participant_title[i])==float:\n",
    "        df.participant_title[i]=countryN+\" team\"\n",
    "\n",
    "#     Also filling the rows which have country names but not the word \"team\"\n",
    "    if type(countryN)!=float:\n",
    "        if df.participant_title[i]!=float and \"/\" not in df.participant_title[i] and \"team\" not in df.participant_title[i]:\n",
    "            df.participant_title[i]+=\" team\"\n",
    "        "
   ]
  },
  {
   "cell_type": "code",
   "execution_count": 19,
   "id": "2823ec4b",
   "metadata": {},
   "outputs": [
    {
     "data": {
      "text/html": [
       "<div>\n",
       "<style scoped>\n",
       "    .dataframe tbody tr th:only-of-type {\n",
       "        vertical-align: middle;\n",
       "    }\n",
       "\n",
       "    .dataframe tbody tr th {\n",
       "        vertical-align: top;\n",
       "    }\n",
       "\n",
       "    .dataframe thead th {\n",
       "        text-align: right;\n",
       "    }\n",
       "</style>\n",
       "<table border=\"1\" class=\"dataframe\">\n",
       "  <thead>\n",
       "    <tr style=\"text-align: right;\">\n",
       "      <th></th>\n",
       "      <th>discipline_title</th>\n",
       "      <th>slug_game</th>\n",
       "      <th>event_title</th>\n",
       "      <th>event_gender</th>\n",
       "      <th>medal_type</th>\n",
       "      <th>participant_type</th>\n",
       "      <th>participant_title</th>\n",
       "      <th>athlete_url</th>\n",
       "      <th>athlete_full_name</th>\n",
       "      <th>country_name</th>\n",
       "      <th>country_code</th>\n",
       "      <th>country_3_letter_code</th>\n",
       "    </tr>\n",
       "  </thead>\n",
       "  <tbody>\n",
       "    <tr>\n",
       "      <th>0</th>\n",
       "      <td>Curling</td>\n",
       "      <td>beijing-2022</td>\n",
       "      <td>Mixed Doubles</td>\n",
       "      <td>Mixed</td>\n",
       "      <td>GOLD</td>\n",
       "      <td>GameTeam</td>\n",
       "      <td>Italy team</td>\n",
       "      <td>https://olympics.com/en/athletes/stefania-cons...</td>\n",
       "      <td>Stefania CONSTANTINI</td>\n",
       "      <td>Italy</td>\n",
       "      <td>IT</td>\n",
       "      <td>ITA</td>\n",
       "    </tr>\n",
       "    <tr>\n",
       "      <th>1</th>\n",
       "      <td>Curling</td>\n",
       "      <td>beijing-2022</td>\n",
       "      <td>Mixed Doubles</td>\n",
       "      <td>Mixed</td>\n",
       "      <td>GOLD</td>\n",
       "      <td>GameTeam</td>\n",
       "      <td>Italy team</td>\n",
       "      <td>https://olympics.com/en/athletes/amos-mosaner</td>\n",
       "      <td>Amos MOSANER</td>\n",
       "      <td>Italy</td>\n",
       "      <td>IT</td>\n",
       "      <td>ITA</td>\n",
       "    </tr>\n",
       "    <tr>\n",
       "      <th>2</th>\n",
       "      <td>Curling</td>\n",
       "      <td>beijing-2022</td>\n",
       "      <td>Mixed Doubles</td>\n",
       "      <td>Mixed</td>\n",
       "      <td>SILVER</td>\n",
       "      <td>GameTeam</td>\n",
       "      <td>Norway team</td>\n",
       "      <td>https://olympics.com/en/athletes/kristin-skaslien</td>\n",
       "      <td>Kristin SKASLIEN</td>\n",
       "      <td>Norway</td>\n",
       "      <td>NO</td>\n",
       "      <td>NOR</td>\n",
       "    </tr>\n",
       "    <tr>\n",
       "      <th>3</th>\n",
       "      <td>Curling</td>\n",
       "      <td>beijing-2022</td>\n",
       "      <td>Mixed Doubles</td>\n",
       "      <td>Mixed</td>\n",
       "      <td>SILVER</td>\n",
       "      <td>GameTeam</td>\n",
       "      <td>Norway team</td>\n",
       "      <td>https://olympics.com/en/athletes/magnus-nedreg...</td>\n",
       "      <td>Magnus NEDREGOTTEN</td>\n",
       "      <td>Norway</td>\n",
       "      <td>NO</td>\n",
       "      <td>NOR</td>\n",
       "    </tr>\n",
       "    <tr>\n",
       "      <th>4</th>\n",
       "      <td>Curling</td>\n",
       "      <td>beijing-2022</td>\n",
       "      <td>Mixed Doubles</td>\n",
       "      <td>Mixed</td>\n",
       "      <td>BRONZE</td>\n",
       "      <td>GameTeam</td>\n",
       "      <td>Sweden team</td>\n",
       "      <td>https://olympics.com/en/athletes/almida-de-val</td>\n",
       "      <td>Almida DE VAL</td>\n",
       "      <td>Sweden</td>\n",
       "      <td>SE</td>\n",
       "      <td>SWE</td>\n",
       "    </tr>\n",
       "  </tbody>\n",
       "</table>\n",
       "</div>"
      ],
      "text/plain": [
       "  discipline_title     slug_game    event_title event_gender medal_type  \\\n",
       "0          Curling  beijing-2022  Mixed Doubles        Mixed       GOLD   \n",
       "1          Curling  beijing-2022  Mixed Doubles        Mixed       GOLD   \n",
       "2          Curling  beijing-2022  Mixed Doubles        Mixed     SILVER   \n",
       "3          Curling  beijing-2022  Mixed Doubles        Mixed     SILVER   \n",
       "4          Curling  beijing-2022  Mixed Doubles        Mixed     BRONZE   \n",
       "\n",
       "  participant_type participant_title  \\\n",
       "0         GameTeam        Italy team   \n",
       "1         GameTeam        Italy team   \n",
       "2         GameTeam       Norway team   \n",
       "3         GameTeam       Norway team   \n",
       "4         GameTeam       Sweden team   \n",
       "\n",
       "                                         athlete_url     athlete_full_name  \\\n",
       "0  https://olympics.com/en/athletes/stefania-cons...  Stefania CONSTANTINI   \n",
       "1      https://olympics.com/en/athletes/amos-mosaner          Amos MOSANER   \n",
       "2  https://olympics.com/en/athletes/kristin-skaslien      Kristin SKASLIEN   \n",
       "3  https://olympics.com/en/athletes/magnus-nedreg...    Magnus NEDREGOTTEN   \n",
       "4     https://olympics.com/en/athletes/almida-de-val         Almida DE VAL   \n",
       "\n",
       "  country_name country_code country_3_letter_code  \n",
       "0        Italy           IT                   ITA  \n",
       "1        Italy           IT                   ITA  \n",
       "2       Norway           NO                   NOR  \n",
       "3       Norway           NO                   NOR  \n",
       "4       Sweden           SE                   SWE  "
      ]
     },
     "execution_count": 19,
     "metadata": {},
     "output_type": "execute_result"
    }
   ],
   "source": [
    "df.head()"
   ]
  },
  {
   "cell_type": "code",
   "execution_count": 20,
   "id": "ffd00679",
   "metadata": {},
   "outputs": [
    {
     "data": {
      "text/plain": [
       "3624"
      ]
     },
     "execution_count": 20,
     "metadata": {},
     "output_type": "execute_result"
    }
   ],
   "source": [
    "df['athlete_full_name'].isnull().sum()"
   ]
  },
  {
   "cell_type": "code",
   "execution_count": 21,
   "id": "012630ee",
   "metadata": {},
   "outputs": [
    {
     "data": {
      "text/plain": [
       "<Axes: >"
      ]
     },
     "execution_count": 21,
     "metadata": {},
     "output_type": "execute_result"
    },
    {
     "data": {
      "image/png": "[encoded data removed]",
      "text/plain": [
       "<Figure size 640x480 with 2 Axes>"
      ]
     },
     "metadata": {},
     "output_type": "display_data"
    }
   ],
   "source": [
    "# Using heatmap again to check the progress\n",
    "sns.heatmap(df.isnull())"
   ]
  },
  {
   "cell_type": "markdown",
   "id": "e93273d5",
   "metadata": {},
   "source": [
    "### Dropping the athlete_url column"
   ]
  },
  {
   "cell_type": "code",
   "execution_count": 22,
   "id": "d8a09ef5",
   "metadata": {},
   "outputs": [],
   "source": [
    "df=df.drop(['athlete_url'],axis=1)"
   ]
  },
  {
   "cell_type": "markdown",
   "id": "64bac0ee",
   "metadata": {},
   "source": [
    "We dont need this column anymore as it can't give any insights to us, it can't be fixed either"
   ]
  },
  {
   "cell_type": "markdown",
   "id": "a2f950ba",
   "metadata": {},
   "source": [
    "### Filling country codes"
   ]
  },
  {
   "cell_type": "markdown",
   "id": "a1f488fa",
   "metadata": {},
   "source": [
    "We can observe , that some country names seem unique while they are not, for example \"ROC\" and \"Republic of China\" are same,\n",
    "so, we need to fill up such values"
   ]
  },
  {
   "cell_type": "code",
   "execution_count": 23,
   "id": "d3773346",
   "metadata": {},
   "outputs": [
    {
     "name": "stdout",
     "output_type": "stream",
     "text": [
      "{'Bohemia', 'Unified Team', 'United Arab Republic', 'Trinidad and Tobago', 'MIX', 'Lebanon', 'West Indies Federation', 'Olympic Athletes from Russia', 'Namibia', 'Australasia', 'Soviet Union'}\n"
     ]
    }
   ],
   "source": [
    "a=[]\n",
    "for i in df.index:\n",
    "    if type(df.country_code[i])==float:\n",
    "        a.append(df.country_name[i])\n",
    "print(set(a))"
   ]
  },
  {
   "cell_type": "markdown",
   "id": "d541504f",
   "metadata": {},
   "source": [
    "These country names have either changed or they are no longer a country or it is from a \"Mixed\" category\n",
    "So, we should update these values, with proper ones"
   ]
  },
  {
   "cell_type": "code",
   "execution_count": 24,
   "id": "21bbaa99",
   "metadata": {},
   "outputs": [],
   "source": [
    "toBeRemoved=[]\n",
    "for i in df.index:\n",
    "    name=df.country_name[i]\n",
    "    if \"People's Republic of China\"==name:\n",
    "        df.country_name[i]=\"China\"\n",
    "    elif \"Russian Federation\"==name or \"Olympic Athletes from Russia\"==name:\n",
    "        df.country_name[i]=\"Russia\"\n",
    "    elif \"Soviet Union\"==name or \"Unified Team\"==name:\n",
    "        df=df.drop(i)\n",
    "    elif \"Australasia\"==name:\n",
    "        df.country_name[i]=\"Australia\"\n",
    "    elif \"Trinidad and Tobago\"==name:\n",
    "        df.country_code[i]=\"TT\"\n",
    "    elif \"Namibia\" ==name:\n",
    "        df.country_code[i]=\"NA\"\n",
    "    elif \"Lebanon\"==name:\n",
    "        df.country_code[i]=\"LB\"\n",
    "    elif \"United Arab Republic\"==name:\n",
    "        df.country_name[i]=\"Egypt\"\n",
    "    elif \"Bohemia\"==name:\n",
    "        df.country_name[i]=\"Czech Republic\"\n",
    "    elif \"West Indies Federation\"==name or \"MIX\"==name:\n",
    "        df=df.drop(i)\n",
    "    "
   ]
  },
  {
   "cell_type": "markdown",
   "id": "7e7117ff",
   "metadata": {},
   "source": [
    "These indexes should be removed as they can't be fixed"
   ]
  },
  {
   "cell_type": "markdown",
   "id": "0ea72e96",
   "metadata": {},
   "source": [
    "The values are still not fixed , so we need to fix the rest of the values"
   ]
  },
  {
   "cell_type": "code",
   "execution_count": 25,
   "id": "cf3aa9ae",
   "metadata": {},
   "outputs": [],
   "source": [
    "b=[]\n",
    "for i in df.index:\n",
    "    if type(df.country_code[i])==float:\n",
    "        b.append(df.country_name[i])\n",
    "b=set(b)"
   ]
  },
  {
   "cell_type": "code",
   "execution_count": 26,
   "id": "2a5af741",
   "metadata": {},
   "outputs": [
    {
     "data": {
      "text/plain": [
       "{'Australia', 'Czech Republic', 'Egypt', 'Russia'}"
      ]
     },
     "execution_count": 26,
     "metadata": {},
     "output_type": "execute_result"
    }
   ],
   "source": [
    "b"
   ]
  },
  {
   "cell_type": "code",
   "execution_count": 27,
   "id": "072ce103",
   "metadata": {},
   "outputs": [],
   "source": [
    "# Dropping values and fixing other values\n",
    "for i in df.index:\n",
    "    if type(df.country_code[i])==float:\n",
    "        name=df.country_name[i]\n",
    "        if name==\"Australia\":\n",
    "            df.country_code[i]=\"AU\"\n",
    "        elif name==\"Czech Republic\":\n",
    "            df.country_code[i]=\"CZ\"\n",
    "        elif name==\"Egypt\":\n",
    "            df.country_code[i]=\"EG\"\n",
    "        elif name==\"Russia\":\n",
    "            df.country_code[i]=\"RU\"\n",
    "        else:\n",
    "            df=df.drop(i)"
   ]
  },
  {
   "cell_type": "markdown",
   "id": "b4a1fda4",
   "metadata": {},
   "source": [
    "### Checking for Null values again"
   ]
  },
  {
   "cell_type": "code",
   "execution_count": 28,
   "id": "e46dc8ac",
   "metadata": {},
   "outputs": [
    {
     "data": {
      "text/plain": [
       "<Axes: >"
      ]
     },
     "execution_count": 28,
     "metadata": {},
     "output_type": "execute_result"
    },
    {
     "data": {
      "image/png": "[encoded data removed]",
      "text/plain": [
       "<Figure size 640x480 with 2 Axes>"
      ]
     },
     "metadata": {},
     "output_type": "display_data"
    }
   ],
   "source": [
    "sns.heatmap(df.isnull())"
   ]
  },
  {
   "cell_type": "markdown",
   "id": "3e4212ac",
   "metadata": {},
   "source": [
    "As a final step of removal, we will remove all null athlete full name rows"
   ]
  },
  {
   "cell_type": "code",
   "execution_count": 29,
   "id": "1fab9200",
   "metadata": {},
   "outputs": [],
   "source": [
    "for i in df.index:\n",
    "    if type(df.athlete_full_name[i])==float:\n",
    "        df=df.drop(i)"
   ]
  },
  {
   "cell_type": "code",
   "execution_count": 30,
   "id": "a6d98fcc",
   "metadata": {},
   "outputs": [
    {
     "data": {
      "text/plain": [
       "discipline_title         0\n",
       "slug_game                0\n",
       "event_title              0\n",
       "event_gender             0\n",
       "medal_type               0\n",
       "participant_type         0\n",
       "participant_title        0\n",
       "athlete_full_name        0\n",
       "country_name             0\n",
       "country_code             0\n",
       "country_3_letter_code    0\n",
       "dtype: int64"
      ]
     },
     "execution_count": 30,
     "metadata": {},
     "output_type": "execute_result"
    }
   ],
   "source": [
    "df.isnull().sum()"
   ]
  },
  {
   "cell_type": "markdown",
   "id": "6fd27a5c",
   "metadata": {},
   "source": [
    "### There are Finally no more NULL values!"
   ]
  },
  {
   "cell_type": "markdown",
   "id": "bf73a8b5",
   "metadata": {},
   "source": [
    "### Checking for duplicates"
   ]
  },
  {
   "cell_type": "code",
   "execution_count": 31,
   "id": "f4fa7a26",
   "metadata": {},
   "outputs": [
    {
     "data": {
      "text/plain": [
       "0"
      ]
     },
     "execution_count": 31,
     "metadata": {},
     "output_type": "execute_result"
    }
   ],
   "source": [
    "df.duplicated().sum()\n",
    "# There are no duplicates"
   ]
  },
  {
   "cell_type": "markdown",
   "id": "3ce75638",
   "metadata": {},
   "source": [
    "We can now move to the next part, as there's no more cleaning work to do"
   ]
  },
  {
   "cell_type": "markdown",
   "id": "255ce5c8",
   "metadata": {},
   "source": [
    "## Feature engineering and more preprocessing"
   ]
  },
  {
   "cell_type": "markdown",
   "id": "1d7284ce",
   "metadata": {},
   "source": [
    "### Reindexing the data"
   ]
  },
  {
   "cell_type": "code",
   "execution_count": 32,
   "id": "05675eeb",
   "metadata": {},
   "outputs": [
    {
     "data": {
      "text/plain": [
       "Index([    0,     1,     2,     3,     4,     5,    12,    13,    14,    15,\n",
       "       ...\n",
       "       21685, 21688, 21689, 21690, 21691, 21692, 21693, 21694, 21695, 21696],\n",
       "      dtype='int64', length=16865)"
      ]
     },
     "execution_count": 32,
     "metadata": {},
     "output_type": "execute_result"
    }
   ],
   "source": [
    "df.index"
   ]
  },
  {
   "cell_type": "markdown",
   "id": "d99e01b7",
   "metadata": {},
   "source": [
    "As some points are removed , the indices are still not proper, so we should reindex the data"
   ]
  },
  {
   "cell_type": "code",
   "execution_count": 33,
   "id": "6a23cf5f",
   "metadata": {},
   "outputs": [],
   "source": [
    "indexes=[]\n",
    "for i in range(len(df.index)):\n",
    "    indexes.append(i)\n",
    "    \n",
    "df.index=pandas.Index(indexes)"
   ]
  },
  {
   "cell_type": "code",
   "execution_count": 34,
   "id": "8a6942ae",
   "metadata": {},
   "outputs": [
    {
     "data": {
      "text/plain": [
       "Index([    0,     1,     2,     3,     4,     5,     6,     7,     8,     9,\n",
       "       ...\n",
       "       16855, 16856, 16857, 16858, 16859, 16860, 16861, 16862, 16863, 16864],\n",
       "      dtype='int64', length=16865)"
      ]
     },
     "execution_count": 34,
     "metadata": {},
     "output_type": "execute_result"
    }
   ],
   "source": [
    "df.index"
   ]
  },
  {
   "cell_type": "markdown",
   "id": "9f73c057",
   "metadata": {},
   "source": [
    "### Adding a new  feature \"year\""
   ]
  },
  {
   "cell_type": "code",
   "execution_count": 35,
   "id": "34dc6738",
   "metadata": {},
   "outputs": [
    {
     "data": {
      "text/html": [
       "<div>\n",
       "<style scoped>\n",
       "    .dataframe tbody tr th:only-of-type {\n",
       "        vertical-align: middle;\n",
       "    }\n",
       "\n",
       "    .dataframe tbody tr th {\n",
       "        vertical-align: top;\n",
       "    }\n",
       "\n",
       "    .dataframe thead th {\n",
       "        text-align: right;\n",
       "    }\n",
       "</style>\n",
       "<table border=\"1\" class=\"dataframe\">\n",
       "  <thead>\n",
       "    <tr style=\"text-align: right;\">\n",
       "      <th></th>\n",
       "      <th>discipline_title</th>\n",
       "      <th>slug_game</th>\n",
       "      <th>event_title</th>\n",
       "      <th>event_gender</th>\n",
       "      <th>medal_type</th>\n",
       "      <th>participant_type</th>\n",
       "      <th>participant_title</th>\n",
       "      <th>athlete_full_name</th>\n",
       "      <th>country_name</th>\n",
       "      <th>country_code</th>\n",
       "      <th>country_3_letter_code</th>\n",
       "    </tr>\n",
       "  </thead>\n",
       "  <tbody>\n",
       "    <tr>\n",
       "      <th>0</th>\n",
       "      <td>Curling</td>\n",
       "      <td>beijing-2022</td>\n",
       "      <td>Mixed Doubles</td>\n",
       "      <td>Mixed</td>\n",
       "      <td>GOLD</td>\n",
       "      <td>GameTeam</td>\n",
       "      <td>Italy team</td>\n",
       "      <td>Stefania CONSTANTINI</td>\n",
       "      <td>Italy</td>\n",
       "      <td>IT</td>\n",
       "      <td>ITA</td>\n",
       "    </tr>\n",
       "    <tr>\n",
       "      <th>1</th>\n",
       "      <td>Curling</td>\n",
       "      <td>beijing-2022</td>\n",
       "      <td>Mixed Doubles</td>\n",
       "      <td>Mixed</td>\n",
       "      <td>GOLD</td>\n",
       "      <td>GameTeam</td>\n",
       "      <td>Italy team</td>\n",
       "      <td>Amos MOSANER</td>\n",
       "      <td>Italy</td>\n",
       "      <td>IT</td>\n",
       "      <td>ITA</td>\n",
       "    </tr>\n",
       "    <tr>\n",
       "      <th>2</th>\n",
       "      <td>Curling</td>\n",
       "      <td>beijing-2022</td>\n",
       "      <td>Mixed Doubles</td>\n",
       "      <td>Mixed</td>\n",
       "      <td>SILVER</td>\n",
       "      <td>GameTeam</td>\n",
       "      <td>Norway team</td>\n",
       "      <td>Kristin SKASLIEN</td>\n",
       "      <td>Norway</td>\n",
       "      <td>NO</td>\n",
       "      <td>NOR</td>\n",
       "    </tr>\n",
       "    <tr>\n",
       "      <th>3</th>\n",
       "      <td>Curling</td>\n",
       "      <td>beijing-2022</td>\n",
       "      <td>Mixed Doubles</td>\n",
       "      <td>Mixed</td>\n",
       "      <td>SILVER</td>\n",
       "      <td>GameTeam</td>\n",
       "      <td>Norway team</td>\n",
       "      <td>Magnus NEDREGOTTEN</td>\n",
       "      <td>Norway</td>\n",
       "      <td>NO</td>\n",
       "      <td>NOR</td>\n",
       "    </tr>\n",
       "    <tr>\n",
       "      <th>4</th>\n",
       "      <td>Curling</td>\n",
       "      <td>beijing-2022</td>\n",
       "      <td>Mixed Doubles</td>\n",
       "      <td>Mixed</td>\n",
       "      <td>BRONZE</td>\n",
       "      <td>GameTeam</td>\n",
       "      <td>Sweden team</td>\n",
       "      <td>Almida DE VAL</td>\n",
       "      <td>Sweden</td>\n",
       "      <td>SE</td>\n",
       "      <td>SWE</td>\n",
       "    </tr>\n",
       "  </tbody>\n",
       "</table>\n",
       "</div>"
      ],
      "text/plain": [
       "  discipline_title     slug_game    event_title event_gender medal_type  \\\n",
       "0          Curling  beijing-2022  Mixed Doubles        Mixed       GOLD   \n",
       "1          Curling  beijing-2022  Mixed Doubles        Mixed       GOLD   \n",
       "2          Curling  beijing-2022  Mixed Doubles        Mixed     SILVER   \n",
       "3          Curling  beijing-2022  Mixed Doubles        Mixed     SILVER   \n",
       "4          Curling  beijing-2022  Mixed Doubles        Mixed     BRONZE   \n",
       "\n",
       "  participant_type participant_title     athlete_full_name country_name  \\\n",
       "0         GameTeam        Italy team  Stefania CONSTANTINI        Italy   \n",
       "1         GameTeam        Italy team          Amos MOSANER        Italy   \n",
       "2         GameTeam       Norway team      Kristin SKASLIEN       Norway   \n",
       "3         GameTeam       Norway team    Magnus NEDREGOTTEN       Norway   \n",
       "4         GameTeam       Sweden team         Almida DE VAL       Sweden   \n",
       "\n",
       "  country_code country_3_letter_code  \n",
       "0           IT                   ITA  \n",
       "1           IT                   ITA  \n",
       "2           NO                   NOR  \n",
       "3           NO                   NOR  \n",
       "4           SE                   SWE  "
      ]
     },
     "execution_count": 35,
     "metadata": {},
     "output_type": "execute_result"
    }
   ],
   "source": [
    "df.head()"
   ]
  },
  {
   "cell_type": "code",
   "execution_count": 36,
   "id": "1172afe1",
   "metadata": {},
   "outputs": [],
   "source": [
    "Years=[]\n",
    "for i in df.index:\n",
    "    Years.append(int(df['slug_game'][i].split(\"-\")[-1]))"
   ]
  },
  {
   "cell_type": "code",
   "execution_count": 37,
   "id": "9a08cb91",
   "metadata": {},
   "outputs": [],
   "source": [
    "df['years']=Years"
   ]
  },
  {
   "cell_type": "code",
   "execution_count": 38,
   "id": "ed7d6ae4",
   "metadata": {},
   "outputs": [
    {
     "name": "stdout",
     "output_type": "stream",
     "text": [
      "1896 1900 1904 1908 1912 1920 1924 1928 1932 1936 1948 1952 1956 1960 1964 1968 1972 1976 1980 1984 1988 1992 1994 1996 1998 2000 2002 2004 2006 2008 2010 2012 2014 2016 2018 2020 2022 "
     ]
    }
   ],
   "source": [
    "for i in sorted(list(set(Years))):\n",
    "    print(i,end=\" \")\n",
    "# Using \" \" as an end so its easier to display"
   ]
  },
  {
   "cell_type": "markdown",
   "id": "7291f476",
   "metadata": {},
   "source": [
    "###  * So the given dataset contains data from `1896 - 2022`"
   ]
  },
  {
   "cell_type": "markdown",
   "id": "2a631c00",
   "metadata": {},
   "source": [
    "### Merging age data scraped from internet"
   ]
  },
  {
   "cell_type": "code",
   "execution_count": 39,
   "id": "1e0a01ad",
   "metadata": {},
   "outputs": [],
   "source": [
    "ageData=pandas.read_csv(\"finalname_year_age.csv\")"
   ]
  },
  {
   "cell_type": "code",
   "execution_count": 40,
   "id": "ac9dba3f",
   "metadata": {},
   "outputs": [
    {
     "data": {
      "text/html": [
       "<div>\n",
       "<style scoped>\n",
       "    .dataframe tbody tr th:only-of-type {\n",
       "        vertical-align: middle;\n",
       "    }\n",
       "\n",
       "    .dataframe tbody tr th {\n",
       "        vertical-align: top;\n",
       "    }\n",
       "\n",
       "    .dataframe thead th {\n",
       "        text-align: right;\n",
       "    }\n",
       "</style>\n",
       "<table border=\"1\" class=\"dataframe\">\n",
       "  <thead>\n",
       "    <tr style=\"text-align: right;\">\n",
       "      <th></th>\n",
       "      <th>name</th>\n",
       "      <th>birthyear</th>\n",
       "      <th>age</th>\n",
       "    </tr>\n",
       "  </thead>\n",
       "  <tbody>\n",
       "    <tr>\n",
       "      <th>0</th>\n",
       "      <td>stefania constantini</td>\n",
       "      <td>1999</td>\n",
       "      <td>24.0</td>\n",
       "    </tr>\n",
       "    <tr>\n",
       "      <th>1</th>\n",
       "      <td>amos mosaner</td>\n",
       "      <td>1995</td>\n",
       "      <td>28.0</td>\n",
       "    </tr>\n",
       "    <tr>\n",
       "      <th>2</th>\n",
       "      <td>kristin skaslien</td>\n",
       "      <td>1986</td>\n",
       "      <td>37.0</td>\n",
       "    </tr>\n",
       "    <tr>\n",
       "      <th>3</th>\n",
       "      <td>magnus nedregotten</td>\n",
       "      <td>1990</td>\n",
       "      <td>33.0</td>\n",
       "    </tr>\n",
       "    <tr>\n",
       "      <th>4</th>\n",
       "      <td>almida de val</td>\n",
       "      <td>1997</td>\n",
       "      <td>26.0</td>\n",
       "    </tr>\n",
       "  </tbody>\n",
       "</table>\n",
       "</div>"
      ],
      "text/plain": [
       "                   name birthyear   age\n",
       "0  stefania constantini      1999  24.0\n",
       "1          amos mosaner      1995  28.0\n",
       "2      kristin skaslien      1986  37.0\n",
       "3    magnus nedregotten      1990  33.0\n",
       "4         almida de val      1997  26.0"
      ]
     },
     "execution_count": 40,
     "metadata": {},
     "output_type": "execute_result"
    }
   ],
   "source": [
    "ageData.head()"
   ]
  },
  {
   "cell_type": "code",
   "execution_count": 41,
   "id": "74815d38",
   "metadata": {},
   "outputs": [
    {
     "name": "stdout",
     "output_type": "stream",
     "text": [
      "<class 'pandas.core.frame.DataFrame'>\n",
      "RangeIndex: 12116 entries, 0 to 12115\n",
      "Data columns (total 3 columns):\n",
      " #   Column     Non-Null Count  Dtype  \n",
      "---  ------     --------------  -----  \n",
      " 0   name       12116 non-null  object \n",
      " 1   birthyear  12116 non-null  object \n",
      " 2   age        11975 non-null  float64\n",
      "dtypes: float64(1), object(2)\n",
      "memory usage: 284.1+ KB\n"
     ]
    }
   ],
   "source": [
    "ageData.info()"
   ]
  },
  {
   "cell_type": "code",
   "execution_count": 42,
   "id": "fbea868e",
   "metadata": {},
   "outputs": [
    {
     "data": {
      "text/plain": [
       "name           0\n",
       "birthyear      0\n",
       "age          141\n",
       "dtype: int64"
      ]
     },
     "execution_count": 42,
     "metadata": {},
     "output_type": "execute_result"
    }
   ],
   "source": [
    "ageData.isnull().sum()"
   ]
  },
  {
   "cell_type": "markdown",
   "id": "eeb80ca5",
   "metadata": {},
   "source": [
    "141 null age values"
   ]
  },
  {
   "cell_type": "code",
   "execution_count": 43,
   "id": "7b057034",
   "metadata": {},
   "outputs": [
    {
     "data": {
      "text/plain": [
       "RangeIndex(start=0, stop=12116, step=1)"
      ]
     },
     "execution_count": 43,
     "metadata": {},
     "output_type": "execute_result"
    }
   ],
   "source": [
    "ageData.index"
   ]
  },
  {
   "cell_type": "markdown",
   "id": "708e1e65",
   "metadata": {},
   "source": [
    "So, there are about `12116-141=11975` values, we can calculate the nulls as a rough estimate"
   ]
  },
  {
   "cell_type": "code",
   "execution_count": 44,
   "id": "11a34394",
   "metadata": {},
   "outputs": [],
   "source": [
    "# Copying the names before changing the orginal data\n",
    "athleteNames=df['athlete_full_name']\n",
    "\n",
    "df['athlete_full_name'] = df['athlete_full_name'].apply(lambda x: x.lower())"
   ]
  },
  {
   "cell_type": "code",
   "execution_count": 45,
   "id": "cd6634c4",
   "metadata": {},
   "outputs": [
    {
     "data": {
      "text/html": [
       "<div>\n",
       "<style scoped>\n",
       "    .dataframe tbody tr th:only-of-type {\n",
       "        vertical-align: middle;\n",
       "    }\n",
       "\n",
       "    .dataframe tbody tr th {\n",
       "        vertical-align: top;\n",
       "    }\n",
       "\n",
       "    .dataframe thead th {\n",
       "        text-align: right;\n",
       "    }\n",
       "</style>\n",
       "<table border=\"1\" class=\"dataframe\">\n",
       "  <thead>\n",
       "    <tr style=\"text-align: right;\">\n",
       "      <th></th>\n",
       "      <th>discipline_title</th>\n",
       "      <th>slug_game</th>\n",
       "      <th>event_title</th>\n",
       "      <th>event_gender</th>\n",
       "      <th>medal_type</th>\n",
       "      <th>participant_type</th>\n",
       "      <th>participant_title</th>\n",
       "      <th>athlete_full_name</th>\n",
       "      <th>country_name</th>\n",
       "      <th>country_code</th>\n",
       "      <th>country_3_letter_code</th>\n",
       "      <th>years</th>\n",
       "    </tr>\n",
       "  </thead>\n",
       "  <tbody>\n",
       "    <tr>\n",
       "      <th>0</th>\n",
       "      <td>Curling</td>\n",
       "      <td>beijing-2022</td>\n",
       "      <td>Mixed Doubles</td>\n",
       "      <td>Mixed</td>\n",
       "      <td>GOLD</td>\n",
       "      <td>GameTeam</td>\n",
       "      <td>Italy team</td>\n",
       "      <td>stefania constantini</td>\n",
       "      <td>Italy</td>\n",
       "      <td>IT</td>\n",
       "      <td>ITA</td>\n",
       "      <td>2022</td>\n",
       "    </tr>\n",
       "    <tr>\n",
       "      <th>1</th>\n",
       "      <td>Curling</td>\n",
       "      <td>beijing-2022</td>\n",
       "      <td>Mixed Doubles</td>\n",
       "      <td>Mixed</td>\n",
       "      <td>GOLD</td>\n",
       "      <td>GameTeam</td>\n",
       "      <td>Italy team</td>\n",
       "      <td>amos mosaner</td>\n",
       "      <td>Italy</td>\n",
       "      <td>IT</td>\n",
       "      <td>ITA</td>\n",
       "      <td>2022</td>\n",
       "    </tr>\n",
       "    <tr>\n",
       "      <th>2</th>\n",
       "      <td>Curling</td>\n",
       "      <td>beijing-2022</td>\n",
       "      <td>Mixed Doubles</td>\n",
       "      <td>Mixed</td>\n",
       "      <td>SILVER</td>\n",
       "      <td>GameTeam</td>\n",
       "      <td>Norway team</td>\n",
       "      <td>kristin skaslien</td>\n",
       "      <td>Norway</td>\n",
       "      <td>NO</td>\n",
       "      <td>NOR</td>\n",
       "      <td>2022</td>\n",
       "    </tr>\n",
       "    <tr>\n",
       "      <th>3</th>\n",
       "      <td>Curling</td>\n",
       "      <td>beijing-2022</td>\n",
       "      <td>Mixed Doubles</td>\n",
       "      <td>Mixed</td>\n",
       "      <td>SILVER</td>\n",
       "      <td>GameTeam</td>\n",
       "      <td>Norway team</td>\n",
       "      <td>magnus nedregotten</td>\n",
       "      <td>Norway</td>\n",
       "      <td>NO</td>\n",
       "      <td>NOR</td>\n",
       "      <td>2022</td>\n",
       "    </tr>\n",
       "    <tr>\n",
       "      <th>4</th>\n",
       "      <td>Curling</td>\n",
       "      <td>beijing-2022</td>\n",
       "      <td>Mixed Doubles</td>\n",
       "      <td>Mixed</td>\n",
       "      <td>BRONZE</td>\n",
       "      <td>GameTeam</td>\n",
       "      <td>Sweden team</td>\n",
       "      <td>almida de val</td>\n",
       "      <td>Sweden</td>\n",
       "      <td>SE</td>\n",
       "      <td>SWE</td>\n",
       "      <td>2022</td>\n",
       "    </tr>\n",
       "  </tbody>\n",
       "</table>\n",
       "</div>"
      ],
      "text/plain": [
       "  discipline_title     slug_game    event_title event_gender medal_type  \\\n",
       "0          Curling  beijing-2022  Mixed Doubles        Mixed       GOLD   \n",
       "1          Curling  beijing-2022  Mixed Doubles        Mixed       GOLD   \n",
       "2          Curling  beijing-2022  Mixed Doubles        Mixed     SILVER   \n",
       "3          Curling  beijing-2022  Mixed Doubles        Mixed     SILVER   \n",
       "4          Curling  beijing-2022  Mixed Doubles        Mixed     BRONZE   \n",
       "\n",
       "  participant_type participant_title     athlete_full_name country_name  \\\n",
       "0         GameTeam        Italy team  stefania constantini        Italy   \n",
       "1         GameTeam        Italy team          amos mosaner        Italy   \n",
       "2         GameTeam       Norway team      kristin skaslien       Norway   \n",
       "3         GameTeam       Norway team    magnus nedregotten       Norway   \n",
       "4         GameTeam       Sweden team         almida de val       Sweden   \n",
       "\n",
       "  country_code country_3_letter_code  years  \n",
       "0           IT                   ITA   2022  \n",
       "1           IT                   ITA   2022  \n",
       "2           NO                   NOR   2022  \n",
       "3           NO                   NOR   2022  \n",
       "4           SE                   SWE   2022  "
      ]
     },
     "execution_count": 45,
     "metadata": {},
     "output_type": "execute_result"
    }
   ],
   "source": [
    "df.head()"
   ]
  },
  {
   "cell_type": "markdown",
   "id": "9ae976eb",
   "metadata": {},
   "source": [
    "### Merging DF with AgeData"
   ]
  },
  {
   "cell_type": "code",
   "execution_count": 46,
   "id": "3dbaf22c",
   "metadata": {},
   "outputs": [],
   "source": [
    "ageData=ageData.rename(columns={'name':'athlete_full_name','birthyear':'birth_year','age':'age'})\n",
    "\n",
    "df=pandas.merge(df,ageData,on='athlete_full_name', how='left')"
   ]
  },
  {
   "cell_type": "code",
   "execution_count": 47,
   "id": "16de7864",
   "metadata": {},
   "outputs": [
    {
     "data": {
      "text/html": [
       "<div>\n",
       "<style scoped>\n",
       "    .dataframe tbody tr th:only-of-type {\n",
       "        vertical-align: middle;\n",
       "    }\n",
       "\n",
       "    .dataframe tbody tr th {\n",
       "        vertical-align: top;\n",
       "    }\n",
       "\n",
       "    .dataframe thead th {\n",
       "        text-align: right;\n",
       "    }\n",
       "</style>\n",
       "<table border=\"1\" class=\"dataframe\">\n",
       "  <thead>\n",
       "    <tr style=\"text-align: right;\">\n",
       "      <th></th>\n",
       "      <th>discipline_title</th>\n",
       "      <th>slug_game</th>\n",
       "      <th>event_title</th>\n",
       "      <th>event_gender</th>\n",
       "      <th>medal_type</th>\n",
       "      <th>participant_type</th>\n",
       "      <th>participant_title</th>\n",
       "      <th>athlete_full_name</th>\n",
       "      <th>country_name</th>\n",
       "      <th>country_code</th>\n",
       "      <th>country_3_letter_code</th>\n",
       "      <th>years</th>\n",
       "      <th>birth_year</th>\n",
       "      <th>age</th>\n",
       "    </tr>\n",
       "  </thead>\n",
       "  <tbody>\n",
       "    <tr>\n",
       "      <th>0</th>\n",
       "      <td>Curling</td>\n",
       "      <td>beijing-2022</td>\n",
       "      <td>Mixed Doubles</td>\n",
       "      <td>Mixed</td>\n",
       "      <td>GOLD</td>\n",
       "      <td>GameTeam</td>\n",
       "      <td>Italy team</td>\n",
       "      <td>stefania constantini</td>\n",
       "      <td>Italy</td>\n",
       "      <td>IT</td>\n",
       "      <td>ITA</td>\n",
       "      <td>2022</td>\n",
       "      <td>1999</td>\n",
       "      <td>24.0</td>\n",
       "    </tr>\n",
       "    <tr>\n",
       "      <th>1</th>\n",
       "      <td>Curling</td>\n",
       "      <td>beijing-2022</td>\n",
       "      <td>Mixed Doubles</td>\n",
       "      <td>Mixed</td>\n",
       "      <td>GOLD</td>\n",
       "      <td>GameTeam</td>\n",
       "      <td>Italy team</td>\n",
       "      <td>amos mosaner</td>\n",
       "      <td>Italy</td>\n",
       "      <td>IT</td>\n",
       "      <td>ITA</td>\n",
       "      <td>2022</td>\n",
       "      <td>1995</td>\n",
       "      <td>28.0</td>\n",
       "    </tr>\n",
       "    <tr>\n",
       "      <th>2</th>\n",
       "      <td>Curling</td>\n",
       "      <td>beijing-2022</td>\n",
       "      <td>Mixed Doubles</td>\n",
       "      <td>Mixed</td>\n",
       "      <td>SILVER</td>\n",
       "      <td>GameTeam</td>\n",
       "      <td>Norway team</td>\n",
       "      <td>kristin skaslien</td>\n",
       "      <td>Norway</td>\n",
       "      <td>NO</td>\n",
       "      <td>NOR</td>\n",
       "      <td>2022</td>\n",
       "      <td>1986</td>\n",
       "      <td>37.0</td>\n",
       "    </tr>\n",
       "    <tr>\n",
       "      <th>3</th>\n",
       "      <td>Curling</td>\n",
       "      <td>beijing-2022</td>\n",
       "      <td>Mixed Doubles</td>\n",
       "      <td>Mixed</td>\n",
       "      <td>SILVER</td>\n",
       "      <td>GameTeam</td>\n",
       "      <td>Norway team</td>\n",
       "      <td>magnus nedregotten</td>\n",
       "      <td>Norway</td>\n",
       "      <td>NO</td>\n",
       "      <td>NOR</td>\n",
       "      <td>2022</td>\n",
       "      <td>1990</td>\n",
       "      <td>33.0</td>\n",
       "    </tr>\n",
       "    <tr>\n",
       "      <th>4</th>\n",
       "      <td>Curling</td>\n",
       "      <td>beijing-2022</td>\n",
       "      <td>Mixed Doubles</td>\n",
       "      <td>Mixed</td>\n",
       "      <td>BRONZE</td>\n",
       "      <td>GameTeam</td>\n",
       "      <td>Sweden team</td>\n",
       "      <td>almida de val</td>\n",
       "      <td>Sweden</td>\n",
       "      <td>SE</td>\n",
       "      <td>SWE</td>\n",
       "      <td>2022</td>\n",
       "      <td>1997</td>\n",
       "      <td>26.0</td>\n",
       "    </tr>\n",
       "    <tr>\n",
       "      <th>5</th>\n",
       "      <td>Curling</td>\n",
       "      <td>beijing-2022</td>\n",
       "      <td>Mixed Doubles</td>\n",
       "      <td>Mixed</td>\n",
       "      <td>BRONZE</td>\n",
       "      <td>GameTeam</td>\n",
       "      <td>Sweden team</td>\n",
       "      <td>oskar eriksson</td>\n",
       "      <td>Sweden</td>\n",
       "      <td>SE</td>\n",
       "      <td>SWE</td>\n",
       "      <td>2022</td>\n",
       "      <td>1991</td>\n",
       "      <td>32.0</td>\n",
       "    </tr>\n",
       "    <tr>\n",
       "      <th>6</th>\n",
       "      <td>Freestyle Skiing</td>\n",
       "      <td>beijing-2022</td>\n",
       "      <td>Men's Moguls</td>\n",
       "      <td>Men</td>\n",
       "      <td>SILVER</td>\n",
       "      <td>Athlete</td>\n",
       "      <td>Canada team</td>\n",
       "      <td>mikael kingsbury</td>\n",
       "      <td>Canada</td>\n",
       "      <td>CA</td>\n",
       "      <td>CAN</td>\n",
       "      <td>2022</td>\n",
       "      <td>1992</td>\n",
       "      <td>31.0</td>\n",
       "    </tr>\n",
       "    <tr>\n",
       "      <th>7</th>\n",
       "      <td>Freestyle Skiing</td>\n",
       "      <td>beijing-2022</td>\n",
       "      <td>Men's Moguls</td>\n",
       "      <td>Men</td>\n",
       "      <td>GOLD</td>\n",
       "      <td>Athlete</td>\n",
       "      <td>Sweden team</td>\n",
       "      <td>walter wallberg</td>\n",
       "      <td>Sweden</td>\n",
       "      <td>SE</td>\n",
       "      <td>SWE</td>\n",
       "      <td>2022</td>\n",
       "      <td>NaN</td>\n",
       "      <td>NaN</td>\n",
       "    </tr>\n",
       "    <tr>\n",
       "      <th>8</th>\n",
       "      <td>Freestyle Skiing</td>\n",
       "      <td>beijing-2022</td>\n",
       "      <td>Men's Moguls</td>\n",
       "      <td>Men</td>\n",
       "      <td>BRONZE</td>\n",
       "      <td>Athlete</td>\n",
       "      <td>Japan team</td>\n",
       "      <td>ikuma horishima</td>\n",
       "      <td>Japan</td>\n",
       "      <td>JP</td>\n",
       "      <td>JPN</td>\n",
       "      <td>2022</td>\n",
       "      <td>1997</td>\n",
       "      <td>26.0</td>\n",
       "    </tr>\n",
       "    <tr>\n",
       "      <th>9</th>\n",
       "      <td>Freestyle Skiing</td>\n",
       "      <td>beijing-2022</td>\n",
       "      <td>Men's Freeski Halfpipe</td>\n",
       "      <td>Men</td>\n",
       "      <td>GOLD</td>\n",
       "      <td>Athlete</td>\n",
       "      <td>New Zealand team</td>\n",
       "      <td>nico porteous</td>\n",
       "      <td>New Zealand</td>\n",
       "      <td>NZ</td>\n",
       "      <td>NZL</td>\n",
       "      <td>2022</td>\n",
       "      <td>2001</td>\n",
       "      <td>22.0</td>\n",
       "    </tr>\n",
       "    <tr>\n",
       "      <th>10</th>\n",
       "      <td>Freestyle Skiing</td>\n",
       "      <td>beijing-2022</td>\n",
       "      <td>Men's Freeski Halfpipe</td>\n",
       "      <td>Men</td>\n",
       "      <td>SILVER</td>\n",
       "      <td>Athlete</td>\n",
       "      <td>United States of America team</td>\n",
       "      <td>david wise</td>\n",
       "      <td>United States of America</td>\n",
       "      <td>US</td>\n",
       "      <td>USA</td>\n",
       "      <td>2022</td>\n",
       "      <td>1990</td>\n",
       "      <td>33.0</td>\n",
       "    </tr>\n",
       "    <tr>\n",
       "      <th>11</th>\n",
       "      <td>Freestyle Skiing</td>\n",
       "      <td>beijing-2022</td>\n",
       "      <td>Men's Freeski Halfpipe</td>\n",
       "      <td>Men</td>\n",
       "      <td>BRONZE</td>\n",
       "      <td>Athlete</td>\n",
       "      <td>United States of America team</td>\n",
       "      <td>alex ferreira</td>\n",
       "      <td>United States of America</td>\n",
       "      <td>US</td>\n",
       "      <td>USA</td>\n",
       "      <td>2022</td>\n",
       "      <td>1994</td>\n",
       "      <td>29.0</td>\n",
       "    </tr>\n",
       "    <tr>\n",
       "      <th>12</th>\n",
       "      <td>Freestyle Skiing</td>\n",
       "      <td>beijing-2022</td>\n",
       "      <td>Men's Freeski Big Air</td>\n",
       "      <td>Men</td>\n",
       "      <td>BRONZE</td>\n",
       "      <td>Athlete</td>\n",
       "      <td>Sweden team</td>\n",
       "      <td>henrik harlaut</td>\n",
       "      <td>Sweden</td>\n",
       "      <td>SE</td>\n",
       "      <td>SWE</td>\n",
       "      <td>2022</td>\n",
       "      <td>1991</td>\n",
       "      <td>32.0</td>\n",
       "    </tr>\n",
       "    <tr>\n",
       "      <th>13</th>\n",
       "      <td>Freestyle Skiing</td>\n",
       "      <td>beijing-2022</td>\n",
       "      <td>Men's Freeski Big Air</td>\n",
       "      <td>Men</td>\n",
       "      <td>GOLD</td>\n",
       "      <td>Athlete</td>\n",
       "      <td>Norway team</td>\n",
       "      <td>birk ruud</td>\n",
       "      <td>Norway</td>\n",
       "      <td>NO</td>\n",
       "      <td>NOR</td>\n",
       "      <td>2022</td>\n",
       "      <td>2000</td>\n",
       "      <td>23.0</td>\n",
       "    </tr>\n",
       "    <tr>\n",
       "      <th>14</th>\n",
       "      <td>Freestyle Skiing</td>\n",
       "      <td>beijing-2022</td>\n",
       "      <td>Men's Freeski Big Air</td>\n",
       "      <td>Men</td>\n",
       "      <td>SILVER</td>\n",
       "      <td>Athlete</td>\n",
       "      <td>United States of America team</td>\n",
       "      <td>colby stevenson</td>\n",
       "      <td>United States of America</td>\n",
       "      <td>US</td>\n",
       "      <td>USA</td>\n",
       "      <td>2022</td>\n",
       "      <td>1997</td>\n",
       "      <td>26.0</td>\n",
       "    </tr>\n",
       "    <tr>\n",
       "      <th>15</th>\n",
       "      <td>Freestyle Skiing</td>\n",
       "      <td>beijing-2022</td>\n",
       "      <td>Men's Ski Cross</td>\n",
       "      <td>Men</td>\n",
       "      <td>BRONZE</td>\n",
       "      <td>Athlete</td>\n",
       "      <td>ROC team</td>\n",
       "      <td>sergey ridzik</td>\n",
       "      <td>ROC</td>\n",
       "      <td>ROC</td>\n",
       "      <td>ROC</td>\n",
       "      <td>2022</td>\n",
       "      <td>NaN</td>\n",
       "      <td>NaN</td>\n",
       "    </tr>\n",
       "    <tr>\n",
       "      <th>16</th>\n",
       "      <td>Freestyle Skiing</td>\n",
       "      <td>beijing-2022</td>\n",
       "      <td>Men's Ski Cross</td>\n",
       "      <td>Men</td>\n",
       "      <td>SILVER</td>\n",
       "      <td>Athlete</td>\n",
       "      <td>Switzerland team</td>\n",
       "      <td>alex fiva</td>\n",
       "      <td>Switzerland</td>\n",
       "      <td>CH</td>\n",
       "      <td>SUI</td>\n",
       "      <td>2022</td>\n",
       "      <td>1986</td>\n",
       "      <td>37.0</td>\n",
       "    </tr>\n",
       "    <tr>\n",
       "      <th>17</th>\n",
       "      <td>Freestyle Skiing</td>\n",
       "      <td>beijing-2022</td>\n",
       "      <td>Men's Ski Cross</td>\n",
       "      <td>Men</td>\n",
       "      <td>GOLD</td>\n",
       "      <td>Athlete</td>\n",
       "      <td>Switzerland team</td>\n",
       "      <td>ryan regez</td>\n",
       "      <td>Switzerland</td>\n",
       "      <td>CH</td>\n",
       "      <td>SUI</td>\n",
       "      <td>2022</td>\n",
       "      <td>1993</td>\n",
       "      <td>30.0</td>\n",
       "    </tr>\n",
       "    <tr>\n",
       "      <th>18</th>\n",
       "      <td>Freestyle Skiing</td>\n",
       "      <td>beijing-2022</td>\n",
       "      <td>Women's Freeski Big Air</td>\n",
       "      <td>Women</td>\n",
       "      <td>BRONZE</td>\n",
       "      <td>Athlete</td>\n",
       "      <td>Switzerland team</td>\n",
       "      <td>mathilde gremaud</td>\n",
       "      <td>Switzerland</td>\n",
       "      <td>CH</td>\n",
       "      <td>SUI</td>\n",
       "      <td>2022</td>\n",
       "      <td>2000</td>\n",
       "      <td>23.0</td>\n",
       "    </tr>\n",
       "    <tr>\n",
       "      <th>19</th>\n",
       "      <td>Freestyle Skiing</td>\n",
       "      <td>beijing-2022</td>\n",
       "      <td>Women's Freeski Big Air</td>\n",
       "      <td>Women</td>\n",
       "      <td>GOLD</td>\n",
       "      <td>Athlete</td>\n",
       "      <td>People's Republic of China team</td>\n",
       "      <td>ailing eileen gu</td>\n",
       "      <td>China</td>\n",
       "      <td>CN</td>\n",
       "      <td>CHN</td>\n",
       "      <td>2022</td>\n",
       "      <td>NaN</td>\n",
       "      <td>NaN</td>\n",
       "    </tr>\n",
       "    <tr>\n",
       "      <th>20</th>\n",
       "      <td>Freestyle Skiing</td>\n",
       "      <td>beijing-2022</td>\n",
       "      <td>Women's Freeski Big Air</td>\n",
       "      <td>Women</td>\n",
       "      <td>SILVER</td>\n",
       "      <td>Athlete</td>\n",
       "      <td>France team</td>\n",
       "      <td>tess ledeux</td>\n",
       "      <td>France</td>\n",
       "      <td>FR</td>\n",
       "      <td>FRA</td>\n",
       "      <td>2022</td>\n",
       "      <td>2001</td>\n",
       "      <td>22.0</td>\n",
       "    </tr>\n",
       "    <tr>\n",
       "      <th>21</th>\n",
       "      <td>Freestyle Skiing</td>\n",
       "      <td>beijing-2022</td>\n",
       "      <td>Women's Moguls</td>\n",
       "      <td>Women</td>\n",
       "      <td>SILVER</td>\n",
       "      <td>Athlete</td>\n",
       "      <td>United States of America team</td>\n",
       "      <td>jaelin kauf</td>\n",
       "      <td>United States of America</td>\n",
       "      <td>US</td>\n",
       "      <td>USA</td>\n",
       "      <td>2022</td>\n",
       "      <td>NaN</td>\n",
       "      <td>NaN</td>\n",
       "    </tr>\n",
       "    <tr>\n",
       "      <th>22</th>\n",
       "      <td>Freestyle Skiing</td>\n",
       "      <td>beijing-2022</td>\n",
       "      <td>Women's Moguls</td>\n",
       "      <td>Women</td>\n",
       "      <td>GOLD</td>\n",
       "      <td>Athlete</td>\n",
       "      <td>Australia team</td>\n",
       "      <td>jakara anthony</td>\n",
       "      <td>Australia</td>\n",
       "      <td>AU</td>\n",
       "      <td>AUS</td>\n",
       "      <td>2022</td>\n",
       "      <td>NaN</td>\n",
       "      <td>NaN</td>\n",
       "    </tr>\n",
       "    <tr>\n",
       "      <th>23</th>\n",
       "      <td>Freestyle Skiing</td>\n",
       "      <td>beijing-2022</td>\n",
       "      <td>Women's Moguls</td>\n",
       "      <td>Women</td>\n",
       "      <td>BRONZE</td>\n",
       "      <td>Athlete</td>\n",
       "      <td>ROC team</td>\n",
       "      <td>anastasiia smirnova</td>\n",
       "      <td>ROC</td>\n",
       "      <td>ROC</td>\n",
       "      <td>ROC</td>\n",
       "      <td>2022</td>\n",
       "      <td>2002</td>\n",
       "      <td>21.0</td>\n",
       "    </tr>\n",
       "    <tr>\n",
       "      <th>24</th>\n",
       "      <td>Freestyle Skiing</td>\n",
       "      <td>beijing-2022</td>\n",
       "      <td>Women's Ski Cross</td>\n",
       "      <td>Women</td>\n",
       "      <td>SILVER</td>\n",
       "      <td>Athlete</td>\n",
       "      <td>Canada team</td>\n",
       "      <td>marielle thompson</td>\n",
       "      <td>Canada</td>\n",
       "      <td>CA</td>\n",
       "      <td>CAN</td>\n",
       "      <td>2022</td>\n",
       "      <td>1992</td>\n",
       "      <td>31.0</td>\n",
       "    </tr>\n",
       "    <tr>\n",
       "      <th>25</th>\n",
       "      <td>Freestyle Skiing</td>\n",
       "      <td>beijing-2022</td>\n",
       "      <td>Women's Ski Cross</td>\n",
       "      <td>Women</td>\n",
       "      <td>GOLD</td>\n",
       "      <td>Athlete</td>\n",
       "      <td>Sweden team</td>\n",
       "      <td>sandra naeslund</td>\n",
       "      <td>Sweden</td>\n",
       "      <td>SE</td>\n",
       "      <td>SWE</td>\n",
       "      <td>2022</td>\n",
       "      <td>1996</td>\n",
       "      <td>27.0</td>\n",
       "    </tr>\n",
       "    <tr>\n",
       "      <th>26</th>\n",
       "      <td>Freestyle Skiing</td>\n",
       "      <td>beijing-2022</td>\n",
       "      <td>Women's Ski Cross</td>\n",
       "      <td>Women</td>\n",
       "      <td>BRONZE</td>\n",
       "      <td>Athlete</td>\n",
       "      <td>Germany team</td>\n",
       "      <td>daniela maier</td>\n",
       "      <td>Germany</td>\n",
       "      <td>DE</td>\n",
       "      <td>GER</td>\n",
       "      <td>2022</td>\n",
       "      <td>1996</td>\n",
       "      <td>27.0</td>\n",
       "    </tr>\n",
       "    <tr>\n",
       "      <th>27</th>\n",
       "      <td>Freestyle Skiing</td>\n",
       "      <td>beijing-2022</td>\n",
       "      <td>Men's Aerials</td>\n",
       "      <td>Men</td>\n",
       "      <td>BRONZE</td>\n",
       "      <td>Athlete</td>\n",
       "      <td>ROC team</td>\n",
       "      <td>ilia burov</td>\n",
       "      <td>ROC</td>\n",
       "      <td>ROC</td>\n",
       "      <td>ROC</td>\n",
       "      <td>2022</td>\n",
       "      <td>1991</td>\n",
       "      <td>32.0</td>\n",
       "    </tr>\n",
       "    <tr>\n",
       "      <th>28</th>\n",
       "      <td>Freestyle Skiing</td>\n",
       "      <td>beijing-2022</td>\n",
       "      <td>Men's Aerials</td>\n",
       "      <td>Men</td>\n",
       "      <td>GOLD</td>\n",
       "      <td>Athlete</td>\n",
       "      <td>People's Republic of China team</td>\n",
       "      <td>guangpu qi</td>\n",
       "      <td>China</td>\n",
       "      <td>CN</td>\n",
       "      <td>CHN</td>\n",
       "      <td>2022</td>\n",
       "      <td>1990</td>\n",
       "      <td>33.0</td>\n",
       "    </tr>\n",
       "    <tr>\n",
       "      <th>29</th>\n",
       "      <td>Freestyle Skiing</td>\n",
       "      <td>beijing-2022</td>\n",
       "      <td>Men's Aerials</td>\n",
       "      <td>Men</td>\n",
       "      <td>SILVER</td>\n",
       "      <td>Athlete</td>\n",
       "      <td>Ukraine team</td>\n",
       "      <td>oleksandr abramenko</td>\n",
       "      <td>Ukraine</td>\n",
       "      <td>UA</td>\n",
       "      <td>UKR</td>\n",
       "      <td>2022</td>\n",
       "      <td>1988</td>\n",
       "      <td>35.0</td>\n",
       "    </tr>\n",
       "    <tr>\n",
       "      <th>30</th>\n",
       "      <td>Freestyle Skiing</td>\n",
       "      <td>beijing-2022</td>\n",
       "      <td>Women's Aerials</td>\n",
       "      <td>Women</td>\n",
       "      <td>SILVER</td>\n",
       "      <td>Athlete</td>\n",
       "      <td>Belarus team</td>\n",
       "      <td>hanna huskova</td>\n",
       "      <td>Belarus</td>\n",
       "      <td>BY</td>\n",
       "      <td>BLR</td>\n",
       "      <td>2022</td>\n",
       "      <td>1992</td>\n",
       "      <td>31.0</td>\n",
       "    </tr>\n",
       "    <tr>\n",
       "      <th>31</th>\n",
       "      <td>Freestyle Skiing</td>\n",
       "      <td>beijing-2022</td>\n",
       "      <td>Women's Aerials</td>\n",
       "      <td>Women</td>\n",
       "      <td>GOLD</td>\n",
       "      <td>Athlete</td>\n",
       "      <td>People's Republic of China team</td>\n",
       "      <td>mengtao xu</td>\n",
       "      <td>China</td>\n",
       "      <td>CN</td>\n",
       "      <td>CHN</td>\n",
       "      <td>2022</td>\n",
       "      <td>1990</td>\n",
       "      <td>33.0</td>\n",
       "    </tr>\n",
       "    <tr>\n",
       "      <th>32</th>\n",
       "      <td>Freestyle Skiing</td>\n",
       "      <td>beijing-2022</td>\n",
       "      <td>Women's Aerials</td>\n",
       "      <td>Women</td>\n",
       "      <td>BRONZE</td>\n",
       "      <td>Athlete</td>\n",
       "      <td>United States of America team</td>\n",
       "      <td>megan nick</td>\n",
       "      <td>United States of America</td>\n",
       "      <td>US</td>\n",
       "      <td>USA</td>\n",
       "      <td>2022</td>\n",
       "      <td>1996</td>\n",
       "      <td>27.0</td>\n",
       "    </tr>\n",
       "    <tr>\n",
       "      <th>33</th>\n",
       "      <td>Freestyle Skiing</td>\n",
       "      <td>beijing-2022</td>\n",
       "      <td>Women's Freeski Halfpipe</td>\n",
       "      <td>Women</td>\n",
       "      <td>SILVER</td>\n",
       "      <td>Athlete</td>\n",
       "      <td>Canada team</td>\n",
       "      <td>cassie sharpe</td>\n",
       "      <td>Canada</td>\n",
       "      <td>CA</td>\n",
       "      <td>CAN</td>\n",
       "      <td>2022</td>\n",
       "      <td>1992</td>\n",
       "      <td>31.0</td>\n",
       "    </tr>\n",
       "    <tr>\n",
       "      <th>34</th>\n",
       "      <td>Freestyle Skiing</td>\n",
       "      <td>beijing-2022</td>\n",
       "      <td>Women's Freeski Halfpipe</td>\n",
       "      <td>Women</td>\n",
       "      <td>GOLD</td>\n",
       "      <td>Athlete</td>\n",
       "      <td>People's Republic of China team</td>\n",
       "      <td>ailing eileen gu</td>\n",
       "      <td>China</td>\n",
       "      <td>CN</td>\n",
       "      <td>CHN</td>\n",
       "      <td>2022</td>\n",
       "      <td>NaN</td>\n",
       "      <td>NaN</td>\n",
       "    </tr>\n",
       "    <tr>\n",
       "      <th>35</th>\n",
       "      <td>Freestyle Skiing</td>\n",
       "      <td>beijing-2022</td>\n",
       "      <td>Women's Freeski Halfpipe</td>\n",
       "      <td>Women</td>\n",
       "      <td>BRONZE</td>\n",
       "      <td>Athlete</td>\n",
       "      <td>Canada team</td>\n",
       "      <td>rachel karker</td>\n",
       "      <td>Canada</td>\n",
       "      <td>CA</td>\n",
       "      <td>CAN</td>\n",
       "      <td>2022</td>\n",
       "      <td>1997</td>\n",
       "      <td>26.0</td>\n",
       "    </tr>\n",
       "    <tr>\n",
       "      <th>36</th>\n",
       "      <td>Freestyle Skiing</td>\n",
       "      <td>beijing-2022</td>\n",
       "      <td>Women's Freeski Slopestyle</td>\n",
       "      <td>Women</td>\n",
       "      <td>SILVER</td>\n",
       "      <td>Athlete</td>\n",
       "      <td>People's Republic of China team</td>\n",
       "      <td>ailing eileen gu</td>\n",
       "      <td>China</td>\n",
       "      <td>CN</td>\n",
       "      <td>CHN</td>\n",
       "      <td>2022</td>\n",
       "      <td>NaN</td>\n",
       "      <td>NaN</td>\n",
       "    </tr>\n",
       "    <tr>\n",
       "      <th>37</th>\n",
       "      <td>Freestyle Skiing</td>\n",
       "      <td>beijing-2022</td>\n",
       "      <td>Women's Freeski Slopestyle</td>\n",
       "      <td>Women</td>\n",
       "      <td>GOLD</td>\n",
       "      <td>Athlete</td>\n",
       "      <td>Switzerland team</td>\n",
       "      <td>mathilde gremaud</td>\n",
       "      <td>Switzerland</td>\n",
       "      <td>CH</td>\n",
       "      <td>SUI</td>\n",
       "      <td>2022</td>\n",
       "      <td>2000</td>\n",
       "      <td>23.0</td>\n",
       "    </tr>\n",
       "    <tr>\n",
       "      <th>38</th>\n",
       "      <td>Freestyle Skiing</td>\n",
       "      <td>beijing-2022</td>\n",
       "      <td>Women's Freeski Slopestyle</td>\n",
       "      <td>Women</td>\n",
       "      <td>BRONZE</td>\n",
       "      <td>Athlete</td>\n",
       "      <td>Estonia team</td>\n",
       "      <td>kelly sildaru</td>\n",
       "      <td>Estonia</td>\n",
       "      <td>EE</td>\n",
       "      <td>EST</td>\n",
       "      <td>2022</td>\n",
       "      <td>2002</td>\n",
       "      <td>21.0</td>\n",
       "    </tr>\n",
       "    <tr>\n",
       "      <th>39</th>\n",
       "      <td>Freestyle Skiing</td>\n",
       "      <td>beijing-2022</td>\n",
       "      <td>Men's Freeski Slopestyle</td>\n",
       "      <td>Men</td>\n",
       "      <td>SILVER</td>\n",
       "      <td>Athlete</td>\n",
       "      <td>United States of America team</td>\n",
       "      <td>nicholas goepper</td>\n",
       "      <td>United States of America</td>\n",
       "      <td>US</td>\n",
       "      <td>USA</td>\n",
       "      <td>2022</td>\n",
       "      <td>1994</td>\n",
       "      <td>29.0</td>\n",
       "    </tr>\n",
       "    <tr>\n",
       "      <th>40</th>\n",
       "      <td>Freestyle Skiing</td>\n",
       "      <td>beijing-2022</td>\n",
       "      <td>Men's Freeski Slopestyle</td>\n",
       "      <td>Men</td>\n",
       "      <td>BRONZE</td>\n",
       "      <td>Athlete</td>\n",
       "      <td>Sweden team</td>\n",
       "      <td>jesper tjader</td>\n",
       "      <td>Sweden</td>\n",
       "      <td>SE</td>\n",
       "      <td>SWE</td>\n",
       "      <td>2022</td>\n",
       "      <td>1994</td>\n",
       "      <td>29.0</td>\n",
       "    </tr>\n",
       "    <tr>\n",
       "      <th>41</th>\n",
       "      <td>Freestyle Skiing</td>\n",
       "      <td>beijing-2022</td>\n",
       "      <td>Men's Freeski Slopestyle</td>\n",
       "      <td>Men</td>\n",
       "      <td>GOLD</td>\n",
       "      <td>Athlete</td>\n",
       "      <td>United States of America team</td>\n",
       "      <td>alexander hall</td>\n",
       "      <td>United States of America</td>\n",
       "      <td>US</td>\n",
       "      <td>USA</td>\n",
       "      <td>2022</td>\n",
       "      <td>NaN</td>\n",
       "      <td>NaN</td>\n",
       "    </tr>\n",
       "    <tr>\n",
       "      <th>42</th>\n",
       "      <td>Short Track Speed Skating</td>\n",
       "      <td>beijing-2022</td>\n",
       "      <td>Women's 500m</td>\n",
       "      <td>Women</td>\n",
       "      <td>SILVER</td>\n",
       "      <td>Athlete</td>\n",
       "      <td>Netherlands team</td>\n",
       "      <td>suzanne schulting</td>\n",
       "      <td>Netherlands</td>\n",
       "      <td>NL</td>\n",
       "      <td>NED</td>\n",
       "      <td>2022</td>\n",
       "      <td>1997</td>\n",
       "      <td>26.0</td>\n",
       "    </tr>\n",
       "    <tr>\n",
       "      <th>43</th>\n",
       "      <td>Short Track Speed Skating</td>\n",
       "      <td>beijing-2022</td>\n",
       "      <td>Women's 500m</td>\n",
       "      <td>Women</td>\n",
       "      <td>BRONZE</td>\n",
       "      <td>Athlete</td>\n",
       "      <td>Canada team</td>\n",
       "      <td>kim boutin</td>\n",
       "      <td>Canada</td>\n",
       "      <td>CA</td>\n",
       "      <td>CAN</td>\n",
       "      <td>2022</td>\n",
       "      <td>NaN</td>\n",
       "      <td>NaN</td>\n",
       "    </tr>\n",
       "    <tr>\n",
       "      <th>44</th>\n",
       "      <td>Short Track Speed Skating</td>\n",
       "      <td>beijing-2022</td>\n",
       "      <td>Women's 500m</td>\n",
       "      <td>Women</td>\n",
       "      <td>GOLD</td>\n",
       "      <td>Athlete</td>\n",
       "      <td>Italy team</td>\n",
       "      <td>arianna fontana</td>\n",
       "      <td>Italy</td>\n",
       "      <td>IT</td>\n",
       "      <td>ITA</td>\n",
       "      <td>2022</td>\n",
       "      <td>1990</td>\n",
       "      <td>33.0</td>\n",
       "    </tr>\n",
       "    <tr>\n",
       "      <th>45</th>\n",
       "      <td>Short Track Speed Skating</td>\n",
       "      <td>beijing-2022</td>\n",
       "      <td>Men's 500m</td>\n",
       "      <td>Men</td>\n",
       "      <td>BRONZE</td>\n",
       "      <td>Athlete</td>\n",
       "      <td>Canada team</td>\n",
       "      <td>steven dubois</td>\n",
       "      <td>Canada</td>\n",
       "      <td>CA</td>\n",
       "      <td>CAN</td>\n",
       "      <td>2022</td>\n",
       "      <td>1997</td>\n",
       "      <td>26.0</td>\n",
       "    </tr>\n",
       "    <tr>\n",
       "      <th>46</th>\n",
       "      <td>Short Track Speed Skating</td>\n",
       "      <td>beijing-2022</td>\n",
       "      <td>Men's 500m</td>\n",
       "      <td>Men</td>\n",
       "      <td>GOLD</td>\n",
       "      <td>Athlete</td>\n",
       "      <td>Hungary team</td>\n",
       "      <td>shaoang liu</td>\n",
       "      <td>Hungary</td>\n",
       "      <td>HU</td>\n",
       "      <td>HUN</td>\n",
       "      <td>2022</td>\n",
       "      <td>1998</td>\n",
       "      <td>25.0</td>\n",
       "    </tr>\n",
       "    <tr>\n",
       "      <th>47</th>\n",
       "      <td>Short Track Speed Skating</td>\n",
       "      <td>beijing-2022</td>\n",
       "      <td>Men's 500m</td>\n",
       "      <td>Men</td>\n",
       "      <td>SILVER</td>\n",
       "      <td>Athlete</td>\n",
       "      <td>ROC team</td>\n",
       "      <td>konstantin ivliev</td>\n",
       "      <td>ROC</td>\n",
       "      <td>ROC</td>\n",
       "      <td>ROC</td>\n",
       "      <td>2022</td>\n",
       "      <td>2000</td>\n",
       "      <td>23.0</td>\n",
       "    </tr>\n",
       "    <tr>\n",
       "      <th>48</th>\n",
       "      <td>Short Track Speed Skating</td>\n",
       "      <td>beijing-2022</td>\n",
       "      <td>Men's 1500m</td>\n",
       "      <td>Men</td>\n",
       "      <td>BRONZE</td>\n",
       "      <td>Athlete</td>\n",
       "      <td>ROC team</td>\n",
       "      <td>semen elistratov</td>\n",
       "      <td>ROC</td>\n",
       "      <td>ROC</td>\n",
       "      <td>ROC</td>\n",
       "      <td>2022</td>\n",
       "      <td>1990</td>\n",
       "      <td>33.0</td>\n",
       "    </tr>\n",
       "    <tr>\n",
       "      <th>49</th>\n",
       "      <td>Short Track Speed Skating</td>\n",
       "      <td>beijing-2022</td>\n",
       "      <td>Men's 1500m</td>\n",
       "      <td>Men</td>\n",
       "      <td>GOLD</td>\n",
       "      <td>Athlete</td>\n",
       "      <td>Republic of Korea team</td>\n",
       "      <td>daeheon hwang</td>\n",
       "      <td>Republic of Korea</td>\n",
       "      <td>KR</td>\n",
       "      <td>KOR</td>\n",
       "      <td>2022</td>\n",
       "      <td>1999</td>\n",
       "      <td>24.0</td>\n",
       "    </tr>\n",
       "  </tbody>\n",
       "</table>\n",
       "</div>"
      ],
      "text/plain": [
       "             discipline_title     slug_game                 event_title  \\\n",
       "0                     Curling  beijing-2022               Mixed Doubles   \n",
       "1                     Curling  beijing-2022               Mixed Doubles   \n",
       "2                     Curling  beijing-2022               Mixed Doubles   \n",
       "3                     Curling  beijing-2022               Mixed Doubles   \n",
       "4                     Curling  beijing-2022               Mixed Doubles   \n",
       "5                     Curling  beijing-2022               Mixed Doubles   \n",
       "6            Freestyle Skiing  beijing-2022                Men's Moguls   \n",
       "7            Freestyle Skiing  beijing-2022                Men's Moguls   \n",
       "8            Freestyle Skiing  beijing-2022                Men's Moguls   \n",
       "9            Freestyle Skiing  beijing-2022      Men's Freeski Halfpipe   \n",
       "10           Freestyle Skiing  beijing-2022      Men's Freeski Halfpipe   \n",
       "11           Freestyle Skiing  beijing-2022      Men's Freeski Halfpipe   \n",
       "12           Freestyle Skiing  beijing-2022       Men's Freeski Big Air   \n",
       "13           Freestyle Skiing  beijing-2022       Men's Freeski Big Air   \n",
       "14           Freestyle Skiing  beijing-2022       Men's Freeski Big Air   \n",
       "15           Freestyle Skiing  beijing-2022             Men's Ski Cross   \n",
       "16           Freestyle Skiing  beijing-2022             Men's Ski Cross   \n",
       "17           Freestyle Skiing  beijing-2022             Men's Ski Cross   \n",
       "18           Freestyle Skiing  beijing-2022     Women's Freeski Big Air   \n",
       "19           Freestyle Skiing  beijing-2022     Women's Freeski Big Air   \n",
       "20           Freestyle Skiing  beijing-2022     Women's Freeski Big Air   \n",
       "21           Freestyle Skiing  beijing-2022              Women's Moguls   \n",
       "22           Freestyle Skiing  beijing-2022              Women's Moguls   \n",
       "23           Freestyle Skiing  beijing-2022              Women's Moguls   \n",
       "24           Freestyle Skiing  beijing-2022           Women's Ski Cross   \n",
       "25           Freestyle Skiing  beijing-2022           Women's Ski Cross   \n",
       "26           Freestyle Skiing  beijing-2022           Women's Ski Cross   \n",
       "27           Freestyle Skiing  beijing-2022               Men's Aerials   \n",
       "28           Freestyle Skiing  beijing-2022               Men's Aerials   \n",
       "29           Freestyle Skiing  beijing-2022               Men's Aerials   \n",
       "30           Freestyle Skiing  beijing-2022             Women's Aerials   \n",
       "31           Freestyle Skiing  beijing-2022             Women's Aerials   \n",
       "32           Freestyle Skiing  beijing-2022             Women's Aerials   \n",
       "33           Freestyle Skiing  beijing-2022    Women's Freeski Halfpipe   \n",
       "34           Freestyle Skiing  beijing-2022    Women's Freeski Halfpipe   \n",
       "35           Freestyle Skiing  beijing-2022    Women's Freeski Halfpipe   \n",
       "36           Freestyle Skiing  beijing-2022  Women's Freeski Slopestyle   \n",
       "37           Freestyle Skiing  beijing-2022  Women's Freeski Slopestyle   \n",
       "38           Freestyle Skiing  beijing-2022  Women's Freeski Slopestyle   \n",
       "39           Freestyle Skiing  beijing-2022    Men's Freeski Slopestyle   \n",
       "40           Freestyle Skiing  beijing-2022    Men's Freeski Slopestyle   \n",
       "41           Freestyle Skiing  beijing-2022    Men's Freeski Slopestyle   \n",
       "42  Short Track Speed Skating  beijing-2022                Women's 500m   \n",
       "43  Short Track Speed Skating  beijing-2022                Women's 500m   \n",
       "44  Short Track Speed Skating  beijing-2022                Women's 500m   \n",
       "45  Short Track Speed Skating  beijing-2022                  Men's 500m   \n",
       "46  Short Track Speed Skating  beijing-2022                  Men's 500m   \n",
       "47  Short Track Speed Skating  beijing-2022                  Men's 500m   \n",
       "48  Short Track Speed Skating  beijing-2022                 Men's 1500m   \n",
       "49  Short Track Speed Skating  beijing-2022                 Men's 1500m   \n",
       "\n",
       "   event_gender medal_type participant_type                participant_title  \\\n",
       "0         Mixed       GOLD         GameTeam                       Italy team   \n",
       "1         Mixed       GOLD         GameTeam                       Italy team   \n",
       "2         Mixed     SILVER         GameTeam                      Norway team   \n",
       "3         Mixed     SILVER         GameTeam                      Norway team   \n",
       "4         Mixed     BRONZE         GameTeam                      Sweden team   \n",
       "5         Mixed     BRONZE         GameTeam                      Sweden team   \n",
       "6           Men     SILVER          Athlete                      Canada team   \n",
       "7           Men       GOLD          Athlete                      Sweden team   \n",
       "8           Men     BRONZE          Athlete                       Japan team   \n",
       "9           Men       GOLD          Athlete                 New Zealand team   \n",
       "10          Men     SILVER          Athlete    United States of America team   \n",
       "11          Men     BRONZE          Athlete    United States of America team   \n",
       "12          Men     BRONZE          Athlete                      Sweden team   \n",
       "13          Men       GOLD          Athlete                      Norway team   \n",
       "14          Men     SILVER          Athlete    United States of America team   \n",
       "15          Men     BRONZE          Athlete                         ROC team   \n",
       "16          Men     SILVER          Athlete                 Switzerland team   \n",
       "17          Men       GOLD          Athlete                 Switzerland team   \n",
       "18        Women     BRONZE          Athlete                 Switzerland team   \n",
       "19        Women       GOLD          Athlete  People's Republic of China team   \n",
       "20        Women     SILVER          Athlete                      France team   \n",
       "21        Women     SILVER          Athlete    United States of America team   \n",
       "22        Women       GOLD          Athlete                   Australia team   \n",
       "23        Women     BRONZE          Athlete                         ROC team   \n",
       "24        Women     SILVER          Athlete                      Canada team   \n",
       "25        Women       GOLD          Athlete                      Sweden team   \n",
       "26        Women     BRONZE          Athlete                     Germany team   \n",
       "27          Men     BRONZE          Athlete                         ROC team   \n",
       "28          Men       GOLD          Athlete  People's Republic of China team   \n",
       "29          Men     SILVER          Athlete                     Ukraine team   \n",
       "30        Women     SILVER          Athlete                     Belarus team   \n",
       "31        Women       GOLD          Athlete  People's Republic of China team   \n",
       "32        Women     BRONZE          Athlete    United States of America team   \n",
       "33        Women     SILVER          Athlete                      Canada team   \n",
       "34        Women       GOLD          Athlete  People's Republic of China team   \n",
       "35        Women     BRONZE          Athlete                      Canada team   \n",
       "36        Women     SILVER          Athlete  People's Republic of China team   \n",
       "37        Women       GOLD          Athlete                 Switzerland team   \n",
       "38        Women     BRONZE          Athlete                     Estonia team   \n",
       "39          Men     SILVER          Athlete    United States of America team   \n",
       "40          Men     BRONZE          Athlete                      Sweden team   \n",
       "41          Men       GOLD          Athlete    United States of America team   \n",
       "42        Women     SILVER          Athlete                 Netherlands team   \n",
       "43        Women     BRONZE          Athlete                      Canada team   \n",
       "44        Women       GOLD          Athlete                       Italy team   \n",
       "45          Men     BRONZE          Athlete                      Canada team   \n",
       "46          Men       GOLD          Athlete                     Hungary team   \n",
       "47          Men     SILVER          Athlete                         ROC team   \n",
       "48          Men     BRONZE          Athlete                         ROC team   \n",
       "49          Men       GOLD          Athlete           Republic of Korea team   \n",
       "\n",
       "       athlete_full_name              country_name country_code  \\\n",
       "0   stefania constantini                     Italy           IT   \n",
       "1           amos mosaner                     Italy           IT   \n",
       "2       kristin skaslien                    Norway           NO   \n",
       "3     magnus nedregotten                    Norway           NO   \n",
       "4          almida de val                    Sweden           SE   \n",
       "5         oskar eriksson                    Sweden           SE   \n",
       "6       mikael kingsbury                    Canada           CA   \n",
       "7        walter wallberg                    Sweden           SE   \n",
       "8        ikuma horishima                     Japan           JP   \n",
       "9          nico porteous               New Zealand           NZ   \n",
       "10            david wise  United States of America           US   \n",
       "11         alex ferreira  United States of America           US   \n",
       "12        henrik harlaut                    Sweden           SE   \n",
       "13             birk ruud                    Norway           NO   \n",
       "14       colby stevenson  United States of America           US   \n",
       "15         sergey ridzik                       ROC          ROC   \n",
       "16             alex fiva               Switzerland           CH   \n",
       "17            ryan regez               Switzerland           CH   \n",
       "18      mathilde gremaud               Switzerland           CH   \n",
       "19      ailing eileen gu                     China           CN   \n",
       "20           tess ledeux                    France           FR   \n",
       "21           jaelin kauf  United States of America           US   \n",
       "22        jakara anthony                 Australia           AU   \n",
       "23   anastasiia smirnova                       ROC          ROC   \n",
       "24     marielle thompson                    Canada           CA   \n",
       "25       sandra naeslund                    Sweden           SE   \n",
       "26         daniela maier                   Germany           DE   \n",
       "27            ilia burov                       ROC          ROC   \n",
       "28            guangpu qi                     China           CN   \n",
       "29   oleksandr abramenko                   Ukraine           UA   \n",
       "30         hanna huskova                   Belarus           BY   \n",
       "31            mengtao xu                     China           CN   \n",
       "32            megan nick  United States of America           US   \n",
       "33         cassie sharpe                    Canada           CA   \n",
       "34      ailing eileen gu                     China           CN   \n",
       "35         rachel karker                    Canada           CA   \n",
       "36      ailing eileen gu                     China           CN   \n",
       "37      mathilde gremaud               Switzerland           CH   \n",
       "38         kelly sildaru                   Estonia           EE   \n",
       "39      nicholas goepper  United States of America           US   \n",
       "40         jesper tjader                    Sweden           SE   \n",
       "41        alexander hall  United States of America           US   \n",
       "42     suzanne schulting               Netherlands           NL   \n",
       "43            kim boutin                    Canada           CA   \n",
       "44       arianna fontana                     Italy           IT   \n",
       "45         steven dubois                    Canada           CA   \n",
       "46           shaoang liu                   Hungary           HU   \n",
       "47     konstantin ivliev                       ROC          ROC   \n",
       "48      semen elistratov                       ROC          ROC   \n",
       "49         daeheon hwang         Republic of Korea           KR   \n",
       "\n",
       "   country_3_letter_code  years birth_year   age  \n",
       "0                    ITA   2022       1999  24.0  \n",
       "1                    ITA   2022       1995  28.0  \n",
       "2                    NOR   2022       1986  37.0  \n",
       "3                    NOR   2022       1990  33.0  \n",
       "4                    SWE   2022       1997  26.0  \n",
       "5                    SWE   2022       1991  32.0  \n",
       "6                    CAN   2022       1992  31.0  \n",
       "7                    SWE   2022        NaN   NaN  \n",
       "8                    JPN   2022       1997  26.0  \n",
       "9                    NZL   2022       2001  22.0  \n",
       "10                   USA   2022       1990  33.0  \n",
       "11                   USA   2022       1994  29.0  \n",
       "12                   SWE   2022       1991  32.0  \n",
       "13                   NOR   2022       2000  23.0  \n",
       "14                   USA   2022       1997  26.0  \n",
       "15                   ROC   2022        NaN   NaN  \n",
       "16                   SUI   2022       1986  37.0  \n",
       "17                   SUI   2022       1993  30.0  \n",
       "18                   SUI   2022       2000  23.0  \n",
       "19                   CHN   2022        NaN   NaN  \n",
       "20                   FRA   2022       2001  22.0  \n",
       "21                   USA   2022        NaN   NaN  \n",
       "22                   AUS   2022        NaN   NaN  \n",
       "23                   ROC   2022       2002  21.0  \n",
       "24                   CAN   2022       1992  31.0  \n",
       "25                   SWE   2022       1996  27.0  \n",
       "26                   GER   2022       1996  27.0  \n",
       "27                   ROC   2022       1991  32.0  \n",
       "28                   CHN   2022       1990  33.0  \n",
       "29                   UKR   2022       1988  35.0  \n",
       "30                   BLR   2022       1992  31.0  \n",
       "31                   CHN   2022       1990  33.0  \n",
       "32                   USA   2022       1996  27.0  \n",
       "33                   CAN   2022       1992  31.0  \n",
       "34                   CHN   2022        NaN   NaN  \n",
       "35                   CAN   2022       1997  26.0  \n",
       "36                   CHN   2022        NaN   NaN  \n",
       "37                   SUI   2022       2000  23.0  \n",
       "38                   EST   2022       2002  21.0  \n",
       "39                   USA   2022       1994  29.0  \n",
       "40                   SWE   2022       1994  29.0  \n",
       "41                   USA   2022        NaN   NaN  \n",
       "42                   NED   2022       1997  26.0  \n",
       "43                   CAN   2022        NaN   NaN  \n",
       "44                   ITA   2022       1990  33.0  \n",
       "45                   CAN   2022       1997  26.0  \n",
       "46                   HUN   2022       1998  25.0  \n",
       "47                   ROC   2022       2000  23.0  \n",
       "48                   ROC   2022       1990  33.0  \n",
       "49                   KOR   2022       1999  24.0  "
      ]
     },
     "execution_count": 47,
     "metadata": {},
     "output_type": "execute_result"
    }
   ],
   "source": [
    "df.head(50)"
   ]
  },
  {
   "cell_type": "code",
   "execution_count": 48,
   "id": "8e921c58",
   "metadata": {},
   "outputs": [
    {
     "data": {
      "text/plain": [
       "<Axes: >"
      ]
     },
     "execution_count": 48,
     "metadata": {},
     "output_type": "execute_result"
    },
    {
     "data": {
      "image/png": "[encoded data removed]",
      "text/plain": [
       "<Figure size 640x480 with 2 Axes>"
      ]
     },
     "metadata": {},
     "output_type": "display_data"
    }
   ],
   "source": [
    "sns.heatmap(df.isnull())"
   ]
  },
  {
   "cell_type": "code",
   "execution_count": 49,
   "id": "cd3449dd",
   "metadata": {},
   "outputs": [
    {
     "data": {
      "text/html": [
       "<div>\n",
       "<style scoped>\n",
       "    .dataframe tbody tr th:only-of-type {\n",
       "        vertical-align: middle;\n",
       "    }\n",
       "\n",
       "    .dataframe tbody tr th {\n",
       "        vertical-align: top;\n",
       "    }\n",
       "\n",
       "    .dataframe thead th {\n",
       "        text-align: right;\n",
       "    }\n",
       "</style>\n",
       "<table border=\"1\" class=\"dataframe\">\n",
       "  <thead>\n",
       "    <tr style=\"text-align: right;\">\n",
       "      <th></th>\n",
       "      <th>discipline_title</th>\n",
       "      <th>slug_game</th>\n",
       "      <th>event_title</th>\n",
       "      <th>event_gender</th>\n",
       "      <th>medal_type</th>\n",
       "      <th>participant_type</th>\n",
       "      <th>participant_title</th>\n",
       "      <th>athlete_full_name</th>\n",
       "      <th>country_name</th>\n",
       "      <th>country_code</th>\n",
       "      <th>country_3_letter_code</th>\n",
       "      <th>years</th>\n",
       "      <th>birth_year</th>\n",
       "      <th>age</th>\n",
       "    </tr>\n",
       "  </thead>\n",
       "  <tbody>\n",
       "    <tr>\n",
       "      <th>4</th>\n",
       "      <td>Curling</td>\n",
       "      <td>beijing-2022</td>\n",
       "      <td>Mixed Doubles</td>\n",
       "      <td>Mixed</td>\n",
       "      <td>BRONZE</td>\n",
       "      <td>GameTeam</td>\n",
       "      <td>Sweden team</td>\n",
       "      <td>almida de val</td>\n",
       "      <td>Sweden</td>\n",
       "      <td>SE</td>\n",
       "      <td>SWE</td>\n",
       "      <td>2022</td>\n",
       "      <td>1997</td>\n",
       "      <td>26.0</td>\n",
       "    </tr>\n",
       "  </tbody>\n",
       "</table>\n",
       "</div>"
      ],
      "text/plain": [
       "  discipline_title     slug_game    event_title event_gender medal_type  \\\n",
       "4          Curling  beijing-2022  Mixed Doubles        Mixed     BRONZE   \n",
       "\n",
       "  participant_type participant_title athlete_full_name country_name  \\\n",
       "4         GameTeam       Sweden team     almida de val       Sweden   \n",
       "\n",
       "  country_code country_3_letter_code  years birth_year   age  \n",
       "4           SE                   SWE   2022       1997  26.0  "
      ]
     },
     "execution_count": 49,
     "metadata": {},
     "output_type": "execute_result"
    }
   ],
   "source": [
    "df.query(\"athlete_full_name == 'almida de val'\")\n",
    "# Just testing a random athlete name to ensure everything's going well"
   ]
  },
  {
   "cell_type": "code",
   "execution_count": 50,
   "id": "e3d49c3b",
   "metadata": {},
   "outputs": [
    {
     "data": {
      "text/plain": [
       "2888"
      ]
     },
     "execution_count": 50,
     "metadata": {},
     "output_type": "execute_result"
    }
   ],
   "source": [
    "df['birth_year'].isnull().sum()"
   ]
  },
  {
   "cell_type": "markdown",
   "id": "4ed160fa",
   "metadata": {},
   "source": [
    "almost 2888 values are going to be approximated, as they are null points.\n",
    "We will take mean, as the measure of approximation"
   ]
  },
  {
   "cell_type": "code",
   "execution_count": 51,
   "id": "0ed3f13a",
   "metadata": {},
   "outputs": [],
   "source": [
    "df['birth_year'] = pandas.to_numeric(df['birth_year'], errors='coerce').astype(float)"
   ]
  },
  {
   "cell_type": "code",
   "execution_count": 52,
   "id": "f0b0c7fb",
   "metadata": {},
   "outputs": [
    {
     "data": {
      "text/html": [
       "<div>\n",
       "<style scoped>\n",
       "    .dataframe tbody tr th:only-of-type {\n",
       "        vertical-align: middle;\n",
       "    }\n",
       "\n",
       "    .dataframe tbody tr th {\n",
       "        vertical-align: top;\n",
       "    }\n",
       "\n",
       "    .dataframe thead th {\n",
       "        text-align: right;\n",
       "    }\n",
       "</style>\n",
       "<table border=\"1\" class=\"dataframe\">\n",
       "  <thead>\n",
       "    <tr style=\"text-align: right;\">\n",
       "      <th></th>\n",
       "      <th>discipline_title</th>\n",
       "      <th>slug_game</th>\n",
       "      <th>event_title</th>\n",
       "      <th>event_gender</th>\n",
       "      <th>medal_type</th>\n",
       "      <th>participant_type</th>\n",
       "      <th>participant_title</th>\n",
       "      <th>athlete_full_name</th>\n",
       "      <th>country_name</th>\n",
       "      <th>country_code</th>\n",
       "      <th>country_3_letter_code</th>\n",
       "      <th>years</th>\n",
       "      <th>birth_year</th>\n",
       "      <th>age</th>\n",
       "    </tr>\n",
       "  </thead>\n",
       "  <tbody>\n",
       "    <tr>\n",
       "      <th>0</th>\n",
       "      <td>Curling</td>\n",
       "      <td>beijing-2022</td>\n",
       "      <td>Mixed Doubles</td>\n",
       "      <td>Mixed</td>\n",
       "      <td>GOLD</td>\n",
       "      <td>GameTeam</td>\n",
       "      <td>Italy team</td>\n",
       "      <td>stefania constantini</td>\n",
       "      <td>Italy</td>\n",
       "      <td>IT</td>\n",
       "      <td>ITA</td>\n",
       "      <td>2022</td>\n",
       "      <td>1999.0</td>\n",
       "      <td>24.0</td>\n",
       "    </tr>\n",
       "    <tr>\n",
       "      <th>1</th>\n",
       "      <td>Curling</td>\n",
       "      <td>beijing-2022</td>\n",
       "      <td>Mixed Doubles</td>\n",
       "      <td>Mixed</td>\n",
       "      <td>GOLD</td>\n",
       "      <td>GameTeam</td>\n",
       "      <td>Italy team</td>\n",
       "      <td>amos mosaner</td>\n",
       "      <td>Italy</td>\n",
       "      <td>IT</td>\n",
       "      <td>ITA</td>\n",
       "      <td>2022</td>\n",
       "      <td>1995.0</td>\n",
       "      <td>28.0</td>\n",
       "    </tr>\n",
       "    <tr>\n",
       "      <th>2</th>\n",
       "      <td>Curling</td>\n",
       "      <td>beijing-2022</td>\n",
       "      <td>Mixed Doubles</td>\n",
       "      <td>Mixed</td>\n",
       "      <td>SILVER</td>\n",
       "      <td>GameTeam</td>\n",
       "      <td>Norway team</td>\n",
       "      <td>kristin skaslien</td>\n",
       "      <td>Norway</td>\n",
       "      <td>NO</td>\n",
       "      <td>NOR</td>\n",
       "      <td>2022</td>\n",
       "      <td>1986.0</td>\n",
       "      <td>37.0</td>\n",
       "    </tr>\n",
       "    <tr>\n",
       "      <th>3</th>\n",
       "      <td>Curling</td>\n",
       "      <td>beijing-2022</td>\n",
       "      <td>Mixed Doubles</td>\n",
       "      <td>Mixed</td>\n",
       "      <td>SILVER</td>\n",
       "      <td>GameTeam</td>\n",
       "      <td>Norway team</td>\n",
       "      <td>magnus nedregotten</td>\n",
       "      <td>Norway</td>\n",
       "      <td>NO</td>\n",
       "      <td>NOR</td>\n",
       "      <td>2022</td>\n",
       "      <td>1990.0</td>\n",
       "      <td>33.0</td>\n",
       "    </tr>\n",
       "    <tr>\n",
       "      <th>4</th>\n",
       "      <td>Curling</td>\n",
       "      <td>beijing-2022</td>\n",
       "      <td>Mixed Doubles</td>\n",
       "      <td>Mixed</td>\n",
       "      <td>BRONZE</td>\n",
       "      <td>GameTeam</td>\n",
       "      <td>Sweden team</td>\n",
       "      <td>almida de val</td>\n",
       "      <td>Sweden</td>\n",
       "      <td>SE</td>\n",
       "      <td>SWE</td>\n",
       "      <td>2022</td>\n",
       "      <td>1997.0</td>\n",
       "      <td>26.0</td>\n",
       "    </tr>\n",
       "    <tr>\n",
       "      <th>5</th>\n",
       "      <td>Curling</td>\n",
       "      <td>beijing-2022</td>\n",
       "      <td>Mixed Doubles</td>\n",
       "      <td>Mixed</td>\n",
       "      <td>BRONZE</td>\n",
       "      <td>GameTeam</td>\n",
       "      <td>Sweden team</td>\n",
       "      <td>oskar eriksson</td>\n",
       "      <td>Sweden</td>\n",
       "      <td>SE</td>\n",
       "      <td>SWE</td>\n",
       "      <td>2022</td>\n",
       "      <td>1991.0</td>\n",
       "      <td>32.0</td>\n",
       "    </tr>\n",
       "    <tr>\n",
       "      <th>6</th>\n",
       "      <td>Freestyle Skiing</td>\n",
       "      <td>beijing-2022</td>\n",
       "      <td>Men's Moguls</td>\n",
       "      <td>Men</td>\n",
       "      <td>SILVER</td>\n",
       "      <td>Athlete</td>\n",
       "      <td>Canada team</td>\n",
       "      <td>mikael kingsbury</td>\n",
       "      <td>Canada</td>\n",
       "      <td>CA</td>\n",
       "      <td>CAN</td>\n",
       "      <td>2022</td>\n",
       "      <td>1992.0</td>\n",
       "      <td>31.0</td>\n",
       "    </tr>\n",
       "    <tr>\n",
       "      <th>7</th>\n",
       "      <td>Freestyle Skiing</td>\n",
       "      <td>beijing-2022</td>\n",
       "      <td>Men's Moguls</td>\n",
       "      <td>Men</td>\n",
       "      <td>GOLD</td>\n",
       "      <td>Athlete</td>\n",
       "      <td>Sweden team</td>\n",
       "      <td>walter wallberg</td>\n",
       "      <td>Sweden</td>\n",
       "      <td>SE</td>\n",
       "      <td>SWE</td>\n",
       "      <td>2022</td>\n",
       "      <td>NaN</td>\n",
       "      <td>NaN</td>\n",
       "    </tr>\n",
       "    <tr>\n",
       "      <th>8</th>\n",
       "      <td>Freestyle Skiing</td>\n",
       "      <td>beijing-2022</td>\n",
       "      <td>Men's Moguls</td>\n",
       "      <td>Men</td>\n",
       "      <td>BRONZE</td>\n",
       "      <td>Athlete</td>\n",
       "      <td>Japan team</td>\n",
       "      <td>ikuma horishima</td>\n",
       "      <td>Japan</td>\n",
       "      <td>JP</td>\n",
       "      <td>JPN</td>\n",
       "      <td>2022</td>\n",
       "      <td>1997.0</td>\n",
       "      <td>26.0</td>\n",
       "    </tr>\n",
       "    <tr>\n",
       "      <th>9</th>\n",
       "      <td>Freestyle Skiing</td>\n",
       "      <td>beijing-2022</td>\n",
       "      <td>Men's Freeski Halfpipe</td>\n",
       "      <td>Men</td>\n",
       "      <td>GOLD</td>\n",
       "      <td>Athlete</td>\n",
       "      <td>New Zealand team</td>\n",
       "      <td>nico porteous</td>\n",
       "      <td>New Zealand</td>\n",
       "      <td>NZ</td>\n",
       "      <td>NZL</td>\n",
       "      <td>2022</td>\n",
       "      <td>2001.0</td>\n",
       "      <td>22.0</td>\n",
       "    </tr>\n",
       "  </tbody>\n",
       "</table>\n",
       "</div>"
      ],
      "text/plain": [
       "   discipline_title     slug_game             event_title event_gender  \\\n",
       "0           Curling  beijing-2022           Mixed Doubles        Mixed   \n",
       "1           Curling  beijing-2022           Mixed Doubles        Mixed   \n",
       "2           Curling  beijing-2022           Mixed Doubles        Mixed   \n",
       "3           Curling  beijing-2022           Mixed Doubles        Mixed   \n",
       "4           Curling  beijing-2022           Mixed Doubles        Mixed   \n",
       "5           Curling  beijing-2022           Mixed Doubles        Mixed   \n",
       "6  Freestyle Skiing  beijing-2022            Men's Moguls          Men   \n",
       "7  Freestyle Skiing  beijing-2022            Men's Moguls          Men   \n",
       "8  Freestyle Skiing  beijing-2022            Men's Moguls          Men   \n",
       "9  Freestyle Skiing  beijing-2022  Men's Freeski Halfpipe          Men   \n",
       "\n",
       "  medal_type participant_type participant_title     athlete_full_name  \\\n",
       "0       GOLD         GameTeam        Italy team  stefania constantini   \n",
       "1       GOLD         GameTeam        Italy team          amos mosaner   \n",
       "2     SILVER         GameTeam       Norway team      kristin skaslien   \n",
       "3     SILVER         GameTeam       Norway team    magnus nedregotten   \n",
       "4     BRONZE         GameTeam       Sweden team         almida de val   \n",
       "5     BRONZE         GameTeam       Sweden team        oskar eriksson   \n",
       "6     SILVER          Athlete       Canada team      mikael kingsbury   \n",
       "7       GOLD          Athlete       Sweden team       walter wallberg   \n",
       "8     BRONZE          Athlete        Japan team       ikuma horishima   \n",
       "9       GOLD          Athlete  New Zealand team         nico porteous   \n",
       "\n",
       "  country_name country_code country_3_letter_code  years  birth_year   age  \n",
       "0        Italy           IT                   ITA   2022      1999.0  24.0  \n",
       "1        Italy           IT                   ITA   2022      1995.0  28.0  \n",
       "2       Norway           NO                   NOR   2022      1986.0  37.0  \n",
       "3       Norway           NO                   NOR   2022      1990.0  33.0  \n",
       "4       Sweden           SE                   SWE   2022      1997.0  26.0  \n",
       "5       Sweden           SE                   SWE   2022      1991.0  32.0  \n",
       "6       Canada           CA                   CAN   2022      1992.0  31.0  \n",
       "7       Sweden           SE                   SWE   2022         NaN   NaN  \n",
       "8        Japan           JP                   JPN   2022      1997.0  26.0  \n",
       "9  New Zealand           NZ                   NZL   2022      2001.0  22.0  "
      ]
     },
     "execution_count": 52,
     "metadata": {},
     "output_type": "execute_result"
    }
   ],
   "source": [
    "df.head(10)"
   ]
  },
  {
   "cell_type": "code",
   "execution_count": 53,
   "id": "8ac20656",
   "metadata": {},
   "outputs": [],
   "source": [
    "birthYears=[]\n",
    "\n",
    "for i in df.index:\n",
    "    if str(df.birth_year[i])!='nan':\n",
    "        birthYears.append(int(df.birth_year[i]))\n",
    "    else:\n",
    "        birthYears.append(np.float64('nan'))\n"
   ]
  },
  {
   "cell_type": "code",
   "execution_count": 54,
   "id": "6fecac8a",
   "metadata": {},
   "outputs": [],
   "source": [
    "df['age']=df['years']-birthYears"
   ]
  },
  {
   "cell_type": "markdown",
   "id": "d02dc37a",
   "metadata": {},
   "source": [
    "### Filling other values with mean"
   ]
  },
  {
   "cell_type": "code",
   "execution_count": 55,
   "id": "d449131c",
   "metadata": {},
   "outputs": [
    {
     "data": {
      "text/plain": [
       "26"
      ]
     },
     "execution_count": 55,
     "metadata": {},
     "output_type": "execute_result"
    }
   ],
   "source": [
    "round(df.age.mean())"
   ]
  },
  {
   "cell_type": "markdown",
   "id": "bfd7c22d",
   "metadata": {},
   "source": [
    "### *On an average , the people were `26` when they participated"
   ]
  },
  {
   "cell_type": "code",
   "execution_count": 56,
   "id": "1231879e",
   "metadata": {},
   "outputs": [],
   "source": [
    "# Filling the values\n",
    "df['age']=df.age.fillna(26)"
   ]
  },
  {
   "cell_type": "code",
   "execution_count": 57,
   "id": "914cae3e",
   "metadata": {},
   "outputs": [],
   "source": [
    "# If null ages are filled with 26, birthyear must be ith olympicYear - 26 \n",
    "df['birth_year']=df.birth_year.fillna(df['years']-26)"
   ]
  },
  {
   "cell_type": "code",
   "execution_count": 58,
   "id": "ea3040fb",
   "metadata": {},
   "outputs": [
    {
     "data": {
      "text/plain": [
       "0"
      ]
     },
     "execution_count": 58,
     "metadata": {},
     "output_type": "execute_result"
    }
   ],
   "source": [
    "df.birth_year.isnull().sum()"
   ]
  },
  {
   "cell_type": "code",
   "execution_count": 59,
   "id": "ca23f953",
   "metadata": {},
   "outputs": [
    {
     "data": {
      "text/plain": [
       "0"
      ]
     },
     "execution_count": 59,
     "metadata": {},
     "output_type": "execute_result"
    }
   ],
   "source": [
    "df.age.isnull().sum()"
   ]
  },
  {
   "cell_type": "markdown",
   "id": "9a374b5b",
   "metadata": {},
   "source": [
    "### There are no more null values!"
   ]
  },
  {
   "cell_type": "markdown",
   "id": "f8726929",
   "metadata": {},
   "source": [
    "## More Analysis"
   ]
  },
  {
   "cell_type": "markdown",
   "id": "5dc84ee1",
   "metadata": {},
   "source": [
    "### Things we found out till now:-\n",
    "- #### Given dataset contains data from `1896 - 2022` olympic events\n",
    "- #### On an average all the players were `aged 26`"
   ]
  },
  {
   "cell_type": "code",
   "execution_count": 60,
   "id": "0f5395ed",
   "metadata": {},
   "outputs": [
    {
     "data": {
      "text/plain": [
       "medal_type\n",
       "BRONZE    5981\n",
       "SILVER    5471\n",
       "GOLD      5413\n",
       "Name: count, dtype: int64"
      ]
     },
     "execution_count": 60,
     "metadata": {},
     "output_type": "execute_result"
    }
   ],
   "source": [
    "df['medal_type'].value_counts().sort_values(ascending=False)"
   ]
  },
  {
   "cell_type": "markdown",
   "id": "9f0eb30f",
   "metadata": {},
   "source": [
    "### * So, there are most `Bronze medal` and least `Silver medal` winners"
   ]
  },
  {
   "cell_type": "markdown",
   "id": "ec1cff15",
   "metadata": {},
   "source": [
    "### Ranking:"
   ]
  },
  {
   "cell_type": "markdown",
   "id": "22f019cd",
   "metadata": {},
   "source": [
    "#### On the basis of most participanting countries:"
   ]
  },
  {
   "cell_type": "code",
   "execution_count": 61,
   "id": "33646b3a",
   "metadata": {},
   "outputs": [
    {
     "data": {
      "text/plain": [
       "country_name\n",
       "United States of America    2616\n",
       "Germany                      923\n",
       "Great Britain                812\n",
       "France                       746\n",
       "China                        734\n",
       "Italy                        618\n",
       "Sweden                       555\n",
       "Russia                       525\n",
       "Japan                        508\n",
       "Australia                    505\n",
       "Name: count, dtype: int64"
      ]
     },
     "execution_count": 61,
     "metadata": {},
     "output_type": "execute_result"
    }
   ],
   "source": [
    "# Showing the top 10 countries\n",
    "df['country_name'].value_counts().sort_values(ascending=False)[:10]"
   ]
  },
  {
   "cell_type": "markdown",
   "id": "7cdf269b",
   "metadata": {},
   "source": [
    "### * `USA` has the most amount of medals"
   ]
  },
  {
   "cell_type": "code",
   "execution_count": 62,
   "id": "009631fe",
   "metadata": {},
   "outputs": [
    {
     "data": {
      "text/plain": [
       "discipline_title\n",
       "Athletics              2597\n",
       "Swimming               1393\n",
       "Wrestling              1224\n",
       "Boxing                  943\n",
       "Shooting                722\n",
       "Canoe Sprint            650\n",
       "Gymnastics Artistic     642\n",
       "Rowing                  618\n",
       "Weightlifting           608\n",
       "Sailing                 577\n",
       "Name: count, dtype: int64"
      ]
     },
     "execution_count": 62,
     "metadata": {},
     "output_type": "execute_result"
    }
   ],
   "source": [
    "df.discipline_title.value_counts().sort_values(ascending=False)[:10]"
   ]
  },
  {
   "cell_type": "markdown",
   "id": "d2894416",
   "metadata": {},
   "source": [
    "### * `Athletics`, `Swimming` and `Wrestling` players have most of the entries in our dataset\n",
    "Athletics may include multiple sports like running, jumping, throwing ,etc."
   ]
  },
  {
   "cell_type": "code",
   "execution_count": 63,
   "id": "a3d03e81",
   "metadata": {},
   "outputs": [
    {
     "data": {
      "text/plain": [
       "53"
      ]
     },
     "execution_count": 63,
     "metadata": {},
     "output_type": "execute_result"
    }
   ],
   "source": [
    "len(set(df.slug_game))"
   ]
  },
  {
   "cell_type": "markdown",
   "id": "b95bc3a9",
   "metadata": {},
   "source": [
    "### * In total `53` olympic events were organized between 1896-2022"
   ]
  },
  {
   "cell_type": "code",
   "execution_count": 64,
   "id": "88d21a30",
   "metadata": {},
   "outputs": [],
   "source": [
    "athletes=df.drop_duplicates(subset='athlete_full_name', keep='first')"
   ]
  },
  {
   "cell_type": "code",
   "execution_count": 65,
   "id": "ebb00b48",
   "metadata": {},
   "outputs": [],
   "source": [
    "total_athletes=athletes.country_name.value_counts()"
   ]
  },
  {
   "cell_type": "markdown",
   "id": "5be25918",
   "metadata": {},
   "source": [
    "### Making new dataframe to contain data about countries and their medals "
   ]
  },
  {
   "cell_type": "code",
   "execution_count": 66,
   "id": "aee5e672",
   "metadata": {},
   "outputs": [
    {
     "data": {
      "text/html": [
       "<div>\n",
       "<style scoped>\n",
       "    .dataframe tbody tr th:only-of-type {\n",
       "        vertical-align: middle;\n",
       "    }\n",
       "\n",
       "    .dataframe tbody tr th {\n",
       "        vertical-align: top;\n",
       "    }\n",
       "\n",
       "    .dataframe thead th {\n",
       "        text-align: right;\n",
       "    }\n",
       "</style>\n",
       "<table border=\"1\" class=\"dataframe\">\n",
       "  <thead>\n",
       "    <tr style=\"text-align: right;\">\n",
       "      <th>medal_type</th>\n",
       "      <th>BRONZE</th>\n",
       "      <th>GOLD</th>\n",
       "      <th>SILVER</th>\n",
       "    </tr>\n",
       "    <tr>\n",
       "      <th>country_name</th>\n",
       "      <th></th>\n",
       "      <th></th>\n",
       "      <th></th>\n",
       "    </tr>\n",
       "  </thead>\n",
       "  <tbody>\n",
       "    <tr>\n",
       "      <th>Afghanistan</th>\n",
       "      <td>2</td>\n",
       "      <td>0</td>\n",
       "      <td>0</td>\n",
       "    </tr>\n",
       "    <tr>\n",
       "      <th>Algeria</th>\n",
       "      <td>8</td>\n",
       "      <td>5</td>\n",
       "      <td>4</td>\n",
       "    </tr>\n",
       "    <tr>\n",
       "      <th>Argentina</th>\n",
       "      <td>30</td>\n",
       "      <td>18</td>\n",
       "      <td>19</td>\n",
       "    </tr>\n",
       "    <tr>\n",
       "      <th>Armenia</th>\n",
       "      <td>8</td>\n",
       "      <td>2</td>\n",
       "      <td>8</td>\n",
       "    </tr>\n",
       "    <tr>\n",
       "      <th>Australia</th>\n",
       "      <td>193</td>\n",
       "      <td>158</td>\n",
       "      <td>154</td>\n",
       "    </tr>\n",
       "    <tr>\n",
       "      <th>...</th>\n",
       "      <td>...</td>\n",
       "      <td>...</td>\n",
       "      <td>...</td>\n",
       "    </tr>\n",
       "    <tr>\n",
       "      <th>Vietnam</th>\n",
       "      <td>0</td>\n",
       "      <td>1</td>\n",
       "      <td>3</td>\n",
       "    </tr>\n",
       "    <tr>\n",
       "      <th>Virgin Islands, US</th>\n",
       "      <td>0</td>\n",
       "      <td>0</td>\n",
       "      <td>1</td>\n",
       "    </tr>\n",
       "    <tr>\n",
       "      <th>Yugoslavia</th>\n",
       "      <td>26</td>\n",
       "      <td>18</td>\n",
       "      <td>22</td>\n",
       "    </tr>\n",
       "    <tr>\n",
       "      <th>Zambia</th>\n",
       "      <td>1</td>\n",
       "      <td>0</td>\n",
       "      <td>1</td>\n",
       "    </tr>\n",
       "    <tr>\n",
       "      <th>Zimbabwe</th>\n",
       "      <td>1</td>\n",
       "      <td>2</td>\n",
       "      <td>4</td>\n",
       "    </tr>\n",
       "  </tbody>\n",
       "</table>\n",
       "<p>143 rows × 3 columns</p>\n",
       "</div>"
      ],
      "text/plain": [
       "medal_type          BRONZE  GOLD  SILVER\n",
       "country_name                            \n",
       "Afghanistan              2     0       0\n",
       "Algeria                  8     5       4\n",
       "Argentina               30    18      19\n",
       "Armenia                  8     2       8\n",
       "Australia              193   158     154\n",
       "...                    ...   ...     ...\n",
       "Vietnam                  0     1       3\n",
       "Virgin Islands, US       0     0       1\n",
       "Yugoslavia              26    18      22\n",
       "Zambia                   1     0       1\n",
       "Zimbabwe                 1     2       4\n",
       "\n",
       "[143 rows x 3 columns]"
      ]
     },
     "execution_count": 66,
     "metadata": {},
     "output_type": "execute_result"
    }
   ],
   "source": [
    "#Grouping the countries by medal_type, so that there are 3 columns count, medal_type and country_name\n",
    "medals_count = df.groupby(['medal_type', 'country_name']).size().reset_index(name='count')\n",
    "\n",
    "# Creating a pivot table and passing the previous values, to convert medal_type to a column\n",
    "pivot_table = medals_count.pivot_table(index='country_name', columns='medal_type', values='count', fill_value=0)\n",
    "pivot_table"
   ]
  },
  {
   "cell_type": "code",
   "execution_count": 67,
   "id": "0c13f721",
   "metadata": {},
   "outputs": [
    {
     "data": {
      "text/plain": [
       "'United States of America'"
      ]
     },
     "execution_count": 67,
     "metadata": {},
     "output_type": "execute_result"
    }
   ],
   "source": [
    "pivot_table['BRONZE'].idxmax()"
   ]
  },
  {
   "cell_type": "code",
   "execution_count": 68,
   "id": "1a1e8a33",
   "metadata": {},
   "outputs": [
    {
     "data": {
      "text/plain": [
       "'United States of America'"
      ]
     },
     "execution_count": 68,
     "metadata": {},
     "output_type": "execute_result"
    }
   ],
   "source": [
    "pivot_table['SILVER'].idxmax()"
   ]
  },
  {
   "cell_type": "code",
   "execution_count": 69,
   "id": "8d92950d",
   "metadata": {},
   "outputs": [
    {
     "data": {
      "text/plain": [
       "'United States of America'"
      ]
     },
     "execution_count": 69,
     "metadata": {},
     "output_type": "execute_result"
    }
   ],
   "source": [
    "pivot_table['GOLD'].idxmax()"
   ]
  },
  {
   "cell_type": "markdown",
   "id": "de71fd08",
   "metadata": {},
   "source": [
    "### * `USA` has the most Silver, Gold and Bronze medals"
   ]
  },
  {
   "cell_type": "markdown",
   "id": "f6fa0950",
   "metadata": {},
   "source": [
    "## Adding even more data from internet"
   ]
  },
  {
   "cell_type": "markdown",
   "id": "0ae73fce",
   "metadata": {},
   "source": [
    "### This dataset is taken from Kaggle\n",
    "Here is the link to it : https://www.kaggle.com/datasets/iamsouravbanerjee/world-population-dataset"
   ]
  },
  {
   "cell_type": "code",
   "execution_count": 70,
   "id": "85d6bcdf",
   "metadata": {},
   "outputs": [],
   "source": [
    "population=pandas.read_csv(\"world_population.csv\")"
   ]
  },
  {
   "cell_type": "code",
   "execution_count": 71,
   "id": "c770a260",
   "metadata": {},
   "outputs": [
    {
     "data": {
      "text/html": [
       "<div>\n",
       "<style scoped>\n",
       "    .dataframe tbody tr th:only-of-type {\n",
       "        vertical-align: middle;\n",
       "    }\n",
       "\n",
       "    .dataframe tbody tr th {\n",
       "        vertical-align: top;\n",
       "    }\n",
       "\n",
       "    .dataframe thead th {\n",
       "        text-align: right;\n",
       "    }\n",
       "</style>\n",
       "<table border=\"1\" class=\"dataframe\">\n",
       "  <thead>\n",
       "    <tr style=\"text-align: right;\">\n",
       "      <th></th>\n",
       "      <th>Rank</th>\n",
       "      <th>CCA3</th>\n",
       "      <th>Country/Territory</th>\n",
       "      <th>Capital</th>\n",
       "      <th>Continent</th>\n",
       "      <th>2022 Population</th>\n",
       "      <th>2020 Population</th>\n",
       "      <th>2015 Population</th>\n",
       "      <th>2010 Population</th>\n",
       "      <th>2000 Population</th>\n",
       "      <th>1990 Population</th>\n",
       "      <th>1980 Population</th>\n",
       "      <th>1970 Population</th>\n",
       "      <th>Area (km²)</th>\n",
       "      <th>Density (per km²)</th>\n",
       "      <th>Growth Rate</th>\n",
       "      <th>World Population Percentage</th>\n",
       "    </tr>\n",
       "  </thead>\n",
       "  <tbody>\n",
       "    <tr>\n",
       "      <th>0</th>\n",
       "      <td>36</td>\n",
       "      <td>AFG</td>\n",
       "      <td>Afghanistan</td>\n",
       "      <td>Kabul</td>\n",
       "      <td>Asia</td>\n",
       "      <td>41128771</td>\n",
       "      <td>38972230</td>\n",
       "      <td>33753499</td>\n",
       "      <td>28189672</td>\n",
       "      <td>19542982</td>\n",
       "      <td>10694796</td>\n",
       "      <td>12486631</td>\n",
       "      <td>10752971</td>\n",
       "      <td>652230</td>\n",
       "      <td>63.0587</td>\n",
       "      <td>1.0257</td>\n",
       "      <td>0.52</td>\n",
       "    </tr>\n",
       "    <tr>\n",
       "      <th>1</th>\n",
       "      <td>138</td>\n",
       "      <td>ALB</td>\n",
       "      <td>Albania</td>\n",
       "      <td>Tirana</td>\n",
       "      <td>Europe</td>\n",
       "      <td>2842321</td>\n",
       "      <td>2866849</td>\n",
       "      <td>2882481</td>\n",
       "      <td>2913399</td>\n",
       "      <td>3182021</td>\n",
       "      <td>3295066</td>\n",
       "      <td>2941651</td>\n",
       "      <td>2324731</td>\n",
       "      <td>28748</td>\n",
       "      <td>98.8702</td>\n",
       "      <td>0.9957</td>\n",
       "      <td>0.04</td>\n",
       "    </tr>\n",
       "    <tr>\n",
       "      <th>2</th>\n",
       "      <td>34</td>\n",
       "      <td>DZA</td>\n",
       "      <td>Algeria</td>\n",
       "      <td>Algiers</td>\n",
       "      <td>Africa</td>\n",
       "      <td>44903225</td>\n",
       "      <td>43451666</td>\n",
       "      <td>39543154</td>\n",
       "      <td>35856344</td>\n",
       "      <td>30774621</td>\n",
       "      <td>25518074</td>\n",
       "      <td>18739378</td>\n",
       "      <td>13795915</td>\n",
       "      <td>2381741</td>\n",
       "      <td>18.8531</td>\n",
       "      <td>1.0164</td>\n",
       "      <td>0.56</td>\n",
       "    </tr>\n",
       "    <tr>\n",
       "      <th>3</th>\n",
       "      <td>213</td>\n",
       "      <td>ASM</td>\n",
       "      <td>American Samoa</td>\n",
       "      <td>Pago Pago</td>\n",
       "      <td>Oceania</td>\n",
       "      <td>44273</td>\n",
       "      <td>46189</td>\n",
       "      <td>51368</td>\n",
       "      <td>54849</td>\n",
       "      <td>58230</td>\n",
       "      <td>47818</td>\n",
       "      <td>32886</td>\n",
       "      <td>27075</td>\n",
       "      <td>199</td>\n",
       "      <td>222.4774</td>\n",
       "      <td>0.9831</td>\n",
       "      <td>0.00</td>\n",
       "    </tr>\n",
       "    <tr>\n",
       "      <th>4</th>\n",
       "      <td>203</td>\n",
       "      <td>AND</td>\n",
       "      <td>Andorra</td>\n",
       "      <td>Andorra la Vella</td>\n",
       "      <td>Europe</td>\n",
       "      <td>79824</td>\n",
       "      <td>77700</td>\n",
       "      <td>71746</td>\n",
       "      <td>71519</td>\n",
       "      <td>66097</td>\n",
       "      <td>53569</td>\n",
       "      <td>35611</td>\n",
       "      <td>19860</td>\n",
       "      <td>468</td>\n",
       "      <td>170.5641</td>\n",
       "      <td>1.0100</td>\n",
       "      <td>0.00</td>\n",
       "    </tr>\n",
       "  </tbody>\n",
       "</table>\n",
       "</div>"
      ],
      "text/plain": [
       "   Rank CCA3 Country/Territory           Capital Continent  2022 Population  \\\n",
       "0    36  AFG       Afghanistan             Kabul      Asia         41128771   \n",
       "1   138  ALB           Albania            Tirana    Europe          2842321   \n",
       "2    34  DZA           Algeria           Algiers    Africa         44903225   \n",
       "3   213  ASM    American Samoa         Pago Pago   Oceania            44273   \n",
       "4   203  AND           Andorra  Andorra la Vella    Europe            79824   \n",
       "\n",
       "   2020 Population  2015 Population  2010 Population  2000 Population  \\\n",
       "0         38972230         33753499         28189672         19542982   \n",
       "1          2866849          2882481          2913399          3182021   \n",
       "2         43451666         39543154         35856344         30774621   \n",
       "3            46189            51368            54849            58230   \n",
       "4            77700            71746            71519            66097   \n",
       "\n",
       "   1990 Population  1980 Population  1970 Population  Area (km²)  \\\n",
       "0         10694796         12486631         10752971      652230   \n",
       "1          3295066          2941651          2324731       28748   \n",
       "2         25518074         18739378         13795915     2381741   \n",
       "3            47818            32886            27075         199   \n",
       "4            53569            35611            19860         468   \n",
       "\n",
       "   Density (per km²)  Growth Rate  World Population Percentage  \n",
       "0            63.0587       1.0257                         0.52  \n",
       "1            98.8702       0.9957                         0.04  \n",
       "2            18.8531       1.0164                         0.56  \n",
       "3           222.4774       0.9831                         0.00  \n",
       "4           170.5641       1.0100                         0.00  "
      ]
     },
     "execution_count": 71,
     "metadata": {},
     "output_type": "execute_result"
    }
   ],
   "source": [
    "population.head()"
   ]
  },
  {
   "cell_type": "code",
   "execution_count": 72,
   "id": "898e8c0c",
   "metadata": {},
   "outputs": [],
   "source": [
    "# Dropping unnecessary columns\n",
    "population=population.drop(['Capital','CCA3','World Population Percentage','Growth Rate','Area (km²)','Density (per km²)','Rank','1990 Population','1980 Population','1970 Population'],axis=1)"
   ]
  },
  {
   "cell_type": "code",
   "execution_count": 73,
   "id": "48f016b6",
   "metadata": {},
   "outputs": [],
   "source": [
    "population['AvgPopulation']=round((population['2022 Population']+population['2020 Population']+population['2015 Population']+population['2010 Population']+population['2000 Population'])/5)"
   ]
  },
  {
   "cell_type": "code",
   "execution_count": 74,
   "id": "ee3d7528",
   "metadata": {},
   "outputs": [
    {
     "data": {
      "text/html": [
       "<div>\n",
       "<style scoped>\n",
       "    .dataframe tbody tr th:only-of-type {\n",
       "        vertical-align: middle;\n",
       "    }\n",
       "\n",
       "    .dataframe tbody tr th {\n",
       "        vertical-align: top;\n",
       "    }\n",
       "\n",
       "    .dataframe thead th {\n",
       "        text-align: right;\n",
       "    }\n",
       "</style>\n",
       "<table border=\"1\" class=\"dataframe\">\n",
       "  <thead>\n",
       "    <tr style=\"text-align: right;\">\n",
       "      <th></th>\n",
       "      <th>Country/Territory</th>\n",
       "      <th>Continent</th>\n",
       "      <th>2022 Population</th>\n",
       "      <th>2020 Population</th>\n",
       "      <th>2015 Population</th>\n",
       "      <th>2010 Population</th>\n",
       "      <th>2000 Population</th>\n",
       "      <th>AvgPopulation</th>\n",
       "    </tr>\n",
       "  </thead>\n",
       "  <tbody>\n",
       "    <tr>\n",
       "      <th>0</th>\n",
       "      <td>Afghanistan</td>\n",
       "      <td>Asia</td>\n",
       "      <td>41128771</td>\n",
       "      <td>38972230</td>\n",
       "      <td>33753499</td>\n",
       "      <td>28189672</td>\n",
       "      <td>19542982</td>\n",
       "      <td>32317431.0</td>\n",
       "    </tr>\n",
       "    <tr>\n",
       "      <th>1</th>\n",
       "      <td>Albania</td>\n",
       "      <td>Europe</td>\n",
       "      <td>2842321</td>\n",
       "      <td>2866849</td>\n",
       "      <td>2882481</td>\n",
       "      <td>2913399</td>\n",
       "      <td>3182021</td>\n",
       "      <td>2937414.0</td>\n",
       "    </tr>\n",
       "    <tr>\n",
       "      <th>2</th>\n",
       "      <td>Algeria</td>\n",
       "      <td>Africa</td>\n",
       "      <td>44903225</td>\n",
       "      <td>43451666</td>\n",
       "      <td>39543154</td>\n",
       "      <td>35856344</td>\n",
       "      <td>30774621</td>\n",
       "      <td>38905802.0</td>\n",
       "    </tr>\n",
       "    <tr>\n",
       "      <th>3</th>\n",
       "      <td>American Samoa</td>\n",
       "      <td>Oceania</td>\n",
       "      <td>44273</td>\n",
       "      <td>46189</td>\n",
       "      <td>51368</td>\n",
       "      <td>54849</td>\n",
       "      <td>58230</td>\n",
       "      <td>50982.0</td>\n",
       "    </tr>\n",
       "    <tr>\n",
       "      <th>4</th>\n",
       "      <td>Andorra</td>\n",
       "      <td>Europe</td>\n",
       "      <td>79824</td>\n",
       "      <td>77700</td>\n",
       "      <td>71746</td>\n",
       "      <td>71519</td>\n",
       "      <td>66097</td>\n",
       "      <td>73377.0</td>\n",
       "    </tr>\n",
       "  </tbody>\n",
       "</table>\n",
       "</div>"
      ],
      "text/plain": [
       "  Country/Territory Continent  2022 Population  2020 Population  \\\n",
       "0       Afghanistan      Asia         41128771         38972230   \n",
       "1           Albania    Europe          2842321          2866849   \n",
       "2           Algeria    Africa         44903225         43451666   \n",
       "3    American Samoa   Oceania            44273            46189   \n",
       "4           Andorra    Europe            79824            77700   \n",
       "\n",
       "   2015 Population  2010 Population  2000 Population  AvgPopulation  \n",
       "0         33753499         28189672         19542982     32317431.0  \n",
       "1          2882481          2913399          3182021      2937414.0  \n",
       "2         39543154         35856344         30774621     38905802.0  \n",
       "3            51368            54849            58230        50982.0  \n",
       "4            71746            71519            66097        73377.0  "
      ]
     },
     "execution_count": 74,
     "metadata": {},
     "output_type": "execute_result"
    }
   ],
   "source": [
    "population.head()"
   ]
  },
  {
   "cell_type": "code",
   "execution_count": 75,
   "id": "2826782b",
   "metadata": {},
   "outputs": [],
   "source": [
    "population=population.drop(['2022 Population','2020 Population','2015 Population','2010 Population','2000 Population'],axis=1)\n",
    "population=population.rename(columns={'Country/Territory':'country_name','AvgPopulation':'AvgPopulation'})"
   ]
  },
  {
   "cell_type": "code",
   "execution_count": 76,
   "id": "a6f228d8",
   "metadata": {},
   "outputs": [],
   "source": [
    "pivot_table.to_csv(\"country_medals.csv\")"
   ]
  },
  {
   "cell_type": "code",
   "execution_count": 77,
   "id": "99458d08",
   "metadata": {},
   "outputs": [
    {
     "data": {
      "text/plain": [
       "country_name     0\n",
       "Continent        0\n",
       "AvgPopulation    0\n",
       "dtype: int64"
      ]
     },
     "execution_count": 77,
     "metadata": {},
     "output_type": "execute_result"
    }
   ],
   "source": [
    "population.isnull().sum()\n",
    "# No null values:)"
   ]
  },
  {
   "cell_type": "code",
   "execution_count": 78,
   "id": "93c64211",
   "metadata": {},
   "outputs": [],
   "source": [
    "newDf=pandas.merge(pivot_table, population, how='inner', on='country_name')"
   ]
  },
  {
   "cell_type": "code",
   "execution_count": 79,
   "id": "f04a8f2b",
   "metadata": {},
   "outputs": [
    {
     "data": {
      "text/plain": [
       "country_name     0\n",
       "BRONZE           0\n",
       "GOLD             0\n",
       "SILVER           0\n",
       "Continent        0\n",
       "AvgPopulation    0\n",
       "dtype: int64"
      ]
     },
     "execution_count": 79,
     "metadata": {},
     "output_type": "execute_result"
    }
   ],
   "source": [
    "newDf.isnull().sum()"
   ]
  },
  {
   "cell_type": "code",
   "execution_count": 80,
   "id": "c9f3ebce",
   "metadata": {},
   "outputs": [
    {
     "data": {
      "text/html": [
       "<div>\n",
       "<style scoped>\n",
       "    .dataframe tbody tr th:only-of-type {\n",
       "        vertical-align: middle;\n",
       "    }\n",
       "\n",
       "    .dataframe tbody tr th {\n",
       "        vertical-align: top;\n",
       "    }\n",
       "\n",
       "    .dataframe thead th {\n",
       "        text-align: right;\n",
       "    }\n",
       "</style>\n",
       "<table border=\"1\" class=\"dataframe\">\n",
       "  <thead>\n",
       "    <tr style=\"text-align: right;\">\n",
       "      <th></th>\n",
       "      <th>country_name</th>\n",
       "      <th>BRONZE</th>\n",
       "      <th>GOLD</th>\n",
       "      <th>SILVER</th>\n",
       "      <th>Continent</th>\n",
       "      <th>AvgPopulation</th>\n",
       "    </tr>\n",
       "  </thead>\n",
       "  <tbody>\n",
       "    <tr>\n",
       "      <th>0</th>\n",
       "      <td>Afghanistan</td>\n",
       "      <td>2</td>\n",
       "      <td>0</td>\n",
       "      <td>0</td>\n",
       "      <td>Asia</td>\n",
       "      <td>32317431.0</td>\n",
       "    </tr>\n",
       "    <tr>\n",
       "      <th>1</th>\n",
       "      <td>Algeria</td>\n",
       "      <td>8</td>\n",
       "      <td>5</td>\n",
       "      <td>4</td>\n",
       "      <td>Africa</td>\n",
       "      <td>38905802.0</td>\n",
       "    </tr>\n",
       "    <tr>\n",
       "      <th>2</th>\n",
       "      <td>Argentina</td>\n",
       "      <td>30</td>\n",
       "      <td>18</td>\n",
       "      <td>19</td>\n",
       "      <td>South America</td>\n",
       "      <td>42394862.0</td>\n",
       "    </tr>\n",
       "    <tr>\n",
       "      <th>3</th>\n",
       "      <td>Armenia</td>\n",
       "      <td>8</td>\n",
       "      <td>2</td>\n",
       "      <td>8</td>\n",
       "      <td>Asia</td>\n",
       "      <td>2915898.0</td>\n",
       "    </tr>\n",
       "    <tr>\n",
       "      <th>4</th>\n",
       "      <td>Australia</td>\n",
       "      <td>193</td>\n",
       "      <td>158</td>\n",
       "      <td>154</td>\n",
       "      <td>Oceania</td>\n",
       "      <td>23340966.0</td>\n",
       "    </tr>\n",
       "  </tbody>\n",
       "</table>\n",
       "</div>"
      ],
      "text/plain": [
       "  country_name  BRONZE  GOLD  SILVER      Continent  AvgPopulation\n",
       "0  Afghanistan       2     0       0           Asia     32317431.0\n",
       "1      Algeria       8     5       4         Africa     38905802.0\n",
       "2    Argentina      30    18      19  South America     42394862.0\n",
       "3      Armenia       8     2       8           Asia      2915898.0\n",
       "4    Australia     193   158     154        Oceania     23340966.0"
      ]
     },
     "execution_count": 80,
     "metadata": {},
     "output_type": "execute_result"
    }
   ],
   "source": [
    "newDf.head()"
   ]
  },
  {
   "cell_type": "code",
   "execution_count": 81,
   "id": "f3dbf74f",
   "metadata": {},
   "outputs": [
    {
     "data": {
      "text/html": [
       "<div>\n",
       "<style scoped>\n",
       "    .dataframe tbody tr th:only-of-type {\n",
       "        vertical-align: middle;\n",
       "    }\n",
       "\n",
       "    .dataframe tbody tr th {\n",
       "        vertical-align: top;\n",
       "    }\n",
       "\n",
       "    .dataframe thead th {\n",
       "        text-align: right;\n",
       "    }\n",
       "</style>\n",
       "<table border=\"1\" class=\"dataframe\">\n",
       "  <thead>\n",
       "    <tr style=\"text-align: right;\">\n",
       "      <th></th>\n",
       "      <th>country_name</th>\n",
       "      <th>BRONZE</th>\n",
       "      <th>GOLD</th>\n",
       "      <th>SILVER</th>\n",
       "      <th>AvgPopulation</th>\n",
       "      <th>Continent_Africa</th>\n",
       "      <th>Continent_Asia</th>\n",
       "      <th>Continent_Europe</th>\n",
       "      <th>Continent_North America</th>\n",
       "      <th>Continent_Oceania</th>\n",
       "      <th>Continent_South America</th>\n",
       "    </tr>\n",
       "  </thead>\n",
       "  <tbody>\n",
       "    <tr>\n",
       "      <th>0</th>\n",
       "      <td>Afghanistan</td>\n",
       "      <td>2</td>\n",
       "      <td>0</td>\n",
       "      <td>0</td>\n",
       "      <td>32317431.0</td>\n",
       "      <td>False</td>\n",
       "      <td>True</td>\n",
       "      <td>False</td>\n",
       "      <td>False</td>\n",
       "      <td>False</td>\n",
       "      <td>False</td>\n",
       "    </tr>\n",
       "    <tr>\n",
       "      <th>1</th>\n",
       "      <td>Algeria</td>\n",
       "      <td>8</td>\n",
       "      <td>5</td>\n",
       "      <td>4</td>\n",
       "      <td>38905802.0</td>\n",
       "      <td>True</td>\n",
       "      <td>False</td>\n",
       "      <td>False</td>\n",
       "      <td>False</td>\n",
       "      <td>False</td>\n",
       "      <td>False</td>\n",
       "    </tr>\n",
       "    <tr>\n",
       "      <th>2</th>\n",
       "      <td>Argentina</td>\n",
       "      <td>30</td>\n",
       "      <td>18</td>\n",
       "      <td>19</td>\n",
       "      <td>42394862.0</td>\n",
       "      <td>False</td>\n",
       "      <td>False</td>\n",
       "      <td>False</td>\n",
       "      <td>False</td>\n",
       "      <td>False</td>\n",
       "      <td>True</td>\n",
       "    </tr>\n",
       "    <tr>\n",
       "      <th>3</th>\n",
       "      <td>Armenia</td>\n",
       "      <td>8</td>\n",
       "      <td>2</td>\n",
       "      <td>8</td>\n",
       "      <td>2915898.0</td>\n",
       "      <td>False</td>\n",
       "      <td>True</td>\n",
       "      <td>False</td>\n",
       "      <td>False</td>\n",
       "      <td>False</td>\n",
       "      <td>False</td>\n",
       "    </tr>\n",
       "    <tr>\n",
       "      <th>4</th>\n",
       "      <td>Australia</td>\n",
       "      <td>193</td>\n",
       "      <td>158</td>\n",
       "      <td>154</td>\n",
       "      <td>23340966.0</td>\n",
       "      <td>False</td>\n",
       "      <td>False</td>\n",
       "      <td>False</td>\n",
       "      <td>False</td>\n",
       "      <td>True</td>\n",
       "      <td>False</td>\n",
       "    </tr>\n",
       "  </tbody>\n",
       "</table>\n",
       "</div>"
      ],
      "text/plain": [
       "  country_name  BRONZE  GOLD  SILVER  AvgPopulation  Continent_Africa  \\\n",
       "0  Afghanistan       2     0       0     32317431.0             False   \n",
       "1      Algeria       8     5       4     38905802.0              True   \n",
       "2    Argentina      30    18      19     42394862.0             False   \n",
       "3      Armenia       8     2       8      2915898.0             False   \n",
       "4    Australia     193   158     154     23340966.0             False   \n",
       "\n",
       "   Continent_Asia  Continent_Europe  Continent_North America  \\\n",
       "0            True             False                    False   \n",
       "1           False             False                    False   \n",
       "2           False             False                    False   \n",
       "3            True             False                    False   \n",
       "4           False             False                    False   \n",
       "\n",
       "   Continent_Oceania  Continent_South America  \n",
       "0              False                    False  \n",
       "1              False                    False  \n",
       "2              False                     True  \n",
       "3              False                    False  \n",
       "4               True                    False  "
      ]
     },
     "execution_count": 81,
     "metadata": {},
     "output_type": "execute_result"
    }
   ],
   "source": [
    "pandas.get_dummies(newDf, columns=['Continent']).head()"
   ]
  },
  {
   "cell_type": "code",
   "execution_count": 82,
   "id": "21a7e1bf",
   "metadata": {},
   "outputs": [],
   "source": [
    "newDf=pandas.get_dummies(newDf, columns=['Continent'])"
   ]
  },
  {
   "cell_type": "code",
   "execution_count": 83,
   "id": "d3279452",
   "metadata": {},
   "outputs": [],
   "source": [
    "correlation_matrix = newDf[['AvgPopulation','Continent_Africa','Continent_Asia','Continent_Europe','Continent_North America','Continent_Oceania','Continent_South America', 'BRONZE', 'SILVER', 'GOLD']].corr()"
   ]
  },
  {
   "cell_type": "code",
   "execution_count": 84,
   "id": "3002081a",
   "metadata": {},
   "outputs": [
    {
     "data": {
      "text/html": [
       "<div>\n",
       "<style scoped>\n",
       "    .dataframe tbody tr th:only-of-type {\n",
       "        vertical-align: middle;\n",
       "    }\n",
       "\n",
       "    .dataframe tbody tr th {\n",
       "        vertical-align: top;\n",
       "    }\n",
       "\n",
       "    .dataframe thead th {\n",
       "        text-align: right;\n",
       "    }\n",
       "</style>\n",
       "<table border=\"1\" class=\"dataframe\">\n",
       "  <thead>\n",
       "    <tr style=\"text-align: right;\">\n",
       "      <th></th>\n",
       "      <th>AvgPopulation</th>\n",
       "      <th>Continent_Africa</th>\n",
       "      <th>Continent_Asia</th>\n",
       "      <th>Continent_Europe</th>\n",
       "      <th>Continent_North America</th>\n",
       "      <th>Continent_Oceania</th>\n",
       "      <th>Continent_South America</th>\n",
       "      <th>BRONZE</th>\n",
       "      <th>SILVER</th>\n",
       "      <th>GOLD</th>\n",
       "    </tr>\n",
       "  </thead>\n",
       "  <tbody>\n",
       "    <tr>\n",
       "      <th>AvgPopulation</th>\n",
       "      <td>1.000000</td>\n",
       "      <td>-0.052941</td>\n",
       "      <td>0.257595</td>\n",
       "      <td>-0.115605</td>\n",
       "      <td>-0.075573</td>\n",
       "      <td>-0.045097</td>\n",
       "      <td>-0.017836</td>\n",
       "      <td>0.189249</td>\n",
       "      <td>0.242035</td>\n",
       "      <td>0.316857</td>\n",
       "    </tr>\n",
       "    <tr>\n",
       "      <th>Continent_Africa</th>\n",
       "      <td>-0.052941</td>\n",
       "      <td>1.000000</td>\n",
       "      <td>-0.303746</td>\n",
       "      <td>-0.336708</td>\n",
       "      <td>-0.194852</td>\n",
       "      <td>-0.095816</td>\n",
       "      <td>-0.155504</td>\n",
       "      <td>-0.246410</td>\n",
       "      <td>-0.233173</td>\n",
       "      <td>-0.221086</td>\n",
       "    </tr>\n",
       "    <tr>\n",
       "      <th>Continent_Asia</th>\n",
       "      <td>0.257595</td>\n",
       "      <td>-0.303746</td>\n",
       "      <td>1.000000</td>\n",
       "      <td>-0.377626</td>\n",
       "      <td>-0.218531</td>\n",
       "      <td>-0.107461</td>\n",
       "      <td>-0.174402</td>\n",
       "      <td>-0.141191</td>\n",
       "      <td>-0.135001</td>\n",
       "      <td>-0.103805</td>\n",
       "    </tr>\n",
       "    <tr>\n",
       "      <th>Continent_Europe</th>\n",
       "      <td>-0.115605</td>\n",
       "      <td>-0.336708</td>\n",
       "      <td>-0.377626</td>\n",
       "      <td>1.000000</td>\n",
       "      <td>-0.242246</td>\n",
       "      <td>-0.119122</td>\n",
       "      <td>-0.193327</td>\n",
       "      <td>0.447441</td>\n",
       "      <td>0.443068</td>\n",
       "      <td>0.397641</td>\n",
       "    </tr>\n",
       "    <tr>\n",
       "      <th>Continent_North America</th>\n",
       "      <td>-0.075573</td>\n",
       "      <td>-0.194852</td>\n",
       "      <td>-0.218531</td>\n",
       "      <td>-0.242246</td>\n",
       "      <td>1.000000</td>\n",
       "      <td>-0.068935</td>\n",
       "      <td>-0.111878</td>\n",
       "      <td>-0.076668</td>\n",
       "      <td>-0.079965</td>\n",
       "      <td>-0.084550</td>\n",
       "    </tr>\n",
       "    <tr>\n",
       "      <th>Continent_Oceania</th>\n",
       "      <td>-0.045097</td>\n",
       "      <td>-0.095816</td>\n",
       "      <td>-0.107461</td>\n",
       "      <td>-0.119122</td>\n",
       "      <td>-0.068935</td>\n",
       "      <td>1.000000</td>\n",
       "      <td>-0.055015</td>\n",
       "      <td>0.071915</td>\n",
       "      <td>0.055940</td>\n",
       "      <td>0.074599</td>\n",
       "    </tr>\n",
       "    <tr>\n",
       "      <th>Continent_South America</th>\n",
       "      <td>-0.017836</td>\n",
       "      <td>-0.155504</td>\n",
       "      <td>-0.174402</td>\n",
       "      <td>-0.193327</td>\n",
       "      <td>-0.111878</td>\n",
       "      <td>-0.055015</td>\n",
       "      <td>1.000000</td>\n",
       "      <td>-0.106898</td>\n",
       "      <td>-0.114895</td>\n",
       "      <td>-0.113547</td>\n",
       "    </tr>\n",
       "    <tr>\n",
       "      <th>BRONZE</th>\n",
       "      <td>0.189249</td>\n",
       "      <td>-0.246410</td>\n",
       "      <td>-0.141191</td>\n",
       "      <td>0.447441</td>\n",
       "      <td>-0.076668</td>\n",
       "      <td>0.071915</td>\n",
       "      <td>-0.106898</td>\n",
       "      <td>1.000000</td>\n",
       "      <td>0.983944</td>\n",
       "      <td>0.962501</td>\n",
       "    </tr>\n",
       "    <tr>\n",
       "      <th>SILVER</th>\n",
       "      <td>0.242035</td>\n",
       "      <td>-0.233173</td>\n",
       "      <td>-0.135001</td>\n",
       "      <td>0.443068</td>\n",
       "      <td>-0.079965</td>\n",
       "      <td>0.055940</td>\n",
       "      <td>-0.114895</td>\n",
       "      <td>0.983944</td>\n",
       "      <td>1.000000</td>\n",
       "      <td>0.980459</td>\n",
       "    </tr>\n",
       "    <tr>\n",
       "      <th>GOLD</th>\n",
       "      <td>0.316857</td>\n",
       "      <td>-0.221086</td>\n",
       "      <td>-0.103805</td>\n",
       "      <td>0.397641</td>\n",
       "      <td>-0.084550</td>\n",
       "      <td>0.074599</td>\n",
       "      <td>-0.113547</td>\n",
       "      <td>0.962501</td>\n",
       "      <td>0.980459</td>\n",
       "      <td>1.000000</td>\n",
       "    </tr>\n",
       "  </tbody>\n",
       "</table>\n",
       "</div>"
      ],
      "text/plain": [
       "                         AvgPopulation  Continent_Africa  Continent_Asia  \\\n",
       "AvgPopulation                 1.000000         -0.052941        0.257595   \n",
       "Continent_Africa             -0.052941          1.000000       -0.303746   \n",
       "Continent_Asia                0.257595         -0.303746        1.000000   \n",
       "Continent_Europe             -0.115605         -0.336708       -0.377626   \n",
       "Continent_North America      -0.075573         -0.194852       -0.218531   \n",
       "Continent_Oceania            -0.045097         -0.095816       -0.107461   \n",
       "Continent_South America      -0.017836         -0.155504       -0.174402   \n",
       "BRONZE                        0.189249         -0.246410       -0.141191   \n",
       "SILVER                        0.242035         -0.233173       -0.135001   \n",
       "GOLD                          0.316857         -0.221086       -0.103805   \n",
       "\n",
       "                         Continent_Europe  Continent_North America  \\\n",
       "AvgPopulation                   -0.115605                -0.075573   \n",
       "Continent_Africa                -0.336708                -0.194852   \n",
       "Continent_Asia                  -0.377626                -0.218531   \n",
       "Continent_Europe                 1.000000                -0.242246   \n",
       "Continent_North America         -0.242246                 1.000000   \n",
       "Continent_Oceania               -0.119122                -0.068935   \n",
       "Continent_South America         -0.193327                -0.111878   \n",
       "BRONZE                           0.447441                -0.076668   \n",
       "SILVER                           0.443068                -0.079965   \n",
       "GOLD                             0.397641                -0.084550   \n",
       "\n",
       "                         Continent_Oceania  Continent_South America    BRONZE  \\\n",
       "AvgPopulation                    -0.045097                -0.017836  0.189249   \n",
       "Continent_Africa                 -0.095816                -0.155504 -0.246410   \n",
       "Continent_Asia                   -0.107461                -0.174402 -0.141191   \n",
       "Continent_Europe                 -0.119122                -0.193327  0.447441   \n",
       "Continent_North America          -0.068935                -0.111878 -0.076668   \n",
       "Continent_Oceania                 1.000000                -0.055015  0.071915   \n",
       "Continent_South America          -0.055015                 1.000000 -0.106898   \n",
       "BRONZE                            0.071915                -0.106898  1.000000   \n",
       "SILVER                            0.055940                -0.114895  0.983944   \n",
       "GOLD                              0.074599                -0.113547  0.962501   \n",
       "\n",
       "                           SILVER      GOLD  \n",
       "AvgPopulation            0.242035  0.316857  \n",
       "Continent_Africa        -0.233173 -0.221086  \n",
       "Continent_Asia          -0.135001 -0.103805  \n",
       "Continent_Europe         0.443068  0.397641  \n",
       "Continent_North America -0.079965 -0.084550  \n",
       "Continent_Oceania        0.055940  0.074599  \n",
       "Continent_South America -0.114895 -0.113547  \n",
       "BRONZE                   0.983944  0.962501  \n",
       "SILVER                   1.000000  0.980459  \n",
       "GOLD                     0.980459  1.000000  "
      ]
     },
     "execution_count": 84,
     "metadata": {},
     "output_type": "execute_result"
    }
   ],
   "source": [
    "correlation_matrix"
   ]
  },
  {
   "cell_type": "code",
   "execution_count": 85,
   "id": "19430a17",
   "metadata": {},
   "outputs": [
    {
     "data": {
      "image/png": "[encoded data removed]",
      "text/plain": [
       "<Figure size 800x600 with 2 Axes>"
      ]
     },
     "metadata": {},
     "output_type": "display_data"
    }
   ],
   "source": [
    "plt.figure(figsize=(8, 6))\n",
    "sns.heatmap(correlation_matrix, annot=True, cmap='coolwarm', center=0)\n",
    "plt.title('Correlation Matrix Heatmap')\n",
    "plt.show()"
   ]
  },
  {
   "cell_type": "markdown",
   "id": "e4074a99",
   "metadata": {},
   "source": [
    "### *As the above data shows, if the country is from Europe or from Oceania/Australia\n",
    "### *It has more probability of receiving any medals"
   ]
  },
  {
   "cell_type": "markdown",
   "id": "47abf4c6",
   "metadata": {},
   "source": [
    "## Visualization"
   ]
  },
  {
   "cell_type": "code",
   "execution_count": null,
   "id": "ea4e4d77",
   "metadata": {},
   "outputs": [],
   "source": []
  },
  {
   "cell_type": "code",
   "execution_count": null,
   "id": "84179035",
   "metadata": {},
   "outputs": [],
   "source": []
  },
  {
   "cell_type": "code",
   "execution_count": null,
   "id": "ab18cfd4",
   "metadata": {},
   "outputs": [],
   "source": []
  },
  {
   "cell_type": "markdown",
   "id": "153a01be",
   "metadata": {},
   "source": [
    "## Team members:\n",
    "\n",
    "#### Shibam Roy \n",
    "role: Data Analyst\n",
    "#### Ankush Roy\n",
    "role: Presentation\n",
    "#### Swadhin Maharana\n",
    "role: Data Analyst\n",
    "#### Debdutta Barman \n",
    "role: Frontend developer"
   ]
  }
 ],
 "metadata": {
  "kernelspec": {
   "display_name": "Python 3 (ipykernel)",
   "language": "python",
   "name": "python3"
  },
  "language_info": {
   "codemirror_mode": {
    "name": "ipython",
    "version": 3
   },
   "file_extension": ".py",
   "mimetype": "text/x-python",
   "name": "python",
   "nbconvert_exporter": "python",
   "pygments_lexer": "ipython3",
   "version": "3.9.13"
  }
 },
 "nbformat": 4,
 "nbformat_minor": 5
}
